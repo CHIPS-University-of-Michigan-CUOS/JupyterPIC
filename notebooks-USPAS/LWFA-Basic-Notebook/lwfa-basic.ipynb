{
 "cells": [
  {
   "cell_type": "markdown",
   "metadata": {},
   "source": [
    "# LWFA Workbook I"
   ]
  },
  {
   "cell_type": "code",
   "execution_count": 1,
   "metadata": {},
   "outputs": [],
   "source": [
    "# **********************************\n",
    "# First Run This Cell to \n",
    "# import the necessary libraries\n",
    "# **********************************\n",
    "#\n",
    "# Please run this cell before running anything, and run this cell again if you have restarted the \n",
    "# python kernel.\n",
    "#\n",
    "# This cell imports useful routines to diagnose the simulations here\n",
    "#\n",
    "\n",
    "%matplotlib inline\n",
    "import osiris\n",
    "from osiris import tajima\n",
    "from lwfa_basic_helper import *\n",
    "import numpy as np\n",
    "import matplotlib.pyplot as plt\n",
    "from osh5vis import osplot\n",
    "from osh5io import read_h5\n",
    "from osh5utils import fft\n",
    "from ipywidgets import interact_manual,Layout,interact, FloatSlider\n",
    "import ipywidgets as widgets\n",
    "interact_calc=interact_manual.options(manual_name=\"Make New Input and Run\")"
   ]
  },
  {
   "cell_type": "markdown",
   "metadata": {},
   "source": [
    "## Here we illustrate and explore the OSIRIS pulse shape"
   ]
  },
  {
   "cell_type": "code",
   "execution_count": 2,
   "metadata": {},
   "outputs": [
    {
     "data": {
      "application/vnd.jupyter.widget-view+json": {
       "model_id": "600515be2b3146daaacffd6eefa1c5bd",
       "version_major": 2,
       "version_minor": 0
      },
      "text/plain": [
       "interactive(children=(FloatSlider(value=1.57, description='$t_{rise}$', max=5.0, step=0.05), FloatSlider(value…"
      ]
     },
     "metadata": {},
     "output_type": "display_data"
    }
   ],
   "source": [
    "# This cell shows the laser envelope shape for given t_rise, t_fall, and Lt.  \n",
    "#\n",
    "interact(laser_envelope, trise=FloatSlider(min=0.00, max=5, step=.05, description='$t_{rise}$', value = 1.57),\n",
    "         tflat=FloatSlider(min=0.00, max=5, step=.05, description='$Lt$', value = 0),\n",
    "         tfall=FloatSlider(min=0.00, max=5, step=.05, description='$t_{fall}$', value = 1.57));"
   ]
  },
  {
   "cell_type": "markdown",
   "metadata": {},
   "source": [
    "## Simulation Sandbox, with moving window\n",
    "The cell below allows you to explore different parameters with a moving window."
   ]
  },
  {
   "cell_type": "code",
   "execution_count": 3,
   "metadata": {},
   "outputs": [
    {
     "data": {
      "application/vnd.jupyter.widget-view+json": {
       "model_id": "7537975d9da94f0cb86d5d9e6b8b9b67",
       "version_major": 2,
       "version_minor": 0
      },
      "text/plain": [
       "interactive(children=(Text(value='casea-moving-24.txt', description='Template Input File:', layout=Layout(widt…"
      ]
     },
     "metadata": {},
     "output_type": "display_data"
    }
   ],
   "source": [
    "## Hit <shift>+<return> to start the widget, which contains a interface to change OSIRIS parameters\n",
    "\n",
    "tajima_moving_widget()"
   ]
  },
  {
   "cell_type": "code",
   "execution_count": 4,
   "metadata": {},
   "outputs": [
    {
     "data": {
      "application/vnd.jupyter.widget-view+json": {
       "model_id": "c630de7e5dae4ffb874cefe065d04a79",
       "version_major": 2,
       "version_minor": 0
      },
      "text/plain": [
       "interactive(children=(IntSlider(value=0, description='file_no', max=10200, step=50), Output()), _dom_classes=(…"
      ]
     },
     "metadata": {},
     "output_type": "display_data"
    }
   ],
   "source": [
    "## Hit <shift>+<return> to look at results\n",
    "\n",
    "dirname = './case1-moving'\n",
    "lwfa_density_plot(dirname)"
   ]
  },
  {
   "cell_type": "code",
   "execution_count": 5,
   "metadata": {},
   "outputs": [
    {
     "data": {
      "application/vnd.jupyter.widget-view+json": {
       "model_id": "2992a19bd3b6404e847e61b25d8684c6",
       "version_major": 2,
       "version_minor": 0
      },
      "text/plain": [
       "interactive(children=(IntSlider(value=0, description='file_no', max=10200, step=50), Output()), _dom_classes=(…"
      ]
     },
     "metadata": {},
     "output_type": "display_data"
    }
   ],
   "source": [
    "## Hit <shift>+<return> to look at results\n",
    "\n",
    "dirname = './case1-moving'\n",
    "lwfa_laser_plot(dirname)"
   ]
  },
  {
   "cell_type": "code",
   "execution_count": 6,
   "metadata": {},
   "outputs": [
    {
     "data": {
      "application/vnd.jupyter.widget-view+json": {
       "model_id": "d92941b1fa9944c4b8ed0380503982d0",
       "version_major": 2,
       "version_minor": 0
      },
      "text/plain": [
       "interactive(children=(IntSlider(value=0, description='file_no', max=10200, step=50), Output()), _dom_classes=(…"
      ]
     },
     "metadata": {},
     "output_type": "display_data"
    }
   ],
   "source": [
    "## Hit <shift>+<return> to look at results\n",
    "\n",
    "dirname = './case1-moving'\n",
    "lwfa_phase_space(dirname)"
   ]
  },
  {
   "cell_type": "code",
   "execution_count": null,
   "metadata": {},
   "outputs": [],
   "source": []
  }
 ],
 "metadata": {
  "kernelspec": {
   "display_name": "Python 3",
   "language": "python",
   "name": "python3"
  },
  "language_info": {
   "codemirror_mode": {
    "name": "ipython",
    "version": 3
   },
   "file_extension": ".py",
   "mimetype": "text/x-python",
   "name": "python",
   "nbconvert_exporter": "python",
   "pygments_lexer": "ipython3",
   "version": "3.7.3"
  }
 },
 "nbformat": 4,
 "nbformat_minor": 2
}
