{
 "cells": [
  {
   "cell_type": "markdown",
   "metadata": {},
   "source": [
    "# Electromagnetic waves interacting with plasmas of different densities"
   ]
  },
  {
   "cell_type": "markdown",
   "metadata": {},
   "source": [
    "In this project you will study what happens when an electromagnetic wave is sent into an unmagnetized plasma. It will illustrate the concepts of cutoffs, reflection, skin depths, and phase and group velocity.\n",
    "\n",
    "You will simulate plasmas in which each plasma electron is initialized with positions (only in x, or what we call $x_1$) such that the plasma has a nonuniform density profile. In some cases, the density is zero until a specific $x_1=30$, at which time it rises sharply to a value of $n_{max}$. It then remains at this value until $x_1=70$, which is the edge of the simulation window. In other cases, the density is zero until $x_1=10$, at which time is rises to a value of $n_{max}$ between $x_1=10$ and $x_1=50$. It then remains constant until $x_1=70$ (the edge of the simulation window).  \n",
    "\n",
    "The spacing between the electrons is proportional to the inverse of the density.  Each electron is also initialized with velocities ($v_1$, $v_2$, $v_3$) = ($.05c$, $.05c$, $.05c$) or momentum ($mv_1$, $mv_2$, $mv_3$) from a Maxwellian in each direction. The particles then begin to move in the self-consistent fields that their current and charge density produce. \n",
    "\n",
    "At $t=0$, an electromagnetic (EM) wave polarized in the $E_3$ direction with a pulse duration of $\\approx 40 \\omega_p^{-1}$ is launched by an antenna from the left hand boundary. The peak amplitude is $E_3 = 0.01 mc\\omega_p/e$.  In the first example, the EM wave has a frequency of $\\omega_0 = 0.707$, while in the later examples it has a frequency of $\\omega_0 = 1.1$. "
   ]
  },
  {
   "cell_type": "markdown",
   "metadata": {},
   "source": [
    "# First:\n",
    "\n",
    "The following lines must always be executed before running anything else:"
   ]
  },
  {
   "cell_type": "code",
   "execution_count": null,
   "metadata": {},
   "outputs": [],
   "source": [
    "import osiris as osiris\n",
    "%matplotlib inline"
   ]
  },
  {
   "cell_type": "markdown",
   "metadata": {},
   "source": [
    "# Run the simulations"
   ]
  },
  {
   "cell_type": "markdown",
   "metadata": {},
   "source": [
    "In the first cases the density will rise sharply:\n",
    "\n",
    "* The length of the simulation window is 70 $c/\\omega_p$.\n",
    "* There is no plasma between $x_1=0$ and $x_1=30$.\n",
    "* For $x_1 > 30$, the density is $n_0$ and the corresponding plasma frequency is $\\omega_{p0}$.\n",
    "* The simulation will run for a time of about 150 $\\omega_{p0}^{-1}$.\n",
    "* The simulation uses 56,000 particles.\n",
    "\n",
    "In one case $\\omega_0 = 0.707\\omega_{p0}$ while in a second case $\\omega_0 = 1.1\\omega_{p0}$."
   ]
  },
  {
   "cell_type": "code",
   "execution_count": null,
   "metadata": {},
   "outputs": [],
   "source": [
    "dirname = 'wall'\n",
    "osiris.runosiris(rundir=dirname,inputfile='wall.txt')"
   ]
  },
  {
   "cell_type": "code",
   "execution_count": null,
   "metadata": {},
   "outputs": [],
   "source": [
    "dirname = 'wall-over'\n",
    "osiris.runosiris(rundir=dirname,inputfile='wall-over.txt')"
   ]
  },
  {
   "cell_type": "markdown",
   "metadata": {},
   "source": [
    "In the second group of cases, the density will rise linearly (proportionally to $x_1$): \n",
    "\n",
    "* The length of the simulation window is 70 $c/\\omega_p$.\n",
    "* There is no plasma between $x_1=0$ and $x_1=10$.\n",
    "* The plasma rises linearly from $x_1=10$ to $x_1=50$ to a value $n_0$ and the corresponding plasma frequency is $\\omega_{p0}$. \n",
    "* The simulation will run for a time of about 150 $\\omega_{p0}^{-1}$. \n",
    "* The simulation uses 56,000 particles.\n",
    "\n",
    "In one case $\\omega_0 = 0.707\\omega_{p0}$ while in a second case $\\omega_0 = 1.1\\omega_{p0}$."
   ]
  },
  {
   "cell_type": "code",
   "execution_count": null,
   "metadata": {},
   "outputs": [],
   "source": [
    "dirname = 'grad'\n",
    "osiris.runosiris(rundir=dirname,inputfile='grad.txt')"
   ]
  },
  {
   "cell_type": "code",
   "execution_count": null,
   "metadata": {},
   "outputs": [],
   "source": [
    "dirname = 'grad-over'\n",
    "osiris.runosiris(rundir=dirname,inputfile='grad-over.txt')"
   ]
  },
  {
   "cell_type": "markdown",
   "metadata": {},
   "source": [
    "## Light wave incident on a very sharp density gradient"
   ]
  },
  {
   "cell_type": "code",
   "execution_count": null,
   "metadata": {},
   "outputs": [],
   "source": [
    "dirname = 'wall'\n",
    "osiris.phasespace(rundir=dirname,dataset='x1',time=0,xlim=[0,70])"
   ]
  },
  {
   "cell_type": "markdown",
   "metadata": {},
   "source": [
    "Next, you will be plotting $E_3(t, x_1)$, where the color corresponds to the amplitude of the EM wave. \n",
    "\n",
    "In the first case the density rises sharply and $\\omega_0 = 0.707\\omega_{p0}$."
   ]
  },
  {
   "cell_type": "code",
   "execution_count": null,
   "metadata": {},
   "outputs": [],
   "source": [
    "dirname = 'wall'\n",
    "osiris.plot_tx(rundir=dirname, plot_or=3, xlim=[0,70], tlim=[0,150], vmin=-0.01,vmax=0.01, cmap='jet',\n",
    "              show_cutoff=True)"
   ]
  },
  {
   "cell_type": "markdown",
   "metadata": {},
   "source": [
    "* What happened? \n",
    "* Is the EM wave reflected, absorbed, or transmitted? "
   ]
  },
  {
   "cell_type": "code",
   "execution_count": null,
   "metadata": {},
   "outputs": [],
   "source": [
    "dirname = 'wall'\n",
    "osiris.plot_tx(rundir=dirname, plot_or=3, xlim=[27,33], tlim=[0,150], vmin=-0.01,vmax=0.01, cmap='jet',\n",
    "              show_cutoff=True)"
   ]
  },
  {
   "cell_type": "markdown",
   "metadata": {},
   "source": [
    "* Try to interpert this plot in terms of page 121 in the notes."
   ]
  },
  {
   "cell_type": "markdown",
   "metadata": {},
   "source": [
    "## Light wave traveling up a density gradient"
   ]
  },
  {
   "cell_type": "markdown",
   "metadata": {},
   "source": [
    "Next, the density rises linearly and $\\omega_0 = 0.707\\omega_{p0}$."
   ]
  },
  {
   "cell_type": "code",
   "execution_count": null,
   "metadata": {},
   "outputs": [],
   "source": [
    "dirname = 'grad'\n",
    "osiris.phasespace(rundir=dirname,dataset='x1',time=0,xlim=[0,70])"
   ]
  },
  {
   "cell_type": "code",
   "execution_count": null,
   "metadata": {},
   "outputs": [],
   "source": [
    "dirname = 'grad'\n",
    "osiris.plot_tx(rundir=dirname, b0_mag=0.0, plot_or=3, xlim=[0,70], tlim=[0,160], vmin=-0.01,vmax=0.01, cmap='jet',\n",
    "              show_cutoff=True)"
   ]
  },
  {
   "cell_type": "markdown",
   "metadata": {},
   "source": [
    "* What looks different in this case? \n",
    "* Is the EM wave reflected and absorbed? \n",
    "* At what density does it get absorbed, reflected, or transmitted? \n",
    "* Can you measure the phase velocity and group velocity where it is reflected? \n",
    "* Do the phase and group velocity change as the wave moves up the density gradient?  \n",
    "* Is this all consistent with the dispersion relation?"
   ]
  },
  {
   "cell_type": "markdown",
   "metadata": {},
   "source": [
    "## Light waves with frequency above the electron plasma frequency"
   ]
  },
  {
   "cell_type": "markdown",
   "metadata": {},
   "source": [
    "For the next two cases $\\omega_0 = 1.1\\omega_{p0}$.\n",
    "\n",
    "In the first case, the density rises sharply and $\\omega_0 = 1.1\\omega_{p0}$. "
   ]
  },
  {
   "cell_type": "code",
   "execution_count": null,
   "metadata": {},
   "outputs": [],
   "source": [
    "dirname = 'wall-over'\n",
    "osiris.phasespace(rundir=dirname,dataset='x1',time=0,xlim=[0,70])"
   ]
  },
  {
   "cell_type": "code",
   "execution_count": null,
   "metadata": {},
   "outputs": [],
   "source": [
    "dirname = 'wall-over'\n",
    "osiris.plot_tx(rundir=dirname, plot_or=3, xlim=[0,70], tlim=[0,160], vmin=-0.02,vmax=0.02, cmap='jet',\n",
    "              show_cutoff=True)"
   ]
  },
  {
   "cell_type": "markdown",
   "metadata": {},
   "source": [
    "* What happened in this case? \n",
    "* Is the EM wave reflected and/or transmitted?  \n",
    "* How do the phase and group velocity change as the EM wave reaches the peak density?\n",
    "\n",
    "In the second case the density rises linearly and $\\omega_0 = 1.1\\omega_{p0}$. "
   ]
  },
  {
   "cell_type": "code",
   "execution_count": null,
   "metadata": {},
   "outputs": [],
   "source": [
    "dirname = 'grad-over'\n",
    "osiris.phasespace(rundir=dirname,dataset='x1',time=0,xlim=[0,70])"
   ]
  },
  {
   "cell_type": "code",
   "execution_count": null,
   "metadata": {},
   "outputs": [],
   "source": [
    "dirname = 'grad-over'\n",
    "osiris.plot_tx(rundir=dirname, b0_mag=0.0, plot_or=3, xlim=[0,70], tlim=[0,160], vmin=-0.02,vmax=0.02, cmap='jet',\n",
    "              show_cutoff=True)"
   ]
  },
  {
   "cell_type": "markdown",
   "metadata": {},
   "source": [
    "* What happened in this case? \n",
    "* Is the EM wave reflected or transmitted?  \n",
    "* How do the phase and group velocity change as the EM propagates up the density gradient and reaches the peak density?  \n",
    "* Estimate the phase and group velocity at the peak density, does it agree with the dispersion relation?"
   ]
  }
 ],
 "metadata": {
  "anaconda-cloud": {},
  "kernelspec": {
   "display_name": "Python 3",
   "language": "python",
   "name": "python3"
  },
  "language_info": {
   "codemirror_mode": {
    "name": "ipython",
    "version": 3
   },
   "file_extension": ".py",
   "mimetype": "text/x-python",
   "name": "python",
   "nbconvert_exporter": "python",
   "pygments_lexer": "ipython3",
   "version": "3.7.6"
  }
 },
 "nbformat": 4,
 "nbformat_minor": 2
}
