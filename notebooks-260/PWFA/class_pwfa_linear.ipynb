{
 "cells": [
  {
   "cell_type": "markdown",
   "metadata": {},
   "source": [
    "# The Beam Driven Plasma Wake Field Acceleration (Linear regime)\n",
    "## Theory\n",
    "\n",
    "As we have seen, our goal is to calculate the accelerating force and the focusing force of an electron in the wakefield, which are the longitudinal and transverse gradient of $\\psi$. So our goal reduces to calculating $\\psi$.\n",
    "\n",
    "We will calculate $\\psi$ by solving the Poisson-like equation: \n",
    "\n",
    "$-{\\nabla_\\perp}^2 \\psi = {\\rho} - J_z$. \n",
    "\n",
    "We keep to keep in mind that the beam's contribution to the RHS is 0 because beam moves at (nearly) speed of light. So the contribution to the RHS comes from the first order plasma electrons. Finally we can get:\n",
    "\n",
    "${\\nabla_\\perp}^2 \\psi = -\\rho_1 - v_{z1}$. \n",
    "\n",
    "Then we will use an important conservation law: $\\gamma - p_z = 1 + \\psi$ (See the appendix for the proof).\n",
    "\n",
    "For a plasma electron: $\\gamma = 1$ because it is non-relativistic.\n",
    "\n",
    "So $1 - v_{z1} = 1 + \\psi$. So $v_{z1} =- \\psi$. So finally we get:\n",
    "\n",
    "$({\\nabla_\\perp}^2 - 1) \\psi= -\\rho_1$. \n",
    "\n",
    "However, we need one more equation to relate the plasma density to the beam density.\n",
    "\n",
    "We start from the continuity equation for plasma electrons: $\\frac{\\partial \\rho}{\\partial t} + \\nabla \\cdot (\\rho v) = 0$. Linearize it, we have: $\\frac{\\partial \\rho_1}{\\partial t} - \\nabla \\cdot \\textbf v_1 = 0$\n",
    "\n",
    "Apply $\\frac{\\partial}{\\partial t}$ to the equation above, we have: $\\frac{\\partial^2 \\rho_1}{\\partial t^2} - \\nabla \\cdot \\frac{\\partial \\textbf v_{1}}{\\partial t} = 0$\n",
    "\n",
    "From linearized Euler equation: $\\frac{\\partial \\textbf v_{1}}{\\partial t} = -\\textbf E_1$. Substitute this into the equation above, we have: $\\frac{\\partial^2 \\rho_1}{\\partial t^2} + \\nabla \\cdot \\textbf E_1 = 0$\n",
    "\n",
    "From linearized Gauss's law: $\\nabla \\cdot \\textbf E_1 = \\rho_1 + \\rho_{b1}$,  Plug this into the equation above, we have: $\\frac{\\partial^2 \\rho_1}{\\partial t^2} + \\rho_1 = -\\rho_{b1} $. \n",
    "\n",
    "Apply QSA, we have: $\\frac{\\partial^2 \\rho_1}{\\partial \\xi^2} + \\rho_1 = -\\rho_b $,where $\\rho_b$ is given. \n",
    "\n",
    "So far we get two coupled equations:\n",
    "\n",
    "$({\\nabla_\\perp}^2 - 1) \\psi= -\\rho_1$, $(\\frac{\\partial^2 }{\\partial \\xi^2} + 1)\\rho_1 = -\\rho_b $\n",
    "\n",
    "Eliminate $n_1$ we get:\n",
    "\n",
    "$(\\frac{\\partial^2 }{\\partial \\xi^2} + 1)({\\nabla_\\perp}^2 - 1) \\psi= \\rho_b$\n",
    "\n",
    "We assume that the $x_{\\perp}$ and $\\xi$ are separatable in $n_b$ and $\\psi$. So:\n",
    "\n",
    "$(\\frac{\\partial^2 }{\\partial \\xi^2} + 1)\\psi(\\xi)= \\rho_b(\\xi)$\n",
    "\n",
    "$({\\nabla_\\perp}^2 - 1) \\psi(\\textbf x_{\\perp})= \\rho_b(\\textbf x_{\\perp})$\n",
    "\n",
    "We search for the Green's functions:\n",
    "\n",
    "$(\\frac{\\partial^2 }{\\partial \\xi^2} + 1)G(\\xi)=\\delta(\\xi)$, $({\\nabla_\\perp}^2 - 1) G(\\textbf x_{\\perp})= \\delta(\\textbf x_{\\perp})$ \n",
    "\n",
    "And $\\psi = (G(\\xi) * \\rho_b(\\xi))( G(\\textbf x_{\\perp})*\\rho_b(\\textbf x_{\\perp}))$ ($*$ is the convolution)\n",
    "\n",
    "\n"
   ]
  },
  {
   "cell_type": "markdown",
   "metadata": {},
   "source": [
    "## Simulation\n",
    "### 1. Make an input file"
   ]
  },
  {
   "cell_type": "code",
   "execution_count": null,
   "metadata": {},
   "outputs": [],
   "source": [
    "from importlib import reload\n",
    "import qphelper\n",
    "qphelper = reload(qphelper)\n",
    "qphelper.makeWidgetsForLinearInput()"
   ]
  },
  {
   "cell_type": "markdown",
   "metadata": {},
   "source": [
    "### 2. Run QuickPIC simulation"
   ]
  },
  {
   "cell_type": "code",
   "execution_count": null,
   "metadata": {},
   "outputs": [],
   "source": [
    "import quickpic\n",
    "qphelper.deleteAllOutput()\n",
    "quickpic.runqpic(rundir='',inputfile='qpinput.json')"
   ]
  },
  {
   "cell_type": "markdown",
   "metadata": {},
   "source": [
    "### 3. Visualize the output data"
   ]
  },
  {
   "cell_type": "code",
   "execution_count": null,
   "metadata": {
    "scrolled": false
   },
   "outputs": [],
   "source": [
    "isLinear = True\n",
    "qphelper = reload(qphelper)\n",
    "qphelper.makeplot(isLinear)"
   ]
  }
 ],
 "metadata": {
  "kernelspec": {
   "display_name": "Python 3",
   "language": "python",
   "name": "python3"
  },
  "language_info": {
   "codemirror_mode": {
    "name": "ipython",
    "version": 3
   },
   "file_extension": ".py",
   "mimetype": "text/x-python",
   "name": "python",
   "nbconvert_exporter": "python",
   "pygments_lexer": "ipython3",
   "version": "3.6.8"
  }
 },
 "nbformat": 4,
 "nbformat_minor": 2
}
