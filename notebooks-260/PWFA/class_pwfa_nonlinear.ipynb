{
 "cells": [
  {
   "cell_type": "markdown",
   "metadata": {},
   "source": [
    "# The Beam Driven Plasma Wake Field Acceleration (Nonlinear regime)"
   ]
  },
  {
   "cell_type": "markdown",
   "metadata": {},
   "source": [
    "## Our main goal is to calculate the accelerating field: $E_z$ and the focusing force: $\\textbf F_\\perp$\n",
    "\n",
    "Starting from Maxwell equations in Lorentz gauge: $(\\frac{\\partial^2}{\\partial t^2}-{\\nabla}^2)\\textbf A =  \\textbf J$ , $(\\frac{\\partial^2}{\\partial t^2}-{\\nabla}^2)\\phi = \\rho$\n",
    "\n",
    "Apply quasistatic approximation: $-{\\nabla_\\perp}^2\\textbf A(x,y,\\xi) =  \\textbf J(x,y,\\xi)$ , $-{\\nabla_\\perp}^2 \\phi(x,y,\\xi) = \\rho(x,y,\\xi)$. So:\n",
    "\n",
    "* ${\\nabla_\\perp}^2 \\psi = -({\\rho} - J_z)$ , where $\\psi = \\phi - A_z$ called pseudo potential.\n",
    "\n",
    "Calculating fields from the potentials: $\\textbf B = \\nabla  \\times \\textbf A$, $\\textbf E = -\\nabla \\phi - \\frac{1}{c}\\frac{\\partial \\textbf A}{\\partial t}$ and Lorentz force: $\\textbf F =-( \\textbf E + \\hat{z} \\times \\textbf B)$, we get:\n",
    "\n",
    "* The accelerating field is : $E_z = \\frac{\\partial \\psi}{\\partial \\xi}$ \n",
    "* The focusing force is : $\\textbf F_\\perp = \\nabla_\\perp \\psi$\n",
    "\n",
    "Our goal reduces to solving for $\\psi$. It is a 2D poisson equation! But we need to make some assumptions about the source term: $-({\\rho} - J_z)$ \n",
    "\n",
    "We assume the source term to have the following profile:"
   ]
  },
  {
   "cell_type": "code",
   "execution_count": null,
   "metadata": {},
   "outputs": [],
   "source": [
    "from importlib import reload\n",
    "import qphelper\n",
    "qphelper = reload(qphelper)\n",
    "qphelper.plotSourceProfile()"
   ]
  },
  {
   "cell_type": "markdown",
   "metadata": {},
   "source": [
    "The peak density in the sheath is determined from the continuity equation. For any $\\xi$ we have: $\\int_0^{\\infty}(\\rho - J_z) r dr = 0$. From this we get the peak density in the sheath is: $\\frac{r_b^2}{(r_b + \\Delta)^2 - r_b^2}$\n",
    "\n",
    "So far we have got the source profile. So we can solve the 2D poisson equation (Actually, just 1D in $r$ since we assume azimuthal symmetry) and get $\\psi$. The final solution is:\n",
    "\n",
    "$\\psi(r,\\xi) = \\psi_0(\\xi) - \\frac{r^2}{4} = \\frac{r_b(\\xi)^2}{4}(1+\\beta) - \\frac{r^2}{4}$ where $\\beta = \\frac{(1+\\alpha)^2 \\ln(1+\\alpha)^2}{(1+\\alpha)^2-1}-1 $, and $\\alpha = \\frac{\\Delta}{r_b}$\n",
    "\n",
    " \n",
    "* The focusing force is : $\\textbf F_\\perp = \\nabla_\\perp \\psi = - \\frac{\\textbf r}{2} $, which is independent of $\\xi$!\n",
    "* The accelerating field is : $E_z = \\frac{\\partial \\psi}{\\partial \\xi}= \\frac{d \\psi_0(\\xi)}{d \\xi}$, which is independent of $r$!\n",
    " \n",
    "In the untrarelativistic limit, $\\alpha$ goes to 0, $\\beta$ goes to 0 as well. Then:\n",
    "\n",
    "$E_z(\\xi) = \\frac{d}{d \\xi}(\\frac{r_b(\\xi)^2}{4}) = \\frac{1}{2}r_b(\\xi)\\frac{dr_b(\\xi)}{d\\xi}$"
   ]
  },
  {
   "cell_type": "markdown",
   "metadata": {},
   "source": [
    "## 1. Make an input file"
   ]
  },
  {
   "cell_type": "code",
   "execution_count": null,
   "metadata": {
    "scrolled": false
   },
   "outputs": [],
   "source": [
    "from importlib import reload\n",
    "import qphelper\n",
    "qphelper = reload(qphelper)\n",
    "qphelper.makeWidgetsForInput()"
   ]
  },
  {
   "cell_type": "markdown",
   "metadata": {},
   "source": [
    "## 2. Run QuickPIC simulation"
   ]
  },
  {
   "cell_type": "code",
   "execution_count": null,
   "metadata": {},
   "outputs": [],
   "source": [
    "import quickpic\n",
    "qphelper.deleteAllOutput()\n",
    "quickpic.runqpic(rundir='',inputfile='qpinput.json')"
   ]
  },
  {
   "cell_type": "markdown",
   "metadata": {},
   "source": [
    "## 3. Visualize the output data"
   ]
  },
  {
   "cell_type": "code",
   "execution_count": null,
   "metadata": {
    "scrolled": false
   },
   "outputs": [],
   "source": [
    "isLinear = False\n",
    "qphelper = reload(qphelper)\n",
    "qphelper.makeplot(isLinear)"
   ]
  },
  {
   "cell_type": "code",
   "execution_count": null,
   "metadata": {},
   "outputs": [],
   "source": []
  }
 ],
 "metadata": {
  "kernelspec": {
   "display_name": "Python 3",
   "language": "python",
   "name": "python3"
  },
  "language_info": {
   "codemirror_mode": {
    "name": "ipython",
    "version": 3
   },
   "file_extension": ".py",
   "mimetype": "text/x-python",
   "name": "python",
   "nbconvert_exporter": "python",
   "pygments_lexer": "ipython3",
   "version": "3.6.8"
  }
 },
 "nbformat": 4,
 "nbformat_minor": 2
}
