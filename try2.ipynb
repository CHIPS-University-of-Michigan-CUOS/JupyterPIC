{
 "cells": [
  {
   "cell_type": "code",
   "execution_count": 2,
   "metadata": {},
   "outputs": [],
   "source": [
    "#importing libraries\n",
    "import numpy as np\n",
    "import matplotlib.pyplot as plt\n",
    "import random\n",
    "import sys\n",
    "from scipy.stats import norm"
   ]
  },
  {
   "cell_type": "code",
   "execution_count": 3,
   "metadata": {},
   "outputs": [],
   "source": [
    "#c=e=em=mu=1, de0=1, we0=1\n",
    "#function to initialize uniform slab of particles with density n0, temperature T0, \n",
    "#flow velocity V0, number of paricles NPIC (of e only), mass ratio MMI\n",
    "def init_maxw(xmin=1.0, xmax=9.0, n0=1, T0=0.01, V0=0.0, NPIC=1000, MMI=100):\n",
    "    xe=[]\n",
    "    pex=[]\n",
    "    pey=[]\n",
    "    pez=[]\n",
    "    xi=[]\n",
    "    pix=[]\n",
    "    piy=[]\n",
    "    piz=[]    \n",
    "    i=0\n",
    "    while (i<NPIC):\n",
    "        xe.append(xmin+(xmax-xmin)*random.random())\n",
    "        while True:\n",
    "            x=5*(random.random()-0.5)\n",
    "            y=random.random()\n",
    "            if(np.exp(-x*x)>=y):\n",
    "                pex.append(2*np.sqrt(2*T0)*x)\n",
    "                break\n",
    "        while True:\n",
    "            x=5*(random.random()-0.5)\n",
    "            y=random.random()\n",
    "            if(np.exp(-x*x)>=y):\n",
    "                pey.append(2*np.sqrt(2*T0)*x)\n",
    "                break\n",
    "        while True:\n",
    "            x=5*(random.random()-0.5)\n",
    "            y=random.random()\n",
    "            if(np.exp(-x*x)>=y):\n",
    "                pez.append(2*np.sqrt(2*T0)*x)\n",
    "                break\n",
    "        while True:\n",
    "            x=5*(random.random()-0.5)\n",
    "            y=random.random()\n",
    "            if(np.exp(-x*x)>=y):\n",
    "                pix.append(2*np.sqrt(2*T0/MMI)*x)\n",
    "                break\n",
    "        while True:\n",
    "            x=5*(random.random()-0.5)\n",
    "            y=random.random()\n",
    "            if(np.exp(-x*x)>=y):\n",
    "                piy.append(2*np.sqrt(2*T0/MMI)*x)\n",
    "                break\n",
    "        while True:\n",
    "            x=5*(random.random()-0.5)\n",
    "            y=random.random()\n",
    "            if(np.exp(-x*x)>=y):\n",
    "                piz.append(2*np.sqrt(2*T0/MMI)*x)\n",
    "                break\n",
    "        i+=1\n",
    "    xi=xe\n",
    "    return xe, pex, pey, pez, xi, pix, piy, piz\n",
    "\n",
    "#define shape function of the particle\n",
    "def shapefunc(x, xpart):\n",
    "    shapewidth=0.2 #in de0; CHANGE THIS!!!\n",
    "    if (np.abs(x-xpart)<shapewidth):\n",
    "        return 1.0\n",
    "    else:\n",
    "        return 0.0\n",
    "\n",
    "#define charge and current deposition routine onto the grid\n",
    "def rho_current_deposition(xe, pex, pey, pez, xi, pix, piy, piz, grid):\n",
    "    rho=[0.0 for x in range(len(grid))]\n",
    "    i=0\n",
    "    while (i<len(grid)):\n",
    "        xgrid=grid[i]\n",
    "        for xx in xi:\n",
    "            rho[i]+=shapefunc(xgrid, xx)\n",
    "        for xx in xe:\n",
    "            rho[i]-=shapefunc(xgrid, xx) #!!! normalization?    \n",
    "        i+=1        \n",
    "    return rho\n",
    "#, current_x, current_y, current_z\n",
    "\n",
    "#define field evolution routine: electrostatic to start with\n",
    "\n",
    "def field_evolution_es(ex,ey,ez,grid,rho,dt):\n",
    "    kx=[2*np.pi*i/(grid[-1]-grid[0]) for i in range(len(grid))]\n",
    "    rhofft=np.fft.fft(rho)\n",
    "    print(len(grid))\n",
    "    exfft=np.array(len(grid),dtype=complex)\n",
    "    for i in range(len(grid)):\n",
    "        print(i)\n",
    "        if(i!=0):\n",
    "            exfft[i]=rho[i]*(len(grid)*grid[1]-grid[0])/(2*np.pi*i)\n",
    "    \n",
    "    \n",
    "    # exfft=[-4*np.pi*1j*x/y for x,y in zip(rhofft,kx)]\n",
    "    exfft[0]=0.0\n",
    "    exnew=np.fft.ifft(exfft)\n",
    "    eynew=rho\n",
    "    eznew=rho\n",
    "    \n",
    "    return exnew,eynew,eznew\n",
    "\n",
    "#define particle pushing routine, leapfrog scheme\n",
    "\n",
    "def push_particles(ex, ey, ez, xe, pex, pey, pez, xi, pix, piy, piz, grid, dt, MMI):\n",
    "    #iterate over all electrons\n",
    "    for i in range(len(xe)):\n",
    "        Fx=0\n",
    "        Fy=0\n",
    "        Fz=0\n",
    "\n",
    "        #collect Fx onto the particle i from all grid cells\n",
    "        for k in range(len(grid)):\n",
    "            Fx+=ex[k]*shapefunc(grid[k],xe[i])\n",
    "\n",
    "        #push particle \n",
    "        pex[i]-=0.5*dt*Fx #now it is pex at 1/2 step\n",
    "        xe[i]+=dt*pex[i]\n",
    "        \n",
    "        #recalculate coordinate if particle is away from the grid after the push\n",
    "        if (xe[i]<grid[0]):\n",
    "            xe[i]=grid[-1]+xe[i]-grid[0]\n",
    "        if (xe[i]>grid[-1]):\n",
    "            xe[i]=-grid[-1]+xe[i]+grid[0]\n",
    "\n",
    "    #iterate over all ions\n",
    "    for i in range(len(xi)):\n",
    "        Fx=0\n",
    "        Fy=0\n",
    "        Fz=0\n",
    "        \n",
    "        #collect Fx onto the particle i from all grid cells\n",
    "        for k in range(len(grid)):\n",
    "            Fx+=ex[k]*shapefunc(grid[k],xi[i])\n",
    "        \n",
    "        #push particle \n",
    "        pix[i]+=0.5*dt*Fx/MMI\n",
    "        xi[i]+=dt*pix[i]\n",
    "        \n",
    "        #recalculate coordinate if particle is away from the grid after the push        \n",
    "        if (xi[i]<grid[0]):\n",
    "            xi[i]=grid[-1]+xi[i]-grid[0]\n",
    "        if (xi[i]>grid[-1]):\n",
    "            xi[i]=-grid[-1]+xi[i]+grid[0]\n",
    "        \n",
    "    return xe, pex, pey, pez, xi, pix, piy, piz\n",
    "\n",
    "#define a function that pushes velocities from i+1/2 to i+1 timestep\n",
    "\n",
    "def fix_velocities(ex, ey, ez, xe, pex, pey, pez, xi, pix, piy, piz, grid, dt, MMI):\n",
    "    #iterate over all electrons\n",
    "    for i in range(len(xe)):\n",
    "        Fx=0\n",
    "        Fy=0\n",
    "        Fz=0\n",
    "\n",
    "        #collect Fx onto the particle i from all grid cells\n",
    "        for k in range(len(grid)):\n",
    "            Fx+=ex[k]*shapefunc(grid[k],xe[i])\n",
    "\n",
    "        #push particle \n",
    "        pex[i]-=0.5*dt*Fx #now it is pex at 1/2 step\n",
    "        \n",
    "    #iterate over all ions\n",
    "    for i in range(len(xi)):\n",
    "        Fx=0\n",
    "        Fy=0\n",
    "        Fz=0\n",
    "        \n",
    "        #collect Fx onto the particle i from all grid cells\n",
    "        for k in range(len(grid)):\n",
    "            Fx+=ex[k]*shapefunc(grid[k],xi[i])\n",
    "        \n",
    "        #push particle \n",
    "        pix[i]+=0.5*dt*Fx/MMI\n",
    "            \n",
    "    \n",
    "    return pex, pey, pez, pix, piy, piz\n",
    "\n",
    "\n"
   ]
  },
  {
   "cell_type": "code",
   "execution_count": 58,
   "metadata": {},
   "outputs": [
    {
     "name": "stdout",
     "output_type": "stream",
     "text": [
      "Nstep= 1 , time= 0.05 wpe0^-1, Tex= 0.0964\n"
     ]
    },
    {
     "name": "stderr",
     "output_type": "stream",
     "text": [
      "//anaconda3/lib/python3.7/site-packages/ipykernel_launcher.py:83: RuntimeWarning: invalid value encountered in cdouble_scalars\n",
      "//anaconda3/lib/python3.7/site-packages/ipykernel_launcher.py:29: ComplexWarning: Casting complex values to real discards the imaginary part\n"
     ]
    },
    {
     "name": "stdout",
     "output_type": "stream",
     "text": [
      "Nstep= 2 , time= 0.1 wpe0^-1, Tex= 0.0964\n",
      "Nstep= 3 , time= 0.15 wpe0^-1, Tex= 0.0964\n",
      "Nstep= 4 , time= 0.2 wpe0^-1, Tex= 0.0964\n",
      "Nstep= 5 , time= 0.25 wpe0^-1, Tex= 0.0964\n",
      "Nstep= 6 , time= 0.3 wpe0^-1, Tex= 0.0964\n",
      "Nstep= 7 , time= 0.35 wpe0^-1, Tex= 0.0964\n",
      "Nstep= 8 , time= 0.4 wpe0^-1, Tex= 0.0964\n",
      "Nstep= 9 , time= 0.45 wpe0^-1, Tex= 0.0964\n",
      "Nstep= 10 , time= 0.5 wpe0^-1, Tex= 0.0964\n",
      "Nstep= 11 , time= 0.55 wpe0^-1, Tex= 0.0964\n",
      "Nstep= 12 , time= 0.6 wpe0^-1, Tex= 0.0964\n",
      "Nstep= 13 , time= 0.65 wpe0^-1, Tex= 0.0964\n",
      "Nstep= 14 , time= 0.7 wpe0^-1, Tex= 0.0964\n",
      "Nstep= 15 , time= 0.75 wpe0^-1, Tex= 0.0964\n",
      "Nstep= 16 , time= 0.8 wpe0^-1, Tex= 0.0964\n",
      "Nstep= 17 , time= 0.85 wpe0^-1, Tex= 0.0964\n",
      "Nstep= 18 , time= 0.9 wpe0^-1, Tex= 0.0964\n",
      "Nstep= 19 , time= 0.95 wpe0^-1, Tex= 0.0964\n",
      "Nstep= 20 , time= 1.0 wpe0^-1, Tex= 0.0964\n"
     ]
    }
   ],
   "source": [
    "#initialize simulation\n",
    "dt=0.05 #0.01* wpe0^-1\n",
    "Tfinish=1 #10* wpe0^-1\n",
    "xmin=0.0 #zero de0\n",
    "xmax=10.0 #ten de0\n",
    "T0=0.05 # in dim units\n",
    "n0=1 # in dim units\n",
    "Nsteps=int(Tfinish/dt)\n",
    "Ngrid=100 #number of grid cells\n",
    "MMI=100 #mass ratio\n",
    "grid=[xmin+i*xmax/Ngrid for i in range(Ngrid)]\n",
    "ex=[0.0 for i in range(Ngrid)]\n",
    "ey=[0.0 for i in range(Ngrid)]\n",
    "ez=[0.0 for i in range(Ngrid)]\n",
    "[xe, pex, pey, pez, xi, pix, piy, piz] = init_maxw(xmin=0.0, xmax=10.0, n0=n0, T0=T0, V0=0.0, NPIC=1000, MMI=2000)\n",
    "\n",
    "\n",
    "if(dt>(xmax-xmin)/Ngrid):\n",
    "    print(\"CFL > 1, integrator is unstable!\")\n",
    "    \n",
    "if(np.sqrt(T0/n0)<(xmax-xmin)/Ngrid):\n",
    "    print(\"Warning! Debye length is not resolved!\")\n",
    "\n",
    "i=0\n",
    "while (i<Nsteps):\n",
    "#    plt.hist(pex,20)\n",
    "#    plt.show()\n",
    "    mu, std = norm.fit(pex)\n",
    "    print(\"Nstep=\",str(i+1), \", time=\",str(int((i+1)*dt*1000)/1000), \"wpe0^-1, Tex=\",str(int(std*std/2.0*10000)/10000))\n",
    "    [xe, pex, pey, pez, xi, pix, piy, piz] = push_particles(ex, ey, ez, xe, pex, pey, pez, xi, pix, piy, piz, grid, dt, MMI)\n",
    "    rho = rho_current_deposition(xe, pex, pey, pez, xi, pix, piy, piz,grid)\n",
    "    [ex,ey,ez] = field_evolution_es(ex,ey,ez,grid,rho,dt)\n",
    "    [pex, pey, pez, pix, piy, piz] = fix_velocities(ex, ey, ez, xe, pex, pey, pez, xi, pix, piy, piz, grid, dt, MMI)\n",
    "#    plt.plot(grid,ex)\n",
    "#    plt.show()\n",
    "    i+=1"
   ]
  },
  {
   "cell_type": "code",
   "execution_count": 42,
   "metadata": {},
   "outputs": [
    {
     "name": "stderr",
     "output_type": "stream",
     "text": [
      "//anaconda3/lib/python3.7/site-packages/ipykernel_launcher.py:2: UserWarning: Data has no positive values, and therefore cannot be log-scaled.\n",
      "  \n"
     ]
    },
    {
     "data": {
      "image/png": "[encoded data removed]",
      "text/plain": [
       "<Figure size 432x288 with 1 Axes>"
      ]
     },
     "metadata": {
      "needs_background": "light"
     },
     "output_type": "display_data"
    }
   ],
   "source": [
    "plt.plot(grid,ex)\n",
    "plt.yscale(\"log\")"
   ]
  },
  {
   "cell_type": "code",
   "execution_count": 95,
   "metadata": {},
   "outputs": [
    {
     "data": {
      "text/plain": [
       "100"
      ]
     },
     "execution_count": 95,
     "metadata": {},
     "output_type": "execute_result"
    }
   ],
   "source": [
    "len([i for i in range(100)])"
   ]
  },
  {
   "cell_type": "code",
   "execution_count": 30,
   "metadata": {},
   "outputs": [],
   "source": [
    "[xe, pex, pey, pez, xi, pix, piy, piz] = init_maxw(xmin=2.0, xmax=8.0, n0=1, T0=0.02, V0=0.0, NPIC=100, MMI=2000)"
   ]
  },
  {
   "cell_type": "code",
   "execution_count": 47,
   "metadata": {},
   "outputs": [
    {
     "data": {
      "text/plain": [
       "(array([  4.,   2.,   7.,  16.,  23.,  51.,  75.,  85., 104., 107., 133.,\n",
       "        129.,  82.,  66.,  52.,  32.,  16.,   9.,   4.,   3.]),\n",
       " array([-1.39809584e+00+0.j, -1.25817847e+00+0.j, -1.11826111e+00+0.j,\n",
       "        -9.78343751e-01+0.j, -8.38426389e-01+0.j, -6.98509027e-01+0.j,\n",
       "        -5.58591666e-01+0.j, -4.18674304e-01+0.j, -2.78756942e-01+0.j,\n",
       "        -1.38839580e-01+0.j,  1.07778142e-03+0.j,  1.40995143e-01+0.j,\n",
       "         2.80912505e-01+0.j,  4.20829867e-01+0.j,  5.60747228e-01+0.j,\n",
       "         7.00664590e-01+0.j,  8.40581952e-01+0.j,  9.80499314e-01+0.j,\n",
       "         1.12041668e+00+0.j,  1.26033404e+00+0.j,  1.40025140e+00+0.j]),\n",
       " <a list of 20 Patch objects>)"
      ]
     },
     "execution_count": 47,
     "metadata": {},
     "output_type": "execute_result"
    },
    {
     "data": {
      "image/png": "[encoded data removed]",
      "text/plain": [
       "<Figure size 432x288 with 1 Axes>"
      ]
     },
     "metadata": {
      "needs_background": "light"
     },
     "output_type": "display_data"
    }
   ],
   "source": [
    "plt.hist(pex,20)"
   ]
  },
  {
   "cell_type": "code",
   "execution_count": 51,
   "metadata": {},
   "outputs": [
    {
     "data": {
      "image/png": "[encoded data removed]",
      "text/plain": [
       "<Figure size 432x288 with 1 Axes>"
      ]
     },
     "metadata": {
      "needs_background": "light"
     },
     "output_type": "display_data"
    },
    {
     "name": "stderr",
     "output_type": "stream",
     "text": [
      "//anaconda3/lib/python3.7/site-packages/ipykernel_launcher.py:9: RuntimeWarning: divide by zero encountered in cdouble_scalars\n",
      "  if __name__ == '__main__':\n",
      "//anaconda3/lib/python3.7/site-packages/ipykernel_launcher.py:9: RuntimeWarning: invalid value encountered in cdouble_scalars\n",
      "  if __name__ == '__main__':\n"
     ]
    },
    {
     "data": {
      "image/png": "[encoded data removed]",
      "text/plain": [
       "<Figure size 432x288 with 1 Axes>"
      ]
     },
     "metadata": {
      "needs_background": "light"
     },
     "output_type": "display_data"
    },
    {
     "data": {
      "image/png": "[encoded data removed]",
      "text/plain": [
       "<Figure size 432x288 with 1 Axes>"
      ]
     },
     "metadata": {
      "needs_background": "light"
     },
     "output_type": "display_data"
    }
   ],
   "source": [
    "x=np.linspace(0,2*np.pi,100)\n",
    "y=np.sin(2*x)\n",
    "kx=[i for i in range(100)]\n",
    "plt.plot(x,y)\n",
    "plt.show()\n",
    "yfft=np.fft.fft(y)\n",
    "#yfft[-1]=0.0\n",
    "plt.plot(yfft)\n",
    "yfftdiv=[-4*np.pi*1j*x/y for x,y in zip(yfft,kx)]\n",
    "yfftdiv[0]=0.0\n",
    "#plt.xscale(\"log\")\n",
    "#plt.yscale(\"log\")\n",
    "plt.show()\n",
    "ybackdiv=np.fft.ifft(yfftdiv)\n",
    "plt.plot(x,ybackdiv)\n",
    "plt.show()"
   ]
  },
  {
   "cell_type": "code",
   "execution_count": 47,
   "metadata": {},
   "outputs": [
    {
     "name": "stdout",
     "output_type": "stream",
     "text": [
      "nx=16\n",
      "16\n"
     ]
    },
    {
     "data": {
      "text/plain": [
       "[<matplotlib.lines.Line2D at 0x1a23b19080>]"
      ]
     },
     "execution_count": 47,
     "metadata": {},
     "output_type": "execute_result"
    },
    {
     "data": {
      "image/png": "[encoded data removed]",
      "text/plain": [
       "<Figure size 432x288 with 1 Axes>"
      ]
     },
     "metadata": {
      "needs_background": "light"
     },
     "output_type": "display_data"
    }
   ],
   "source": [
    "grids=np.arange(16)\n",
    "#rho=np.sin(8*3.1415926/128*grids)\n",
    "\n",
    "rho=np.zeros(16)\n",
    "\n",
    "rho[5]=1.0\n",
    "#rho[20]=-1\n",
    "# ex=rho\n",
    "# ey=rho\n",
    "#  ez=rho\n",
    "\n",
    "def gauss(rho,dx=1,shift=0):\n",
    "    \n",
    "    nx = len(rho)\n",
    "    lx=dx*float(nx)\n",
    "    print('nx='+repr(nx))\n",
    "    rho_i = np.fft.fft(rho)\n",
    "    \n",
    "    ex_i=rho_i\n",
    "    print(len(ex_i))\n",
    "    for i in range(nx):\n",
    "        if (i!=0):\n",
    "            k_val=2*np.pi*float(i)/lx\n",
    "            k_val_i=lx/(2.0*np.pi*float(i))\n",
    "            ex_i[i]=-rho_i[i]*complex(0,1)*k_val_i*np.exp(complex(0,1)*k_val*dx*shift)\n",
    "    \n",
    "    ex=np.fft.ifft(ex_i)\n",
    "    \n",
    "    return(ex)\n",
    "        \n",
    "ex= gauss(rho,shift=-0.5)\n",
    "plt.plot(grids,rho)\n",
    "plt.plot(grids,ex)"
   ]
  },
  {
   "cell_type": "code",
   "execution_count": 9,
   "metadata": {},
   "outputs": [],
   "source": [
    "import os\n",
    "import re\n",
    "import shutil\n",
    "import subprocess\n",
    "import IPython.display\n",
    "import h5py\n",
    "import numpy as np\n",
    "import matplotlib.pyplot as plt\n",
    "from matplotlib.colors import LogNorm\n",
    "from ipywidgets import interact, fixed\n",
    "from scipy.optimize import fsolve\n",
    "import scipy\n",
    "\n",
    "from scipy import special\n",
    "import cmath\n",
    "import mpmath\n",
    "\n",
    "def fluidw(k, vth, mr):\n",
    "    c_s = (np.sqrt(vth/mr))\n",
    "    k_De = 1\n",
    "    w = k*k_De*c_s/np.sqrt(1+(k)**2)\n",
    "    return w\n",
    "\n",
    "def zfunc(z):\n",
    "    a = special.wofz(z)\n",
    "    a *= np.sqrt(np.pi)*complex(0,1)\n",
    "    return a\n",
    "\n",
    "\n",
    "def zprime(z):\n",
    "\n",
    "## the line below is needed for the root finder, which uses MP (multi-precision) variables\n",
    "## instead of real and/or complex, so the first step is to convert the variable \"z\" from\n",
    "## of a type\n",
    "\n",
    "    arg= complex(z.real,z.imag)\n",
    "    value= zfunc(arg)\n",
    "    return(-2*(1+z*value))\n",
    "\n",
    "\n",
    "def landauKinetic(karray, Mratio, Tratio):\n",
    "\n",
    "    nk=karray.shape[0]\n",
    "\n",
    "    results=np.zeros(nk)\n",
    "    results_r = np.zeros(nk)\n",
    "\n",
    "    kmin=karray[0]\n",
    "    kmax=karray[nk-1]\n",
    "    print('we are here')\n",
    "    if (kmin!=0.0):\n",
    "        # root_trial=complex(fluidw(0.01,1,Mratio),0)\n",
    "        root_trial=0\n",
    "        newroot=0\n",
    "        for k_val in np.arange(0.01,kmin,0.01):\n",
    "            root_trial=complex(fluidw(k_val,1.0,Mratio),0)\n",
    "            print(root_trial,k_val,k_val/np.sqrt(Mratio))\n",
    "            print(newroot)\n",
    "            def epsilon(omega):\n",
    "                #return (1-0.5*((1.0/k_val)**2)*zprime(omega/(np.sqrt(2)*k_val))-0.5*\n",
    "                #       ((1/np.sqrt(Mratio)/(k_val*np.sqrt(Tratio/Mratio))))*\n",
    "                #        zprime(omega/(np.sqrt(2)*k_val*np.sqrt(Tratio/Mratio))))\n",
    "                return (1-(1.0/k_val)**2-0.5*\n",
    "                       ((1/np.sqrt(Mratio)/(k_val*np.sqrt(Tratio/Mratio))))*\n",
    "                        zprime(omega/(np.sqrt(2)*k_val*np.sqrt(Tratio/Mratio))))\n",
    "            newroot=mpmath.findroot(epsilon,root_trial,solver='muller')\n",
    "            root_trial=complex(fluidw(k_val,1,Mratio),0)\n",
    "\n",
    "        results[0]=newroot.imag\n",
    "    else:\n",
    "        results[0]=0.0\n",
    "        newroot=complex(0.1,0)\n",
    "        root_trial=complex(0.1,0)\n",
    "\n",
    "\n",
    "    for i_mode in range(1,nk):\n",
    "        print(i_mode)\n",
    "        k_val=karray[i_mode]\n",
    "        def epsilon(omega):\n",
    "                return(1-(1.0/k_val)**2-0.5*\n",
    "                      ((1/np.sqrt(Mratio)/(k_val*np.sqrt(Tratio/Mratio))))*\n",
    "                       zprime(omega/(np.sqrt(2)*k_val*np.sqrt(Tratio/Mratio))))\n",
    "        newroot=mpmath.findroot(epsilon,root_trial,solver='muller')\n",
    "        # newroot=scipy.optimize.newton(epsilon,root_trial)\n",
    "        root_trial=complex(fluidw(k_val,1,Mratio),0)\n",
    "        results[i_mode]=newroot.imag\n",
    "        results_r[i_mode] = newroot.real\n",
    "\n",
    "    return results, results_r"
   ]
  },
  {
   "cell_type": "code",
   "execution_count": 13,
   "metadata": {},
   "outputs": [
    {
     "name": "stdout",
     "output_type": "stream",
     "text": [
      "we are here\n",
      "1\n",
      "2\n",
      "3\n",
      "4\n",
      "5\n",
      "6\n",
      "7\n",
      "8\n",
      "9\n"
     ]
    },
    {
     "name": "stderr",
     "output_type": "stream",
     "text": [
      "/opt/conda/lib/python3.7/site-packages/ipykernel_launcher.py:26: RuntimeWarning: invalid value encountered in cdouble_scalars\n"
     ]
    }
   ],
   "source": [
    "karray=np.arange(0.0,0.01,0.001)\n",
    "[damping,freq] = landauKinetic(karray,2000,0.0001)"
   ]
  },
  {
   "cell_type": "code",
   "execution_count": 14,
   "metadata": {},
   "outputs": [
    {
     "name": "stdout",
     "output_type": "stream",
     "text": [
      "[ 0. nan nan nan nan nan nan nan nan nan]\n"
     ]
    }
   ],
   "source": [
    "print(freq)"
   ]
  },
  {
   "cell_type": "code",
   "execution_count": null,
   "metadata": {},
   "outputs": [],
   "source": []
  }
 ],
 "metadata": {
  "kernelspec": {
   "display_name": "Python 3",
   "language": "python",
   "name": "python3"
  },
  "language_info": {
   "codemirror_mode": {
    "name": "ipython",
    "version": 3
   },
   "file_extension": ".py",
   "mimetype": "text/x-python",
   "name": "python",
   "nbconvert_exporter": "python",
   "pygments_lexer": "ipython3",
   "version": "3.7.1"
  }
 },
 "nbformat": 4,
 "nbformat_minor": 2
}
