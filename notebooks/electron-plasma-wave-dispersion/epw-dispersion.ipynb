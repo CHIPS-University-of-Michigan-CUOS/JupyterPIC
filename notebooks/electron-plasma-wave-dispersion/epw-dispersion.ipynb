{
 "cells": [
  {
   "cell_type": "markdown",
   "metadata": {},
   "source": [
    "# Project 1: Electron Plasma Waves"
   ]
  },
  {
   "cell_type": "markdown",
   "metadata": {},
   "source": [
    "In this project, we are going to look at the dispersion relation for electron plasma waves.\n",
    "\n",
    "The dispersion relation, $\\omega(k)$, tells us the natural frequencies of oscillations for these waves, and the information contained in this function about the relationship between $\\omega$ and $k$ can be used to determine the phase and group velocities of these waves.  [There will be a subsequent notebook on wave velocities]"
   ]
  },
  {
   "cell_type": "markdown",
   "metadata": {},
   "source": [
    "Take the following simple case:\n",
    "\n",
    "* $\\nabla \\times \\vec{E} = 0$ -- Longitudinal (electrostatic) waves  \n",
    "\n",
    "* $T_i = T_e = 0$ -- Cold plasma  \n",
    "\n",
    "* $\\vec{B}_0 = 0$ -- Unmagnetized"
   ]
  },
  {
   "cell_type": "markdown",
   "metadata": {},
   "source": [
    "The time derivative of Ampere's law in the unmagnetized case gives:\n",
    "\n",
    "$$ \\frac{\\partial^2}{\\partial t^2}\\vec{E} + \\frac{en_0}{\\epsilon_0}\\left[\\frac{\\partial \\vec{v}_i}{\\partial t} - \\frac{\\partial \\vec{v}_e}{\\partial t}\\right] = 0 $$\n",
    "\n",
    "Using Euler's equation, $\\partial \\vec{v} / \\partial t = (q/m)(\\partial \\vec{E} / \\partial t)$,\n",
    "\n",
    "$$ \\frac{\\partial^2}{\\partial t^2}\\vec{E} + \\frac{e^2 n_0}{\\epsilon_0}\\left[\\frac{1}{m_i} + \\frac{1}{m_e}\\right]\\vec{E} = 0 $$\n",
    "\n",
    "and by using the plasma frequency definitions,\n",
    "\n",
    "$$\\Omega_p^2 = \\frac{e^2n_0}{\\epsilon_0 m_i} \\text{    and    } \\omega_p^2 = \\frac{e^2n_0}{\\epsilon_0 m_e}$$\n",
    "\n",
    "we have\n",
    "\n",
    "$$ \\frac{\\partial^2}{\\partial t^2}\\vec{E} + [\\Omega_p^2 + \\omega_p^2]\\vec{E} = 0 $$\n"
   ]
  },
  {
   "cell_type": "markdown",
   "metadata": {},
   "source": [
    "This is our familiar harmonic oscillator equation.\n",
    "\n",
    "In a hydrogen plasma with $m_i = 1836 m_e$, the frequency is dominated by the electron plasma frequency:  $\\omega_p^2 + \\Omega_p^2 = \\omega_p^2 [ 1 + m_e/m_i ] \\approx \\omega_p^2$, and in this case,\n",
    "\n",
    "$$ \\frac{\\partial^2}{\\partial t^2}\\vec{E} + \\omega_p^2\\vec{E} = 0 $$\n",
    "\n",
    "To Fourier Analyze the equation (and make it an algebraic equation to solve rather than a partial differential equation), we substitute in $\\vec{E} = \\vec{\\bar{E}} e^{i\\omega t}$, giving\n",
    "\n",
    "$$ [-\\omega^2 + \\omega_p^2]\\vec{\\bar{E}}e^{i\\omega t} = 0 $$\n",
    "\n",
    "This equation leads quite simply to the dispersion relation:\n",
    "\n",
    "$$ \\omega^2 = \\omega_p^2 $$"
   ]
  },
  {
   "cell_type": "code",
   "execution_count": 1,
   "metadata": {},
   "outputs": [
    {
     "data": {
      "image/png": "[encoded data removed]",
      "text/plain": [
       "<matplotlib.figure.Figure at 0x10b742ed0>"
      ]
     },
     "metadata": {},
     "output_type": "display_data"
    }
   ],
   "source": [
    "#\n",
    "# Plotting w(k) = w_p\n",
    "# Rather straightforward, since there is no dependence on k\n",
    "#\n",
    "import numpy as np\n",
    "import matplotlib.pyplot as plt\n",
    "%matplotlib inline\n",
    "x = np.linspace(-25,25,100)\n",
    "y = np.ones(100)\n",
    "plt.plot(x,y)\n",
    "plt.xlabel('k [$c/\\omega_p$]'); plt.ylabel('$\\omega$ (in units of $\\omega_p$)'); plt.xlim(-25,25); plt.ylim(0,3)\n",
    "plt.show()"
   ]
  },
  {
   "cell_type": "markdown",
   "metadata": {},
   "source": [
    "The frequency of oscillation for waves under these plasma conditions is $\\omega = \\pm \\omega_p$, and we see that there is no dependence on $k$.\n",
    "\n",
    "There can be a spatial variation to the waves, because $\\vec{\\bar{E}}$ can be an arbitrary function of position, and we can have $\\vec{E} = \\vec{\\bar{E}}(\\vec{x})e^{i\\omega_p t}$ as long as we satisfy our initial assumption that $\\nabla \\times \\vec{E} = 0$.\n",
    "\n",
    "Since there is no dependence on $k$, at each location the fields oscillate at $\\omega_p$ independently of the other positions.\n",
    "\n",
    "It is possible to phase these oscillations into a wave $\\vec{E} = \\bar{E}e^{i(kx-\\omega_p t)}\\hat{x}$ where $k$ is arbitrary.\n",
    "\n",
    "$$v_{\\phi} = \\omega/k = \\omega_p/k$$ and can take on arbitrary values depending on $k$.  $$v_g = \\partial\\omega/\\partial k = 0$$ and the waves cannot transport any information."
   ]
  },
  {
   "cell_type": "markdown",
   "metadata": {},
   "source": [
    "This case is interesting but rather basic.  Once we introduce a temperature to the plasma, there is a frequency dependence on the wavenumber."
   ]
  },
  {
   "cell_type": "code",
   "execution_count": null,
   "metadata": {
    "collapsed": true
   },
   "outputs": [],
   "source": [
    "#\n",
    "# Moving on to warm plasma\n",
    "#\n",
    "# This animation shows electrons (blue) oscillating against a fixed ion background (red).\n",
    "#\n",
    "from IPython.display import IFrame\n",
    "IFrame(src=\"Langmuir_wave.gif\",width=300,height=300)  # retrieved from http://space.irfu.se/~andris/plasma/waves/Langmuir_wave.gif"
   ]
  },
  {
   "cell_type": "markdown",
   "metadata": {},
   "source": [
    "## Electron plasma waves in a warm plasma"
   ]
  },
  {
   "cell_type": "markdown",
   "metadata": {},
   "source": [
    "We'll still assume:\n",
    "\n",
    "* $\\nabla \\times \\vec{E} = 0$ -- Longitudinal (electrostatic) waves  \n",
    "\n",
    "* $\\vec{B}_0 = 0$ -- Unmagnetized\n",
    "\n",
    "but now\n",
    "\n",
    "* $T_e \\neq 0$ -- Warm fluid  \n",
    "\n",
    "And from the start we'll assume that the ions do not move."
   ]
  },
  {
   "cell_type": "markdown",
   "metadata": {},
   "source": [
    "Here the time derivative of Ampere's law in the unmagnetized case gives:\n",
    "\n",
    "$$ \\frac{\\partial^2}{\\partial t^2}\\vec{E} - \\frac{en_0}{\\epsilon_0}\\frac{\\partial \\vec{v}_e}{\\partial t} = 0 $$\n",
    "\n",
    "And using Euler's equation in a warm plasma now gives:\n",
    "\n",
    "$$ \\frac{\\partial^2}{\\partial t^2}\\vec{E} - \\frac{e n_0}{\\epsilon_0}\\left[-\\frac{e}{m_e}\\vec{E} - \\frac{\\gamma k T_e}{m_e n_0}\\nabla n_1\\right] = 0 $$\n",
    "\n",
    "To get the wave equation for $\\vec{E}$, we must find $n_1$ in terms of $E$.  To do this we use Gauss' Law:\n",
    "\n",
    "$$\\nabla \\cdot \\vec{E} = -\\frac{e n_1}{\\epsilon}$$\n",
    "\n",
    "so\n",
    "\n",
    "$$\\nabla n_1 = -\\frac{\\epsilon_0}{e} \\nabla(\\nabla \\cdot \\vec{E}) = -\\frac{\\epsilon_0}{e} \\nabla^2 \\vec{E}$$\n",
    "\n",
    "where we used the fact that $\\nabla(\\nabla \\cdot \\vec{E}) = \\nabla^2 \\vec{E}$ when $\\nabla \\times \\vec{E} = 0$.\n",
    "\n",
    "Now we can write the equation purely in terms of $\\vec{E}$:\n",
    "\n",
    "$$ \\frac{\\partial^2}{\\partial t^2}\\vec{E} + \\frac{e^2 n_0}{m_e \\epsilon_0}\\vec{E} - \\frac{\\gamma k T_e}{m_e}\\nabla^2\\vec{E} = 0 $$\n",
    "\n",
    "For high frequency waves there is no time for any heat loss and we use $\\gamma = 3$, i.e., the adiabatic equation of state for these 1D longitudinal oscillations.  $\\gamma = 3$ also follows from a more rigorous kinetic treatment.  We can also substitute in $\\omega_p$ and $v_{the}$.\n",
    "\n",
    "$$ \\frac{\\partial^2}{\\partial t^2}\\vec{E} + \\omega_p^2\\vec{E} - 3 v_{the}^2\\nabla^2\\vec{E} = 0 $$\n",
    "\n",
    "Fourier Analyzing with $\\vec{E} = \\vec{\\bar{E}}e^{i(kx-\\omega t)}$,\n",
    "\n",
    "$$ [-\\omega^2 + \\omega_p^2 + 3 v_{the}^2 k^2]\\vec{\\bar{E}}e^{i(kx-\\omega t)} = 0 $$\n",
    "\n",
    "giving the dispersion relation:\n",
    "\n",
    "$$ \\omega^2 = \\omega_p^2 + 3 v_{the}^2 k^2 $$"
   ]
  },
  {
   "cell_type": "code",
   "execution_count": null,
   "metadata": {
    "collapsed": true
   },
   "outputs": [],
   "source": [
    "#\n",
    "# Plotting w(k) = sqrt[w_p^2 + 3 * v_the^2 * k^2]\n",
    "# We assume here that w_p = 1.0 and v_the/c = 0.05\n",
    "#\n",
    "import numpy as np\n",
    "import matplotlib.pyplot as plt\n",
    "%matplotlib inline\n",
    "x = np.linspace(-25,25,100)\n",
    "y = np.sqrt(1 + 3 * 0.05**2 * x**2)\n",
    "plt.plot(x,y)\n",
    "plt.xlabel('k [$c/\\omega_p$]'); plt.ylabel('$\\omega$ (in units of $\\omega_p$)'); plt.xlim(-25,25); plt.ylim(0,3)\n",
    "plt.show()"
   ]
  },
  {
   "cell_type": "markdown",
   "metadata": {},
   "source": [
    "# Simulations with a Particle-in-Cell Code"
   ]
  },
  {
   "cell_type": "markdown",
   "metadata": {},
   "source": [
    "In this project, you will be simulating plasmas in which each plasma electron is initialized with positions (only in x, or what we call $x_1$) such that the density is uniform. The ions are initialized at the same positions but they have an infinite mass.  Each electron is also initialized with velocities ($v_1$, $v_2$, $v_3$) or momentum ($mv_1$, $mv_2$, $mv_3$) from a Maxwellian in each direction. The particles then begin to move in the self-consistent fields that their current and charge density produce.\n",
    "\n",
    "* The length of the plasmas is 50 $c/\\omega_p$\n",
    "* The simulation will run for a time 400 $1/\\omega_p$.\n",
    "* The simulation uses 50,000 particles.\n",
    "\n",
    "You will be looking at plots of the electric field in the $x_1$ direction, $E_1$. "
   ]
  },
  {
   "cell_type": "markdown",
   "metadata": {},
   "source": [
    "### The following lines must always be executed before running anything else.\n",
    "\n",
    "Reminder: Hit Shift+Enter to run a cell, or select the cell and click on the \"Run\" button in the top menu bar"
   ]
  },
  {
   "cell_type": "code",
   "execution_count": null,
   "metadata": {
    "collapsed": true
   },
   "outputs": [],
   "source": [
    "import osiris\n",
    "%matplotlib inline"
   ]
  },
  {
   "cell_type": "markdown",
   "metadata": {},
   "source": [
    "## Run a case in which $vth_1=vth_2=vth_3=0.02 c$."
   ]
  },
  {
   "cell_type": "code",
   "execution_count": null,
   "metadata": {
    "collapsed": true
   },
   "outputs": [],
   "source": [
    "# vth/c = 0.02\n",
    "dirname = 'v02'\n",
    "osiris.runosiris(rundir=dirname,inputfile='v02.txt')"
   ]
  },
  {
   "cell_type": "markdown",
   "metadata": {},
   "source": [
    "After the simulation is finished, plot $E_1(x_1)$ at $t \\approx 100$ (run the next cell). \n",
    "* Do you see any evidence of a plasma wave or oscillation? \n",
    "* Does the plot make sense?"
   ]
  },
  {
   "cell_type": "code",
   "execution_count": null,
   "metadata": {
    "collapsed": true
   },
   "outputs": [],
   "source": [
    "dirname = 'v02'\n",
    "osiris.field(rundir=dirname,time=100)"
   ]
  },
  {
   "cell_type": "markdown",
   "metadata": {},
   "source": [
    "Next, plot $E_1(t)$ at $x_1=5 c/\\omega_p$ (i.e., at cell=100). \n",
    "* Do you see any evidence of a plasma wave or oscillation? \n",
    "* Does the plot make sense?"
   ]
  },
  {
   "cell_type": "code",
   "execution_count": null,
   "metadata": {
    "collapsed": true
   },
   "outputs": [],
   "source": [
    "dirname = 'v02'\n",
    "osiris.field(rundir=dirname,space=100)"
   ]
  },
  {
   "cell_type": "markdown",
   "metadata": {},
   "source": [
    "Next, in the following two cells, we are going to plot $\\omega(k)$.  This is generated by taking $E_1(x_1,t)$ and Fourier analyzing in both position and time."
   ]
  },
  {
   "cell_type": "markdown",
   "metadata": {},
   "source": [
    "-------\n",
    "* $\\omega(k)$ with wavenumber in units of [k] = $\\omega_{pe}/c$: "
   ]
  },
  {
   "cell_type": "code",
   "execution_count": null,
   "metadata": {
    "collapsed": true
   },
   "outputs": [],
   "source": [
    "dirname = 'v02'\n",
    "osiris.plot_wk(rundir=dirname, wlim=[0,2], klim=[0,25], vth = 0.02, vmin=-1, vmax=3)\n",
    "osiris.plot_wk(rundir=dirname, wlim=[0,2], klim=[0,25], vth = 0.02, vmin=-1, vmax=3, show_theory=True) "
   ]
  },
  {
   "cell_type": "markdown",
   "metadata": {},
   "source": [
    "-------\n",
    "* $\\omega(k)$ with wavenumber in units of [k] = $\\lambda_{De}$: "
   ]
  },
  {
   "cell_type": "code",
   "execution_count": null,
   "metadata": {
    "collapsed": true
   },
   "outputs": [],
   "source": [
    "dirname = 'v02'\n",
    "osiris.plot_wk(rundir=dirname, wlim=[0,2], klim=[0,0.5], vth = 0.02, vmin=-2, vmax=3, show_theory=True, debye=True) "
   ]
  },
  {
   "cell_type": "markdown",
   "metadata": {},
   "source": [
    "##### I would like you to think about units:\n",
    "* What do you think are the natural units for $\\omega$? \n",
    "* What about k? \n",
    "\n",
    "We are plotting them in what are called normalized units (not inverse time or inverse distance). We use two choices ($\\omega/\\omega_p$ and $kc/\\omega_p$) and ($\\omega/\\omega_p$ and $kv_{th}/\\omega_p = k\\lambda_D$).\n",
    "\n",
    "We also plot the theory curve:\n",
    "* Does it make sense? \n",
    "* Why do you think it agrees better for smaller wave numbers?\n",
    "* At what wave number does the theory plot stop working as well? \n",
    "* Can you explain why this happens?"
   ]
  },
  {
   "cell_type": "markdown",
   "metadata": {},
   "source": [
    "## Run a case in which $vth_1=vth_2=vth_3=0.05 c$."
   ]
  },
  {
   "cell_type": "code",
   "execution_count": null,
   "metadata": {
    "collapsed": true
   },
   "outputs": [],
   "source": [
    "# vth/c = 0.05\n",
    "dirname = 'v05'\n",
    "osiris.runosiris(rundir=dirname,inputfile='v05.txt')"
   ]
  },
  {
   "cell_type": "markdown",
   "metadata": {},
   "source": [
    "Make $\\omega(k)$ plots for this case by running the cells below."
   ]
  },
  {
   "cell_type": "markdown",
   "metadata": {},
   "source": [
    "* $\\omega(k)$ with wavenumber in units of [k] = $\\omega_{pe}/c$: "
   ]
  },
  {
   "cell_type": "code",
   "execution_count": null,
   "metadata": {
    "collapsed": true
   },
   "outputs": [],
   "source": [
    "dirname = 'v05'\n",
    "osiris.plot_wk(rundir=dirname, wlim=[0,2], klim=[0,25], vth = 0.05, vmin=-1, vmax=3)\n",
    "osiris.plot_wk(rundir=dirname, wlim=[0,2], klim=[0,25], vth = 0.05, vmin=-1, vmax=3, show_theory=True) "
   ]
  },
  {
   "cell_type": "markdown",
   "metadata": {},
   "source": [
    "-------\n",
    "* $\\omega(k)$ with wavenumber in units of [k] = $\\lambda_{De}$: "
   ]
  },
  {
   "cell_type": "code",
   "execution_count": null,
   "metadata": {
    "collapsed": true
   },
   "outputs": [],
   "source": [
    "dirname = 'v05'\n",
    "osiris.plot_wk(rundir=dirname, wlim=[0,2], klim=[0,0.5], vth = 0.05, vmin=-2, vmax=3, show_theory=True, debye=True) "
   ]
  },
  {
   "cell_type": "markdown",
   "metadata": {},
   "source": [
    "### Questions\n",
    "* Do the $\\omega(k)$ plots make sense? \n",
    "* For which normalized units do the plots look similar to case b?"
   ]
  },
  {
   "cell_type": "markdown",
   "metadata": {},
   "source": [
    "## Run a case in which $vth_1=vth_2=vth_3=0.20 c$."
   ]
  },
  {
   "cell_type": "code",
   "execution_count": null,
   "metadata": {
    "collapsed": true
   },
   "outputs": [],
   "source": [
    "# vth/c = 0.2\n",
    "dirname = 'v20'\n",
    "osiris.runosiris(rundir=dirname,inputfile='v20.txt')"
   ]
  },
  {
   "cell_type": "markdown",
   "metadata": {},
   "source": [
    "Make $\\omega(k)$ plots for this case by running the cells below."
   ]
  },
  {
   "cell_type": "markdown",
   "metadata": {},
   "source": [
    "* $\\omega(k)$ with wavenumber in units of [k] = $\\omega_{pe}/c$: "
   ]
  },
  {
   "cell_type": "code",
   "execution_count": null,
   "metadata": {
    "collapsed": true
   },
   "outputs": [],
   "source": [
    "dirname = 'v20'\n",
    "osiris.plot_wk(rundir=dirname, wlim=[0,2], klim=[0,25], vth = 0.20, vmin=0, vmax=5)\n",
    "osiris.plot_wk(rundir=dirname, wlim=[0,2], klim=[0,25], vth = 0.20, vmin=0, vmax=5, show_theory=True) "
   ]
  },
  {
   "cell_type": "markdown",
   "metadata": {},
   "source": [
    "-------\n",
    "* $\\omega(k)$ with wavenumber in units of [k] = $\\lambda_{De}$: "
   ]
  },
  {
   "cell_type": "code",
   "execution_count": null,
   "metadata": {
    "collapsed": true
   },
   "outputs": [],
   "source": [
    "dirname = 'v20'\n",
    "osiris.plot_wk(rundir=dirname, wlim=[0,2], klim=[0,0.5], vth = 0.20, vmin=0, vmax=5, show_theory=True, debye=True)"
   ]
  },
  {
   "cell_type": "markdown",
   "metadata": {},
   "source": [
    "### Questions\n",
    "\n",
    "* Do the $\\omega(k)$ plots make sense? \n",
    "\n",
    "* For which normalized units do the plots look similar to case a and b?\n",
    "\n",
    "* Look closely at $k=0$. The frequency does not agree with theory as well as for cases a and b. \n",
    " * Is it higher or lower than theory? \n",
    " * Can you think of a reason why?"
   ]
  }
 ],
 "metadata": {
  "anaconda-cloud": {},
  "kernelspec": {
   "display_name": "Python [Root]",
   "language": "python",
   "name": "Python [Root]"
  },
  "language_info": {
   "codemirror_mode": {
    "name": "ipython",
    "version": 2
   },
   "file_extension": ".py",
   "mimetype": "text/x-python",
   "name": "python",
   "nbconvert_exporter": "python",
   "pygments_lexer": "ipython2",
   "version": "2.7.12"
  }
 },
 "nbformat": 4,
 "nbformat_minor": 2
}
