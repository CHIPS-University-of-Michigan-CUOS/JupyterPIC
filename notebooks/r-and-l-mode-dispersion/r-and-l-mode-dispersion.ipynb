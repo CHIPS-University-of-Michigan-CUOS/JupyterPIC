{
 "cells": [
  {
   "cell_type": "markdown",
   "metadata": {},
   "source": [
    "# Project 4a: Dispersion Relation for R- and L-Waves in Magnetized Plasmas"
   ]
  },
  {
   "cell_type": "markdown",
   "metadata": {},
   "source": [
    "In this project, we are going to look at the dispersion relation for electromagnetic waves in a uniform magnetic field.\n",
    "\n",
    "In this project, you will study the accuracy of the dispersion relation we derived in class for waves that propagate **along** a constant magnetic field. \n",
    "\n",
    "In class we began by stating that we are interested in waves with frequencies at or near the plasma frequency so that we can assume the ion motion is not important. We let the magnetic field point in the $\\hat x$  direction, $\\vec B_0=B_0 \\hat x$. We also assume the wave moves in the $\\hat x$ direction, $\\vec k=k \\hat x$. Under these conditions we found that there are two types of waves:\n",
    "\n",
    "For both waves, $\\vec k \\parallel \\vec B_0$, $\\vec E_1 \\perp \\vec B_0$, and $\\vec k \\perp \\vec E_1$ (transverse waves).  \n",
    "\n",
    "The dispersion relations are:\n",
    "\n",
    "$$ \\mbox{R-wave}: \\quad \\frac {c^2k^2}{\\omega^2}=1-\\frac{\\omega_p^2}{\\omega^2} \\frac{1}{1-\\frac{\\omega_c}{\\omega}} $$\n",
    "\n",
    "$$ \\mbox{L-wave}: \\quad \\frac {c^2k^2}{\\omega^2}=1-\\frac{\\omega_p^2}{\\omega^2} \\frac{1}{1+\\frac{\\omega_c}{\\omega}} $$"
   ]
  },
  {
   "cell_type": "markdown",
   "metadata": {},
   "source": [
    "In this project you will study the spectrum of waves that exist in a magnetized plasma. The constant magnetic field will point in the $x_1$ direction ($\\hat x$). You will simulate a uniform plasma in which each plasma electron is initialized with positions (only in $x$ or what we call $x_1$). Each electron is also initialized with velocities ($v_1$, $v_2$, $v_3$)=($0.005c$, $0.005c$, $0.005c$) or momentum ($mv_1$, $mv_2$, $mv_3$) from a Maxwellian in each direction. The particles then begin to move in the self-consistent fields that their current and charge density produce:\n",
    "\n",
    "*\tThe length of the simulation window is $50 \\ c/\\omega_p$.\n",
    "*\tThe simulation will run for a time $400 \\ \\ [1/\\omega_p] $. \n",
    "*\tThe simulation uses 50,000 particles.\n",
    "\n",
    "We will have $\\omega_c/\\omega_p = 0.5$ and $2$."
   ]
  },
  {
   "cell_type": "markdown",
   "metadata": {},
   "source": [
    "## R-wave and L-wave dispersion relations\n",
    "\n",
    "Here you can look at the dispersion relation of the R-wave and L-wave and the frequencies described above.  Just enter $\\omega_c$ and $\\omega_{p}$ and re-run the cell below:"
   ]
  },
  {
   "cell_type": "code",
   "execution_count": 1,
   "metadata": {},
   "outputs": [
    {
     "data": {
      "image/png": "[encoded data removed]",
      "text/plain": [
       "<Figure size 432x288 with 1 Axes>"
      ]
     },
     "metadata": {},
     "output_type": "display_data"
    }
   ],
   "source": [
    "#############\n",
    "# here we specify the plasma conditions \n",
    "wp=1\n",
    "wc=0.8\n",
    "#############\n",
    "\n",
    "from scipy.optimize import fsolve \n",
    "import numpy as np\n",
    "import matplotlib.pyplot as plt\n",
    "%matplotlib inline\n",
    "\n",
    "#first we define the range of k's of interest, \"k\" here means \"ck\"\n",
    "karray=np.arange(0,10,0.05)\n",
    "nk=karray.shape[0]\n",
    "\n",
    "def rwave_disp(w,omegap,omegac,ck):\n",
    "    ratio=omegac/omegap\n",
    "    y=(ck*ck)/(omegap*omegap) - (w*w)/(omegap*omegap) + 1/(1-wc/w)\n",
    "    return y\n",
    "\n",
    "def lwave_disp(w,omegap,omegac,ck):\n",
    "    ratio=omegac/omegap\n",
    "    y=(ck*ck)/(omegap*omegap) - (w*w)/(omegap*omegap) + 1/(1+wc/w)\n",
    "    return y\n",
    "\n",
    "wR=0.5*(wc+np.sqrt(4*wp*wp+wc*wc))\n",
    "wL=0.5*(np.sqrt(4*wp*wp+wc*wc)-wc)\n",
    "\n",
    "warrayL=np.zeros(karray.shape[0]); warrayR1=np.zeros(karray.shape[0]); warrayR2=np.zeros(karray.shape[0]);\n",
    "wLarray=np.zeros(karray.shape[0]); wR1array=np.zeros(karray.shape[0]); wR2array=np.zeros(karray.shape[0]); \n",
    "#wHarray=np.zeros(karray.shape[0])\n",
    "\n",
    "wLarray[:]=wL\n",
    "wR1array[:]=0.01\n",
    "wR2array[:]=wR\n",
    "#wHarray[:]=np.sqrt(wp*wp+wc*wc)\n",
    "\n",
    "warrayL[0]=wL\n",
    "warrayR1[0]=0.01\n",
    "warrayR2[0]=wR\n",
    "for ik in range(1,nk):\n",
    "    warrayR2[ik]=fsolve(rwave_disp,warrayR2[ik-1],args=(wp,wc,karray[ik]))\n",
    "    warrayR1[ik]=fsolve(rwave_disp,warrayR1[ik-1],args=(wp,wc,karray[ik]))\n",
    "    warrayL[ik]=fsolve(lwave_disp,warrayL[ik-1],args=(wp,wc,karray[ik]))\n",
    "\n",
    "plt.plot(karray,warrayR1,'r',label='R-wave dispersion')\n",
    "plt.plot(karray,warrayR2,'r')\n",
    "plt.plot(karray,warrayL,'b',label='L-wave dispersion')\n",
    "plt.plot(karray,wR2array,'r--',label='$\\omega_R$')\n",
    "plt.plot(karray,wLarray,'b--',label='$\\omega_L$')\n",
    "plt.plot(karray, karray,'g--',label='$\\omega/k=c$')\n",
    "plt.xlabel('wave number $[ck/\\omega_{pe}]$')\n",
    "plt.ylabel('frequency $[\\omega_{pe}]$')\n",
    "plt.title('R wave dispersion relation')\n",
    "plt.legend()\n",
    "plt.xlim([karray[0],karray[nk-1]])\n",
    "plt.ylim([0,5])#karray[nk-1]+1.0])\n",
    "plt.legend(loc=0, fontsize=8)\n",
    "plt.show()"
   ]
  },
  {
   "cell_type": "markdown",
   "metadata": {},
   "source": [
    "# Simulations with a Particle-in-Cell Code"
   ]
  },
  {
   "cell_type": "markdown",
   "metadata": {},
   "source": [
    "In this project you simulate plasmas with similar conditions as in Project 1a, 2a, and 3a.\n",
    "\n",
    "Each plasma electron is initialized with positions (only in $x$ or what we call $x_1$) such that the density is uniform. The ions are initialized at the same positions but they have an infinite mass.  Each electron is also initialized with velocities ($v_1$, $v_2$, $v_3$) or momentum ($mv_1$, $mv_2$, $mv_3$) from a Maxwellian in each direction. The particles then begin to move in the self-consistent fields that their current and charge density produce.\n",
    "\n",
    "* The length of the plasmas is 50 $c/\\omega_p$\n",
    "* The simulation will run for a time 400 $1/\\omega_p$.\n",
    "* The simulation uses 50,000 particles.\n",
    "\n",
    "You will be looking at plots of the electric field in the $x_1$ and $x_2$ directions ($E_1$ and $E_2$), which correspond to R- and L-waves.  You will also be looking at electric fields in the $x_1$ direction ($E_1$) which correspond to fundamental plasma oscillations."
   ]
  },
  {
   "cell_type": "markdown",
   "metadata": {},
   "source": [
    "### The following lines must always be executed before running anything else.\n",
    "\n",
    "Reminder: Hit Shift+Enter to run a cell, or select the cell and click on the \"Run\" button in the top menu bar"
   ]
  },
  {
   "cell_type": "code",
   "execution_count": null,
   "metadata": {},
   "outputs": [],
   "source": [
    "import osiris\n",
    "%matplotlib inline"
   ]
  },
  {
   "cell_type": "markdown",
   "metadata": {},
   "source": [
    "## Run cases in which $\\Omega_{ce} = 0.5 \\omega_{pe}$ and $2.0 \\omega_{pe}$."
   ]
  },
  {
   "cell_type": "code",
   "execution_count": null,
   "metadata": {},
   "outputs": [],
   "source": [
    "dirname = 'therm-b05-rl'\n",
    "osiris.runosiris(rundir=dirname,inputfile='therm-b05-rl.txt')"
   ]
  },
  {
   "cell_type": "code",
   "execution_count": null,
   "metadata": {},
   "outputs": [],
   "source": [
    "dirname = 'therm-b20-rl'\n",
    "osiris.runosiris(rundir=dirname,inputfile='therm-b20-rl.txt')"
   ]
  },
  {
   "cell_type": "markdown",
   "metadata": {},
   "source": [
    "## Case for which $\\Omega_{ce} = 0.5 \\omega_{pe}$."
   ]
  },
  {
   "cell_type": "markdown",
   "metadata": {},
   "source": [
    "After the simulation is finished, plot $E_3(x_1)$ at $t \\approx 100$ (run the next cell). \n",
    "* Do you see any evidence of a coherent wave?\n",
    "* Does the plot make sense?"
   ]
  },
  {
   "cell_type": "code",
   "execution_count": null,
   "metadata": {},
   "outputs": [],
   "source": [
    "dirname = 'therm-b05-rl'\n",
    "osiris.field(rundir=dirname, dataset='e2', time=100)"
   ]
  },
  {
   "cell_type": "markdown",
   "metadata": {},
   "source": [
    "Next, plot $E_3(t)$ at $x_1=5 c/\\omega_p$ (i.e., at cell=100). \n",
    "* Do you see any evidence of a coherent wave? \n",
    "* Does the plot make sense?"
   ]
  },
  {
   "cell_type": "code",
   "execution_count": null,
   "metadata": {},
   "outputs": [],
   "source": [
    "dirname = 'therm-b05-rl'\n",
    "osiris.field(rundir=dirname, dataset='e2', space=100)"
   ]
  },
  {
   "cell_type": "markdown",
   "metadata": {},
   "source": [
    "Next, in the following two cells, we are going to plot $\\omega(k)$.  This is generated by taking $E_3(x_1,t)$ and Fourier analyzing in both position and time."
   ]
  },
  {
   "cell_type": "markdown",
   "metadata": {},
   "source": [
    "-------\n",
    "* $\\omega(k)$ with wavenumber in units of [k] = $\\omega_{pe}/c$: "
   ]
  },
  {
   "cell_type": "code",
   "execution_count": null,
   "metadata": {},
   "outputs": [],
   "source": [
    "dirname = 'therm-b05-rl'\n",
    "osiris.plot_wk_rl(rundir=dirname, wlim=[0,5], klim=[0,15], vth = 0.1, b0_mag=0.5, vmin=-5, vmax=2, plot_or=3) \n",
    "osiris.plot_wk_rl(rundir=dirname, wlim=[0,5], klim=[0,15], vth = 0.1, b0_mag=0.5, vmin=-5, vmax=2, plot_or=3, \n",
    "               show_theory=True) "
   ]
  },
  {
   "cell_type": "markdown",
   "metadata": {},
   "source": [
    "* Do these plots make sense?"
   ]
  },
  {
   "cell_type": "markdown",
   "metadata": {},
   "source": [
    "-------\n",
    "* $\\omega(k)$ with wavenumber in units of [k] = $\\lambda_{De}$: "
   ]
  },
  {
   "cell_type": "code",
   "execution_count": null,
   "metadata": {},
   "outputs": [],
   "source": [
    "dirname = 'therm-b05-rl'\n",
    "osiris.plot_wk_rl(rundir=dirname, wlim=[0,5], klim=[0,25], vmin=-5, vmax=2, vth = 0.02, b0_mag=0.5, plot_or=2) \n",
    "osiris.plot_wk_rl(rundir=dirname, wlim=[0,5], klim=[0,25], vmin=-5, vmax=2, vth = 0.02, b0_mag=0.5, plot_or=2, \n",
    "               show_theory=True) "
   ]
  },
  {
   "cell_type": "markdown",
   "metadata": {},
   "source": [
    "* Why do the plots for $E_2$ and $E_3$ look similar?"
   ]
  },
  {
   "cell_type": "code",
   "execution_count": null,
   "metadata": {},
   "outputs": [],
   "source": [
    "dirname = 'therm-b05-rl'\n",
    "osiris.plot_wk_rl(rundir=dirname, wlim=[0,5], klim=[0,25], vmin=-5, vmax=2, vth=0.02, b0_mag=0.5, plot_or=1) \n",
    "osiris.plot_wk_rl(rundir=dirname, wlim=[0,5], klim=[0,25], vmin=-5, vmax=2, vth=0.02, b0_mag=0.5, plot_or=1, \n",
    "               show_theory=True) "
   ]
  },
  {
   "cell_type": "markdown",
   "metadata": {},
   "source": [
    "* Why is this curve nearly $\\omega$=$\\omega_p$?\n",
    "* The curve bends down for large $kc/\\omega_p$ because of numerical not physical reasons. So it should actually look like the Bohm-Gross dispersion relation.\n"
   ]
  },
  {
   "cell_type": "markdown",
   "metadata": {},
   "source": [
    "## Case for which $\\Omega_{ce} = 2.0 \\omega_{pe}$."
   ]
  },
  {
   "cell_type": "code",
   "execution_count": null,
   "metadata": {},
   "outputs": [],
   "source": [
    "dirname = 'therm-b20-rl'\n",
    "osiris.plot_wk_rl(rundir=dirname, wlim=[0,5], klim=[0,15], vmin=-5, vmax=2, vth = 0.1, b0_mag=2.0, plot_or=3) \n",
    "osiris.plot_wk_rl(rundir=dirname, wlim=[0,5], klim=[0,15], vmin=-5, vmax=2, vth = 0.1, b0_mag=2.0, plot_or=3, \n",
    "               show_theory=True) "
   ]
  },
  {
   "cell_type": "markdown",
   "metadata": {},
   "source": [
    "* Which mode has phase velocities closer to the speed of light?"
   ]
  },
  {
   "cell_type": "code",
   "execution_count": null,
   "metadata": {},
   "outputs": [],
   "source": [
    "dirname = 'therm-b20-rl'\n",
    "osiris.plot_wk_rl(rundir=dirname, wlim=[0,5], klim=[0,15], vmin=-5, vmax=2, vth=0.02, b0_mag=2.0, plot_or=2) \n",
    "osiris.plot_wk_rl(rundir=dirname, wlim=[0,5], klim=[0,15], vmin=-5, vmax=2, vth=0.02, b0_mag=2.0, plot_or=2, \n",
    "               show_theory=True) "
   ]
  },
  {
   "cell_type": "markdown",
   "metadata": {},
   "source": [
    "* Is $\\omega_R$ larger than $\\omega_L$ in all cases?"
   ]
  },
  {
   "cell_type": "code",
   "execution_count": null,
   "metadata": {},
   "outputs": [],
   "source": [
    "dirname = 'therm-b20-rl'\n",
    "osiris.plot_wk_rl(rundir=dirname, wlim=[0,5], klim=[0,25], vmin=-5, vmax=2, vth = 0.005, b0_mag=2.0, plot_or=1) \n",
    "osiris.plot_wk_rl(rundir=dirname, wlim=[0,5], klim=[0,25], vmin=-5, vmax=2, vth = 0.005, b0_mag=2.0, plot_or=1, \n",
    "               show_theory=True) "
   ]
  },
  {
   "cell_type": "markdown",
   "metadata": {},
   "source": [
    "* What are you learning about the behavior of curves near the resonces?"
   ]
  }
 ],
 "metadata": {
  "anaconda-cloud": {},
  "kernelspec": {
   "display_name": "Python 3",
   "language": "python",
   "name": "python3"
  },
  "language_info": {
   "codemirror_mode": {
    "name": "ipython",
    "version": 3
   },
   "file_extension": ".py",
   "mimetype": "text/x-python",
   "name": "python",
   "nbconvert_exporter": "python",
   "pygments_lexer": "ipython3",
   "version": "3.6.3"
  }
 },
 "nbformat": 4,
 "nbformat_minor": 2
}
