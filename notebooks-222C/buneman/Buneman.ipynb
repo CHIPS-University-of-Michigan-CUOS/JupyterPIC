{
 "cells": [
  {
   "cell_type": "markdown",
   "metadata": {
    "button": false,
    "new_sheet": false,
    "run_control": {
     "read_only": false
    }
   },
   "source": [
    "# Buneman and weak cold beam instabilities with UPIC-ES"
   ]
  },
  {
   "cell_type": "markdown",
   "metadata": {
    "button": false,
    "new_sheet": false,
    "run_control": {
     "read_only": false
    }
   },
   "source": [
    "## General dispersion relation"
   ]
  },
  {
   "cell_type": "markdown",
   "metadata": {
    "button": false,
    "new_sheet": false,
    "run_control": {
     "read_only": false
    }
   },
   "source": [
    "Consider two cold species, which we will generically label species 1 and species 2, each with constant drift velocity $\\vec{v}_{0,1}$ and $\\vec{v}_{0,2}$ and fluctuating velocity $\\tilde{\\vec{v}}_1$ and $\\tilde{\\vec{v}}_2$, respectively. The linearized Navier-Stokes equation for each species is then\n",
    "\n",
    "$$ \\frac{d}{d t} \\tilde{\\vec{v}}_s = \\frac{\\partial}{\\partial t} \\tilde{\\vec{v}}_s + \\vec{v}_{0,s} \\cdot \\nabla \\tilde{\\vec{v}}_s = \\frac{q_s}{m_s} \\tilde{\\vec{E}}. $$\n",
    "\n",
    "In addition, the continuity equation for each species is\n",
    "\n",
    "$$ \\frac{\\partial}{\\partial t} \\tilde{n}_s + n_{0,s} \\nabla \\cdot \\tilde{\\vec{v}}_s + \\vec{v}_{0,s} \\cdot \\nabla \\tilde{n}_s = 0. $$\n",
    "\n",
    "Poisson's equation then yields\n",
    "\n",
    "$$ \\nabla \\cdot \\tilde{\\vec{E}} = 4\\pi \\sum_{s}q_s \\tilde{n}_s. $$\n",
    "\n",
    "If we assume a plane wave solution of the form $\\tilde{\\vec{E}} = \\vec{E}_0 e^{i(\\vec{k} \\cdot \\vec{r} - \\omega t)}$, then the dynamical equation turns into\n",
    "\n",
    "$$ (-i\\omega + i \\vec{k} \\cdot \\vec{v}_{0,s})\\tilde{\\vec{v}}_s = \\frac{q_s}{m_s} \\tilde{\\vec{E}} \\\\\n",
    "\\Rightarrow \\tilde{\\vec{v}}_s = \\frac{q_s \\tilde{\\vec{E}}}{i m_s (-i\\omega + i \\vec{k} \\cdot \\vec{v}_{0,s})}. $$\n",
    "\n",
    "Similarly, the continuity equation can be rewritten as\n",
    "\n",
    "$$ -i\\omega \\tilde{n}_s + i n_{0,s} \\vec{k} \\cdot \\tilde{\\vec{v}}_s + i \\vec{k} \\cdot \\vec{v}_{0,s} \\tilde{n}_s = 0 \\\\\n",
    "\\Rightarrow \\tilde{n}_s = \\frac{n_{0,s} \\vec{k} \\cdot \\tilde{\\vec{v}}_s}{\\omega - \\vec{k} \\cdot \\vec{v}_{0,s}} = \\frac{-q_s n_{0,s} \\vec{k} \\cdot \\tilde{\\vec{E}}}{i m_s (\\omega - \\vec{k} \\cdot \\vec{v}_{0,s})^2}. $$\n",
    "\n",
    "If we substitute this expression for $\\tilde{n}_s$ into Poisson's equation, after rearranging we find that\n",
    "\n",
    "$$ \\left(1 - \\sum_s\\frac{\\omega_{p,s}^2}{(\\omega - \\vec{k} \\cdot \\vec{v}_{0,s})^2}\\right)i \\vec{k} \\cdot \\tilde{\\vec{E}} = 0. $$\n",
    "\n",
    "Recognizing that $\\nabla \\cdot \\tilde{\\vec{D}} = \\nabla \\cdot (\\epsilon \\tilde{\\vec{E}}) = \\epsilon i \\vec{k} \\cdot \\tilde{\\vec{E}}$, the term in parenthesis is then our dielectric constant. Setting this equal to zero gives the dispersion relation as\n",
    "\n",
    "\\begin{equation}\n",
    "1 - \\frac{\\omega_{p,1}^2}{(\\omega - \\vec{k} \\cdot \\vec{v}_{0,1})^2} - \\frac{\\omega_{p,2}^2}{(\\omega - \\vec{k} \\cdot \\vec{v}_{0,2})^2} = 0. \n",
    "\\end{equation}\n",
    "\n",
    "This equation can be used for various types of two-stream instabilities, for which the parameters $\\omega_{p,s}$ and $\\vec{v}_{0,s}$ can be adjusted. Now let us consider the case where the two species are identical with opposite drift velocities of the same magnitude."
   ]
  },
  {
   "cell_type": "markdown",
   "metadata": {
    "button": false,
    "new_sheet": false,
    "run_control": {
     "read_only": false
    }
   },
   "source": [
    "## Buneman instability"
   ]
  },
  {
   "cell_type": "markdown",
   "metadata": {
    "button": false,
    "new_sheet": false,
    "run_control": {
     "read_only": false
    }
   },
   "source": [
    "Consider a stationary background of ions with the electron plasma moving with a constant drift velocity $\\vec{v}_0$. This could be produced, for example, by a current-carrying plasma. Then the dispersion relation is reduced to\n",
    "\n",
    "$$ \n",
    "1 = \\omega_{pe}^2 \\left(\\frac{m_e/m_i}{\\omega^2} + \\frac{1}{(\\omega - \\vec{k} \\cdot \\vec{v}_0)^2}\\right).\n",
    "$$ \n",
    "\n",
    "This quartic equation can be cast into a simpler form by defining $x \\equiv \\omega/\\omega_{pe}$ and $\\alpha \\equiv \\vec{k} \\cdot \\vec{v}_0/\\omega_{pe}$ to get\n",
    "\n",
    "$$ \n",
    "1 = \\frac{m_e/m_i}{x^2} + \\frac{1}{(x-\\alpha)^2}.\n",
    "$$ "
   ]
  },
  {
   "cell_type": "markdown",
   "metadata": {
    "button": false,
    "new_sheet": false,
    "run_control": {
     "read_only": false
    }
   },
   "source": [
    "#### Parameters\n",
    "\n",
    "From the above equation, it is seen that the two free parameters in the problem are the ratio of electron to ion mass, $m_e/m_i$, and $\\alpha = \\vec{k} \\cdot \\vec{v}_0/\\omega_{pe}$, or simply the ratio $\\vec{k} \\cdot \\vec{v}_0/n_0$.\n",
    "\n",
    "#### Solution to the dispersion relation\n",
    "\n",
    "If we define the right-hand side of the equation as\n",
    "\n",
    "$$ \n",
    "\\chi (x) = \\frac{m_e/m_i}{x^2} + \\frac{1}{(x-\\alpha)^2},\n",
    "$$ \n",
    "\n",
    "then we seek for solutions to $\\chi (x) = 1$. In the below figure, we see that two of the roots for $\\omega$ are always real, and the other two roots may be real or complex depending on the value of $\\alpha$. To find when the $\\omega$ roots begin to be complex, we seek to minimize $\\chi(x)$. Setting $\\frac{m_e}{m_i} \\approx \\frac{1}{1836}$ and solving $\\chi '(x)=0$ yields $x_{min} \\approx 0.075\\alpha$. Then setting $\\chi(x_{min}) \\geq 1$ means that to have complex roots we need $\\alpha \\lesssim 1.12$. "
   ]
  },
  {
   "cell_type": "markdown",
   "metadata": {
    "button": false,
    "new_sheet": false,
    "run_control": {
     "read_only": false
    }
   },
   "source": [
    "### The following lines must always be executed before running anything else.\n",
    "\n",
    "Reminder: Hit Shift+Enter to run a cell, or select the cell and click on the \"Run\" button in the top menu bar"
   ]
  },
  {
   "cell_type": "code",
   "execution_count": null,
   "metadata": {
    "button": false,
    "new_sheet": false,
    "run_control": {
     "read_only": false
    }
   },
   "outputs": [],
   "source": [
    "import buneman_helper\n",
    "%matplotlib inline"
   ]
  },
  {
   "cell_type": "markdown",
   "metadata": {
    "button": false,
    "new_sheet": false,
    "run_control": {
     "read_only": false
    }
   },
   "source": [
    "### Now generate the interactive figure"
   ]
  },
  {
   "cell_type": "code",
   "execution_count": null,
   "metadata": {},
   "outputs": [],
   "source": [
    "buneman_helper.plot_chi_interactive()"
   ]
  },
  {
   "cell_type": "markdown",
   "metadata": {
    "button": false,
    "collapsed": true,
    "new_sheet": false,
    "run_control": {
     "read_only": false
    }
   },
   "source": [
    "If we let $\\omega = \\omega_R+i \\omega_I$, then solving for $\\omega_I$ gives the growth rate. The real and imaginary parts of the frequency are shown in the below figure."
   ]
  },
  {
   "cell_type": "markdown",
   "metadata": {
    "button": false,
    "new_sheet": false,
    "run_control": {
     "read_only": false
    }
   },
   "source": [
    "<img src=\"omega_roots.png\" align=\"left\">"
   ]
  },
  {
   "cell_type": "code",
   "execution_count": null,
   "metadata": {
    "button": false,
    "new_sheet": false,
    "run_control": {
     "read_only": false
    }
   },
   "outputs": [],
   "source": [
    "buneman_helper.plot_growth_interactive()"
   ]
  },
  {
   "cell_type": "markdown",
   "metadata": {
    "button": false,
    "new_sheet": false,
    "run_control": {
     "read_only": false
    }
   },
   "source": [
    "# Simulations with a Particle-in-Cell Code"
   ]
  },
  {
   "cell_type": "markdown",
   "metadata": {
    "button": false,
    "new_sheet": false,
    "run_control": {
     "read_only": false
    }
   },
   "source": [
    "In this project, you will be simulating plasmas with the electrostatic code UPIC-ES.   The normalization of the code is $\\omega_p = 1$, and the grid size $\\Delta x = 1$.  Therefore, velocity is measured in units of [$\\Delta x \\omega_p$].\n",
    "\n",
    "\n",
    "Each plasma electron is initialized with positions (only in x) such that the density is uniform. The ions are initialized at the same positions but with a larger mass.  Each electron is also initialized with velocities ($v_1$, $v_2$, $v_3$) or momentum ($mv_1$, $mv_2$, $mv_3$) from a Maxwellian in each direction. The particles then begin to move in the self-consistent fields that their charge density produce, from Poisson's law:\n",
    "\n",
    "\\begin{equation}\n",
    "\\nabla^2 \\phi = \\rho\n",
    "\\end{equation}\n",
    "\n",
    "\n",
    "\n",
    "You will be looking at plots of the electric field, $\\vec{E}$, and the electrostatic potential, $\\phi$. "
   ]
  },
  {
   "cell_type": "markdown",
   "metadata": {
    "button": false,
    "new_sheet": false,
    "run_control": {
     "read_only": false
    }
   },
   "source": [
    "## Case 1 :  $V_0=3 \\Delta x \\omega_p$\n",
    "\n",
    "### Visualize the theory\n",
    "\n",
    "The dispersion relation for the Buneman instability does not have an analytical solution. The theory curve is produced through root finding, then constructing an interpolation function for later use.  Here we produce the theory curve for our particular simulation, which has a beam velocity of 3 $\\Delta x \\omega_{pe}$."
   ]
  },
  {
   "cell_type": "code",
   "execution_count": null,
   "metadata": {
    "button": false,
    "new_sheet": false,
    "run_control": {
     "read_only": false
    },
    "scrolled": false
   },
   "outputs": [],
   "source": [
    "buneman_helper.plot_theory(v0=2.0, mass_ratio=1.0/100.0)"
   ]
  },
  {
   "cell_type": "markdown",
   "metadata": {
    "button": false,
    "new_sheet": false,
    "run_control": {
     "read_only": false
    }
   },
   "source": [
    "For a mass ratio of 1/100, we have unstable modes for $\\alpha \\lesssim 1.34$, or $k \\lesssim 0.45 \\Delta x^{-1}$.  The most unstable mode occurs at $\\alpha \\approx 1.04$, or $k \\approx 0.35 \\Delta x^{-1}$."
   ]
  },
  {
   "cell_type": "markdown",
   "metadata": {
    "button": false,
    "new_sheet": false,
    "run_control": {
     "read_only": false
    }
   },
   "source": [
    "### Run the simulation:"
   ]
  },
  {
   "cell_type": "code",
   "execution_count": null,
   "metadata": {
    "button": false,
    "new_sheet": false,
    "run_control": {
     "read_only": false
    }
   },
   "outputs": [],
   "source": [
    "buneman_helper.run_upic(output_directory='buneman', inputfile='buneman.txt')"
   ]
  },
  {
   "cell_type": "markdown",
   "metadata": {
    "button": false,
    "new_sheet": false,
    "run_control": {
     "read_only": false
    }
   },
   "source": [
    "Run the cell below to look at the x-component of the electric field as a function of time for the various modes in the simulation."
   ]
  },
  {
   "cell_type": "code",
   "execution_count": null,
   "metadata": {
    "button": false,
    "new_sheet": false,
    "run_control": {
     "read_only": false
    }
   },
   "outputs": [],
   "source": [
    "buneman_helper.plot_t_vs_k(output_directory='buneman')"
   ]
  },
  {
   "cell_type": "markdown",
   "metadata": {
    "button": false,
    "new_sheet": false,
    "run_control": {
     "read_only": false
    }
   },
   "source": [
    "You can observe that the signal occurs near the modes where instability is predicted.   The blue vertical line indicates where the growth rate goes to 0 (at $k \\approx 0.45$).  There should be no instability to the right of the plot.  The red vertical line indicates the location of the most unstable mode ($k \\approx 0.35$).   \n",
    "\n",
    "* Do the simulation results agree with theory?\n",
    "    \n",
    "* What are the sources of the noise for signals whose wavenumber to the right of the BLUE line?\n",
    "\n",
    "* Do you recognize any patterns in the mode strengths going from left to right?  What might explain those patterns?\n",
    "\n",
    "-----\n",
    "Next we'll look at the mode histories in greater detail, and compare the simulation data against theory.\n",
    "\n",
    "Plot the electric field modes individually and compare their growth rate to the theoretical growth rate.\n",
    "\n",
    "The most unstable mode occurs at mode 14, but the theory agrees well for modes 8-14"
   ]
  },
  {
   "cell_type": "code",
   "execution_count": null,
   "metadata": {
    "button": false,
    "new_sheet": false,
    "run_control": {
     "read_only": false
    }
   },
   "outputs": [],
   "source": [
    "buneman_helper.compare_sim_with_theory(output_directory='buneman', v0=3.0, mode=10, mass_ratio=1.0/100.0)"
   ]
  },
  {
   "cell_type": "markdown",
   "metadata": {
    "button": false,
    "new_sheet": false,
    "run_control": {
     "read_only": false
    }
   },
   "source": [
    "Plot the evolution of the electrostatic potential in real space.\n",
    "\n",
    "* Is there a point in time at which the potential ceases to grow?  Do you expect the field to grow without bounds or is there a physical reason for the growth to stop?"
   ]
  },
  {
   "cell_type": "code",
   "execution_count": null,
   "metadata": {
    "button": false,
    "new_sheet": false,
    "run_control": {
     "read_only": false
    }
   },
   "outputs": [],
   "source": [
    "buneman_helper.plot_potential_xt(output_directory='buneman')"
   ]
  },
  {
   "cell_type": "markdown",
   "metadata": {
    "button": false,
    "new_sheet": false,
    "run_control": {
     "read_only": false
    }
   },
   "source": [
    "Finally, here we visualize the evolution of the electron phase space (x,vx).\n",
    "\n",
    "* Examine the evolution of the phase space near the time where the potential stops to grow. What is going on at this time in the simulation?\n",
    "\n",
    "* Think about using the words \"linear\" and \"nonlinear\" to describe these phenomena."
   ]
  },
  {
   "cell_type": "code",
   "execution_count": null,
   "metadata": {
    "button": false,
    "new_sheet": false,
    "run_control": {
     "read_only": false
    }
   },
   "outputs": [],
   "source": [
    "buneman_helper.phasespace_movie(output_directory='buneman')"
   ]
  },
  {
   "cell_type": "code",
   "execution_count": null,
   "metadata": {},
   "outputs": [],
   "source": [
    "buneman_helper.buneman_widget()"
   ]
  }
 ],
 "metadata": {
  "kernelspec": {
   "display_name": "Python 3",
   "language": "python",
   "name": "python3"
  },
  "language_info": {
   "codemirror_mode": {
    "name": "ipython",
    "version": 3
   },
   "file_extension": ".py",
   "mimetype": "text/x-python",
   "name": "python",
   "nbconvert_exporter": "python",
   "pygments_lexer": "ipython3",
   "version": "3.7.6"
  }
 },
 "nbformat": 4,
 "nbformat_minor": 2
}
