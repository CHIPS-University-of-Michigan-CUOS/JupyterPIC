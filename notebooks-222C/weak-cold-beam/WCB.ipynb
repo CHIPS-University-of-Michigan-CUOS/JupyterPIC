{
 "cells": [
  {
   "cell_type": "markdown",
   "metadata": {
    "button": false,
    "new_sheet": false,
    "run_control": {
     "read_only": false
    }
   },
   "source": [
    "# Weak cold beam instabilities with UPIC-ES"
   ]
  },
  {
   "cell_type": "markdown",
   "metadata": {
    "button": false,
    "new_sheet": false,
    "run_control": {
     "read_only": false
    }
   },
   "source": [
    "----\n",
    "## Weak Cold Beam Instability (Bump on tail in the fluid limit)\n",
    "\n",
    "Next we transition to another instability that involves nearly identical mathematics to the Buneman instability.\n",
    "\n",
    "Consider a stationary electron-ion plasma with a fast, weak beam of electrons passing through it. Here \"fast\" implies $v_b \\gg \\bar{v}_e, \\bar{v}_i$, \"weak\" implies $n_b/n_0 \\ll 1$, and \"cold\" implies $v_b \\gg \\bar{v}_b$. Since $\\omega_{pi} \\ll \\omega_{pe}$, we neglect the ion contribution to the dispersion relation and obtain\n",
    "\n",
    "\\begin{align*}\n",
    "1 = \\frac{\\omega_{pe}^2}{(\\omega^2 -( \\vec{k} \\cdot (-\\vec{v}_b)))^2} + \\frac{\\omega_{pb}^2}{\\omega^2}.\n",
    "\\end{align*}\n",
    "\n",
    "Defining $x \\equiv \\omega/\\omega_{p0}$ and $\\alpha \\equiv \\vec{k} \\cdot \\vec{v}_b/\\omega_{p0}$, along with recognizing that $\\omega_{pe}^2/\\omega_{pb}^2 = n_0/n_b$, we then get that (working in the beam frame where the plasma is moving relative to the beam)\n",
    "\n",
    "\\begin{align*}\n",
    "1 = \\frac{n_b/n_0}{x^2} + \\frac{1}{(x-\\alpha)^2}.\n",
    "\\end{align*}\n",
    "\n",
    "This is the exact same equation reached in the Buneman analysis, but with $m_e/m_i$ replaced by $n_b/n_0$ (note that we have to switch to the beam frame to complete the analogy)\n",
    "\n",
    "### Parameters\n",
    "\n",
    "From the above equation, it is seen that the two free parameters in the problem are the ratio of background to beam density, $n_0/n_b$, and $\\alpha = \\vec{k} \\cdot \\vec{v}_b/\\omega_{p0}$, or simply the ratio $\\vec{k} \\cdot \\vec{v}_b/n_0$.\n",
    "\n",
    "### Solution to the dispersion relation\n",
    "\n",
    "Analysis proceeds exactly as in the discussion for the Buneman instability, but now $n_0/n_b \\gg 1$ so we switch to the beam frame to complete the analysis.  Noting that $n_b/n_0 \\ll 1$ is equivalent to $m/M \\ll 1$ in the Buneman case."
   ]
  },
  {
   "cell_type": "markdown",
   "metadata": {},
   "source": [
    "### The following lines must always be executed before running anything else.\n",
    "\n",
    "Reminder: Hit Shift+Enter to run a cell, or select the cell and click on the \"Run\" button in the top menu bar"
   ]
  },
  {
   "cell_type": "code",
   "execution_count": null,
   "metadata": {},
   "outputs": [],
   "source": [
    "import wcb_helper"
   ]
  },
  {
   "cell_type": "markdown",
   "metadata": {
    "button": false,
    "new_sheet": false,
    "run_control": {
     "read_only": false
    }
   },
   "source": [
    "## Case 1 :  $v_b=10 \\Delta x \\omega_p$, $n_b/n_0 = 0.01$\n",
    "\n",
    "### Visualize the theory\n",
    "\n",
    "The dispersion relation for the Buneman instability does not have an analytical solution. The theory curve is produced through root finding, then constructing an interpolation function for later use.  Here we produce the theory curve for our particular simulation, which has a beam velocity of 3 $\\Delta x \\omega_{pe}$."
   ]
  },
  {
   "cell_type": "code",
   "execution_count": null,
   "metadata": {
    "button": false,
    "new_sheet": false,
    "run_control": {
     "read_only": false
    },
    "scrolled": false
   },
   "outputs": [],
   "source": [
    "wcb_helper.plot_theory(v0=10.0, density_ratio=1/100)"
   ]
  },
  {
   "cell_type": "markdown",
   "metadata": {
    "button": false,
    "new_sheet": false,
    "run_control": {
     "read_only": false
    }
   },
   "source": [
    "For a density ratio of 100, we have unstable modes for $\\alpha \\lesssim 13.4$, or $k \\lesssim 1.34 \\Delta x^{-1}$.  The most unstable mode occurs at $\\alpha \\approx 10.4$, or $k \\approx 1.04 \\Delta x^{-1}$."
   ]
  },
  {
   "cell_type": "markdown",
   "metadata": {
    "button": false,
    "new_sheet": false,
    "run_control": {
     "read_only": false
    }
   },
   "source": [
    "### Run the simulation:"
   ]
  },
  {
   "cell_type": "code",
   "execution_count": null,
   "metadata": {},
   "outputs": [],
   "source": [
    "wcb_helper.run_upic(output_directory='wcb', inputfile='wcb.txt')"
   ]
  },
  {
   "cell_type": "markdown",
   "metadata": {
    "button": false,
    "new_sheet": false,
    "run_control": {
     "read_only": false
    }
   },
   "source": [
    "Run the cell below to look at the x-component of the electric field as a function of time for the various modes in the simulation."
   ]
  },
  {
   "cell_type": "code",
   "execution_count": null,
   "metadata": {
    "button": false,
    "new_sheet": false,
    "run_control": {
     "read_only": false
    }
   },
   "outputs": [],
   "source": [
    "wcb_helper.plot_t_vs_k(output_directory='wcb')"
   ]
  },
  {
   "cell_type": "code",
   "execution_count": null,
   "metadata": {
    "button": false,
    "new_sheet": false,
    "run_control": {
     "read_only": false
    }
   },
   "outputs": [],
   "source": [
    "wcb_helper.compare_sim_with_theory(output_directory='wcb', v0=10.0, mode=4, density_ratio=1/100)"
   ]
  },
  {
   "cell_type": "markdown",
   "metadata": {
    "button": false,
    "new_sheet": false,
    "run_control": {
     "read_only": false
    }
   },
   "source": [
    "Plot the evolution of the electrostatic potential in real space.\n",
    "\n",
    "* Is there a point in time at which the potential ceases to grow?  Do you expect the field to grow without bounds or is there a physical reason for the growth to stop?"
   ]
  },
  {
   "cell_type": "code",
   "execution_count": null,
   "metadata": {
    "button": false,
    "new_sheet": false,
    "run_control": {
     "read_only": false
    }
   },
   "outputs": [],
   "source": [
    "wcb_helper.plot_potential_xt(output_directory='wcb')"
   ]
  },
  {
   "cell_type": "markdown",
   "metadata": {
    "button": false,
    "new_sheet": false,
    "run_control": {
     "read_only": false
    }
   },
   "source": [
    "Finally, here we visualize the evolution of the electron phase space (x,vx).\n",
    "\n",
    "* Examine the evolution of the phase space near the time where the potential stops to grow. What is going on at this time in the simulation?\n",
    "\n",
    "* Think about using the words \"linear\" and \"nonlinear\" to describe these phenomena."
   ]
  },
  {
   "cell_type": "code",
   "execution_count": null,
   "metadata": {
    "button": false,
    "new_sheet": false,
    "run_control": {
     "read_only": false
    }
   },
   "outputs": [],
   "source": [
    "wcb_helper.phasespace_movie(output_directory='wcb')"
   ]
  },
  {
   "cell_type": "code",
   "execution_count": null,
   "metadata": {},
   "outputs": [],
   "source": [
    "wcb_helper.wcb_widget()"
   ]
  }
 ],
 "metadata": {
  "kernelspec": {
   "display_name": "Python 3",
   "language": "python",
   "name": "python3"
  },
  "language_info": {
   "codemirror_mode": {
    "name": "ipython",
    "version": 3
   },
   "file_extension": ".py",
   "mimetype": "text/x-python",
   "name": "python",
   "nbconvert_exporter": "python",
   "pygments_lexer": "ipython3",
   "version": "3.7.6"
  }
 },
 "nbformat": 4,
 "nbformat_minor": 2
}
