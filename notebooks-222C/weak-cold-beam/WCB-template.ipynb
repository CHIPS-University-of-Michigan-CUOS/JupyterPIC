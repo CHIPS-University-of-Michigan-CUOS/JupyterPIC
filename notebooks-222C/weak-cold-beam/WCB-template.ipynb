{
 "cells": [
  {
   "cell_type": "markdown",
   "metadata": {
    "button": false,
    "new_sheet": false,
    "run_control": {
     "read_only": false
    }
   },
   "source": [
    "# Weak cold beam instabilities with UPIC-ES"
   ]
  },
  {
   "cell_type": "markdown",
   "metadata": {
    "button": false,
    "new_sheet": false,
    "run_control": {
     "read_only": false
    }
   },
   "source": [
    "----\n",
    "## Weak Cold Beam Instability (Bump on tail in the fluid limit)\n",
    "\n",
    "Next we transition to another instability, the weak cold beam instability.\n",
    "\n",
    "Consider a stationary electron-ion plasma with a fast, weak beam of electrons passing through it. Here \"fast\" implies $v_b \\gg \\bar{v}_e, \\bar{v}_i$, \"weak\" implies $n_b/n_0 \\ll 1$, and \"cold\" implies $v_b \\gg \\bar{v}_b$. Since $\\omega_{pi} \\ll \\omega_{pe}$, we neglect the ion contribution to the dispersion relation and obtain the dispersion relation for this instability:\n",
    "\n",
    "\\begin{align*}\n",
    "1 = \\frac{\\omega_{pe}^2}{\\omega^2 } + \\frac{\\omega_{pb}^2}{(\\omega -( \\vec{k} \\cdot (\\vec{v}_b)))^2}.\n",
    "\\end{align*}\n",
    "\n",
    "The roots can be obtained numerically, and the largest growth is expected to occur near:\n",
    "\n",
    "\\begin{align*}\n",
    "\\frac{ k v_b}{\\omega_{pe}} \\approx 1\n",
    "\\end{align*}\n",
    "\n",
    "\n",
    "Below is a simple example of the WCB instability and also a widget which allows you to change the beam/plasma parameters to explore\n"
   ]
  },
  {
   "cell_type": "markdown",
   "metadata": {
    "button": false,
    "new_sheet": false,
    "run_control": {
     "read_only": false
    }
   },
   "source": [
    "## Case 1 :  $v_b=10 \\Delta x \\omega_p$, $n_b/n_0 = 0.01$\n",
    "\n",
    "### Visualize the theory\n",
    "\n",
    "The dispersion relation for the weak cold beam instability does not have an analytical solution. The theory curve is produced through root finding, then constructing an interpolation function for later use.  Here we produce the theory curve for our particular simulation, which has a beam velocity of 10 $\\Delta x \\omega_{pe}$."
   ]
  },
  {
   "cell_type": "code",
   "execution_count": null,
   "metadata": {},
   "outputs": [],
   "source": [
    "import wcb_helper"
   ]
  },
  {
   "cell_type": "code",
   "execution_count": null,
   "metadata": {
    "button": false,
    "new_sheet": false,
    "run_control": {
     "read_only": false
    },
    "scrolled": false
   },
   "outputs": [],
   "source": [
    "wcb_helper.plot_theory(v0=10.0, density_ratio=1/100)"
   ]
  },
  {
   "cell_type": "markdown",
   "metadata": {
    "button": false,
    "new_sheet": false,
    "run_control": {
     "read_only": false
    }
   },
   "source": [
    "For a density ratio of 0.01, we have unstable modes for $\\alpha \\lesssim 1.34$, or $k \\lesssim 0.134 \\Delta x^{-1}$.  The most unstable mode occurs at $\\alpha \\approx 1.04$, or $k \\approx 0.104 \\Delta x^{-1}$."
   ]
  },
  {
   "cell_type": "markdown",
   "metadata": {
    "button": false,
    "new_sheet": false,
    "run_control": {
     "read_only": false
    }
   },
   "source": [
    "### Run the simulation:\n",
    "\n",
    "First, let's run this problem in the beam-frame, as dictated by the analysis:"
   ]
  },
  {
   "cell_type": "markdown",
   "metadata": {},
   "source": [
    "## Beam-Plasma Instability in the lab-frame:"
   ]
  },
  {
   "cell_type": "code",
   "execution_count": null,
   "metadata": {},
   "outputs": [],
   "source": [
    "wcb_helper.run_upic(output_directory='wcb', inputfile='wcb.txt')"
   ]
  },
  {
   "cell_type": "markdown",
   "metadata": {
    "button": false,
    "new_sheet": false,
    "run_control": {
     "read_only": false
    }
   },
   "source": [
    "Run the cell below to look at the x-component of the electric field as a function of time for the various modes in the simulation."
   ]
  },
  {
   "cell_type": "code",
   "execution_count": null,
   "metadata": {
    "button": false,
    "new_sheet": false,
    "run_control": {
     "read_only": false
    }
   },
   "outputs": [],
   "source": [
    "wcb_helper.plot_t_vs_k(output_directory='wcb')"
   ]
  },
  {
   "cell_type": "code",
   "execution_count": null,
   "metadata": {
    "button": false,
    "new_sheet": false,
    "run_control": {
     "read_only": false
    }
   },
   "outputs": [],
   "source": [
    "wcb_helper.compare_sim_with_theory(output_directory='wcb', v0=10.0, mode=4, density_ratio=1/100)"
   ]
  },
  {
   "cell_type": "markdown",
   "metadata": {
    "button": false,
    "new_sheet": false,
    "run_control": {
     "read_only": false
    }
   },
   "source": [
    "Plot the evolution of the electrostatic potential in real space.\n",
    "\n",
    "* Is there a point in time at which the potential ceases to grow?  Do you expect the field to grow without bounds or is there a physical reason for the growth to stop?"
   ]
  },
  {
   "cell_type": "code",
   "execution_count": null,
   "metadata": {
    "button": false,
    "new_sheet": false,
    "run_control": {
     "read_only": false
    }
   },
   "outputs": [],
   "source": [
    "wcb_helper.plot_potential_xt(output_directory='wcb')"
   ]
  },
  {
   "cell_type": "markdown",
   "metadata": {
    "button": false,
    "new_sheet": false,
    "run_control": {
     "read_only": false
    }
   },
   "source": [
    "Finally, here we visualize the evolution of the electron phase space (x,vx).\n",
    "\n",
    "* Examine the evolution of the phase space near the time where the potential stops to grow. What is going on at this time in the simulation?\n",
    "\n",
    "* Think about using the words \"linear\" and \"nonlinear\" to describe these phenomena."
   ]
  },
  {
   "cell_type": "code",
   "execution_count": null,
   "metadata": {
    "button": false,
    "new_sheet": false,
    "run_control": {
     "read_only": false
    }
   },
   "outputs": [],
   "source": [
    "wcb_helper.phasespace_movie(output_directory='wcb')"
   ]
  },
  {
   "cell_type": "code",
   "execution_count": null,
   "metadata": {},
   "outputs": [],
   "source": [
    "wcb_helper.wcb_widget()"
   ]
  },
  {
   "cell_type": "markdown",
   "metadata": {},
   "source": [
    "## WCB (Weak Cold Beam) in the Beam Frame\n",
    "\n",
    "You can derive the dispersion relation for the WCB instability in the beam frame, and you will find an analogy to the Buneman instability, with $n_b/n_0$ now taking the place of the parameter $m/M$.  Here we re-run the case shown at the beginning of the notebook in the beam frame."
   ]
  },
  {
   "cell_type": "code",
   "execution_count": null,
   "metadata": {},
   "outputs": [],
   "source": [
    "wcb_helper.run_upic(output_directory='wcb-beam', inputfile='wcb-beam.txt')"
   ]
  },
  {
   "cell_type": "markdown",
   "metadata": {},
   "source": [
    "Run the cell below to look at the x-component of the electric field as a function of time for the various modes in the simulation."
   ]
  },
  {
   "cell_type": "code",
   "execution_count": null,
   "metadata": {},
   "outputs": [],
   "source": [
    "wcb_helper.plot_t_vs_k(output_directory='wcb-beam')"
   ]
  },
  {
   "cell_type": "code",
   "execution_count": null,
   "metadata": {},
   "outputs": [],
   "source": [
    "wcb_helper.compare_sim_with_theory(output_directory='wcb-beam', v0=10.0, mode=4, density_ratio=1/100)"
   ]
  },
  {
   "cell_type": "markdown",
   "metadata": {},
   "source": [
    "Plot the evolution of the electrostatic potential in real space.\n",
    "\n",
    "* Is there a point in time at which the potential ceases to grow?  Do you expect the field to grow without bounds or is there a physical reason for the growth to stop?"
   ]
  },
  {
   "cell_type": "code",
   "execution_count": null,
   "metadata": {},
   "outputs": [],
   "source": [
    "wcb_helper.plot_potential_xt(output_directory='wcb-beam')"
   ]
  },
  {
   "cell_type": "markdown",
   "metadata": {},
   "source": [
    "Finally, here we visualize the evolution of the electron phase space (x,vx).\n",
    "\n",
    "* Examine the evolution of the phase space near the time where the potential stops to grow. What is going on at this time in the simulation?\n",
    "\n",
    "* Think about using the words \"linear\" and \"nonlinear\" to describe these phenomena."
   ]
  },
  {
   "cell_type": "code",
   "execution_count": null,
   "metadata": {},
   "outputs": [],
   "source": [
    "wcb_helper.phasespace_movie(output_directory='wcb-beam')"
   ]
  },
  {
   "cell_type": "code",
   "execution_count": null,
   "metadata": {},
   "outputs": [],
   "source": []
  }
 ],
 "metadata": {
  "kernelspec": {
   "display_name": "Python 3",
   "language": "python",
   "name": "python3"
  },
  "language_info": {
   "codemirror_mode": {
    "name": "ipython",
    "version": 3
   },
   "file_extension": ".py",
   "mimetype": "text/x-python",
   "name": "python",
   "nbconvert_exporter": "python",
   "pygments_lexer": "ipython3",
   "version": "3.7.6"
  }
 },
 "nbformat": 4,
 "nbformat_minor": 2
}
