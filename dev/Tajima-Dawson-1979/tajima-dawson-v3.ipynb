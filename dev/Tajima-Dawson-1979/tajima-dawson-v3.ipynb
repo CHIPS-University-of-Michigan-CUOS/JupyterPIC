{
 "cells": [
  {
   "cell_type": "markdown",
   "metadata": {},
   "source": [
    "# Tajima and Dawson\n",
    "## (Rev: 05/03/2019)\n",
    "\n",
    "LWFA Workbook I\n",
    "\n",
    "This is the first in a series of workbooks on laser wakefield acceleration (LWFA). This first notebook enables one to reproduce the simulations of T. Tajima and J. M. Dawson, \"Laser Electron Accelerator.\" Phys. Rev. Lett. **43**, 267 (1979) which has now been cited over 4300 times. The notebook will also enable you to experiment with parameters beyond the original paper and prepare you for a follow up notebook (workbook II) that will enable you to study aspects of 1D LWFA including how the wake is excited, how the wake amplitude depends on the laser amplitude and shape, how the electron energy depends on the ratio of the laser and plasma frequency, and how the acceleration length depends on the dephasing of the electron and the wake and on the pump depletion of the laser."
   ]
  },
  {
   "cell_type": "markdown",
   "metadata": {},
   "source": [
    "In the original work of Tajima and Dawson the laser is intialized inside a plasma (both the electric and magnetic field and the plasma currents based on the linear dispersion relation). The laser pulse shape is rectangular (there are sharp rise and fall times and amplitude is constant over the defined pulse length). The laser is then allowed to propagate through the plasma. For numerical reasons the plasma has a high initial temperature of about 20keV, $kT_e/mc^2=(v_e/c)^2$ where $v_e/c=.2$. It is stated that the simulations \"typically\" use 512 cells with 10 plasma electrons per cell (the ions are a uniform neutralizing background). The cell size is chosen to be $\\Delta=\\lambda_0/15$ where $\\lambda_0$ is the wavelength of the laser inside the plasma. The amplitude of the laser is chosen to be $eE_0/mc\\omega_0=eA_0/mc^2=1$ where $\\omega_0$ is the frequency of the laser assuming the linear dispersion is correct. The duration of the laser was chosen to be $c \\tau_0=\\pi c/\\omega_p$. It is initialized between the $50\\Delta$ and $81.4\\Delta$ and it moves towards higher cell number.  The ratio $\\omega_0/\\omega_p$ can be obtained from the linear dispersion relation $D.R.$ where $c/\\omega_p\\Delta \\equiv \\bar c$ is what Tajima and Dawson call the \"speed of light\" for their simulation code. \n",
    "\n",
    "However, there is not sufficient detail to know when the simulations used \"typical\" parameters. We have assumed that the cell size was always chosen to be 1/15 of the laser wavelengtgh. We have then done our best to choose the number of cells and simulation length to \"reproduce\" the figures in the paper. However, we do not expect the agreement to be \"perfect\" and we stress that some of the parameters were chosen to to limiations of the simulations that no longer exist today. For example, they used a temperature of 20keV to avoid a numerical instability and they used a code they used a code based on using FFTs so that they always used a cell number that is a muliple of two so they did not have that much flexibility on the number of cells and simulation length.  \n",
    "\n",
    "We begin by summarizing the parameters discussed in Tajima and Dawson for their 1D simulations:\n",
    "\n",
    "* $L_x = 512\\Delta$\n",
    "* $v_e = .2 c$\n",
    "* $k_x = 2\\pi / 15\\Delta$\n",
    "* number of electrons = 5120\n",
    "* particle size = $1\\Delta$\n",
    "\n",
    "where:\n",
    "* $\\Delta$ is the cell size\n",
    "* $v_e \\equiv \\sqrt {kT_e/m}$ is the electron thermal speed\n",
    "\n",
    "The following relations are kept fixed:\n",
    "* $eE_0/m\\omega = eB_0/m\\omega = c$\n",
    "* $L_t =c\\tau_0 = \\pi c/\\omega_p$\n",
    "* $p_0 = eE_0/\\omega$\n",
    "* $\\omega/\\omega_p = (1 + k_x^2c^2)^{1/2}=(1+(\\bar c 2\\pi/15)^2)^{1/2}$\n",
    "\n",
    "where:\n",
    "* $E_0$ and $B_0$ are the pump wave electric and magnetic field amplitudes\n",
    "* $p_0$ is the corresponding amplitude for the momentum modulation\n",
    "\n",
    "The laser is intialized via using:\n",
    "* $E_y = E_0\\sin k_x(x-x_0)$\n",
    "* $B_z = B_0\\sin k_x(x-x_0)$\n",
    "* $p_y = p^{random}+p_0\\cos k_x(x-x_0)$\n",
    "\n"
   ]
  },
  {
   "cell_type": "markdown",
   "metadata": {},
   "source": [
    "The four cases run in Tajima Dawson varied the ratio of $\\omega_0/\\omega_p$ and the simulation length in units of $c/\\omega_p$ by varying $\\bar c =(5, 7.25, 10, 14.7)$.\n",
    "\n",
    "\n",
    "So the four cases correspond to:\n",
    "\n",
    "* $\\omega_0/\\omega_p =(2.32, 3.30, 4.31, 6.24)$\n",
    "\n",
    "We guess that for these cases Tajima and Dawson used:\n",
    "\n",
    "* $L_x \\omega_p/c=(102.4, 102.4, 102.4, 139.264)$.\n"
   ]
  },
  {
   "cell_type": "markdown",
   "metadata": {},
   "source": [
    "You are going to try to reproduce the Tajima and Dawson results using OSIRIS. In OSIRIS we use a different set of normalizations and we launch the laser from vacuum into the plasma. So the laser frquency is specified and the wavelength (wave number) self-consistently adjusts itself inside the plasma. In OSIRIS the particle shapes are sometimes smoother and a bit wider in terms of the cell that those used Tajima Dawson and this allows us to use lower temperatures."
   ]
  },
  {
   "cell_type": "markdown",
   "metadata": {},
   "source": [
    "OSIRIS simulations are done in normalized units. \n",
    "\n",
    "* Time:  $t' = t \\omega_{p}$\n",
    "\n",
    "* Frequency: $\\omega' = \\frac{\\omega}{\\omega_{p}}$ \n",
    "\n",
    "* Position: $\\vec{x}' = \\frac{\\omega_{p}}{c} \\vec{x}$  \n",
    "\n",
    "* Momenta: $\\vec{u}' = \\frac{\\vec{p}}{m_{e} c} = \\frac{\\vec{\\gamma v}}{c} = \\frac{\\vec{u}} {c}$  \n",
    "\n",
    "* Electric field: $\\vec{E}' = e \\frac{c / \\omega_{p}}{m_{e} c^2} \\vec{E}$  \n",
    "\n",
    "* Magnetic field: $\\vec{B}' = e \\frac{c / \\omega_{p}}{m_{e} c^2} \\vec{B}$  \n"
   ]
  },
  {
   "cell_type": "markdown",
   "metadata": {},
   "source": [
    "To try to \"reproduce\" the simulations in Tajima and Dawson with OSIRIS you should first try the following (they are actually already set up as cases A,B,C, and D which have the following parameters (note that because we are limited by multiple of two the number of cells we use different values than they may have used)  :\n",
    "\n",
    "|   Normalized Sim Parameter\t| Case A   \t| Case B   \t| Case C   \t| Case D   \t|\n",
    "| --------- | ---------\t| --------- | --------- | --------- |\n",
    "| $\\omega_0/\\omega_p$  \t|   2.32\t|   3.30\t|   4.31\t|   6.24\t|\n",
    "| $ (n_0)$   |1|1|1|1|\n",
    "| $a_{0}$  \t|   1\t|   1\t|   1\t|   1\t|\n",
    "|  $L_x \\omega_p/c$ \t|   102.4\t|   102.4\t|   102.4\t|   139.264\t|\n",
    "| $N_{cells}$ | 512 | 750 | 1024 |2048 |\n",
    "| $\\omega_p \\Delta /c = N_{x}/L_{x}$ | .2 | .13 | .1 | .068 |\n",
    "| $\\omega_0 \\Delta /c$ | .464 | .456 | .431 | .424 |\n",
    "| $N_{pcell}$ | 10 | 10 | 10 | 10 |\n",
    "| $v_{th} / c$ | 0.2 | 0.2 | 0.2 | 0.2 |\n",
    "| $\\omega_p \\Delta t$ | .19 | .137 | .99 | .067 |\n",
    "| $\\omega_0 \\Delta t$ | .45 | .45 | .43 | .42 |\n",
    "| $\\omega_P \\tau_{rise}$ | 0 | 0 | 0 | 0 |\n",
    "| $\\omega_P \\tau_{flat}$ | $\\pi$ | $\\pi$ | $\\pi$ | $\\pi$ |\n",
    "| $\\omega_P \\tau_{fall}$ | 0 | 0 | 0 | 0 |\n",
    "\n",
    "Although not needed to reproduce the Tajima and Dawson results we define $\\tau_{rise}$ and $\\tau_{fall}$ for exploration. The rise (and fall) of the laser amplitude (not intensity) is given by $eA/mc^2=a_0 [10 (t/\\tau_{rise})^3-15(t/\\tau_{rise})^4+6(t/\\tau_{rise})^5]$. We have interpreted the paper to the best of our ability to determine the simulation parameters. As an open source project, we hope that users of this notebook will provide feedback including comments regarding how slight changes to the input parameters may lead to better agreement."
   ]
  },
  {
   "cell_type": "code",
   "execution_count": 1,
   "metadata": {},
   "outputs": [],
   "source": [
    "# **********************************\n",
    "# **********************************\n",
    "# First Run This Cell to \n",
    "# import the necessary libraries\n",
    "# **********************************\n",
    "# **********************************\n",
    "\n",
    "# Please run this cell before running anything, and run this cell again if you have restarted the \n",
    "# python kernel.\n",
    "\n",
    "# We first import necessary libraries\n",
    "\n",
    "#\n",
    "# This cell defines useful routines to diagnose the simulations here\n",
    "#\n",
    "\n",
    "import sys\n",
    "b= sys.path\n",
    "sys.path=['/home/jovyan/analysis'] + b\n",
    "import osiris\n",
    "import numpy as np\n",
    "import matplotlib.pyplot as plt\n",
    "from matplotlib.colors import LogNorm\n",
    "from osh5vis import new_fig, osplot\n",
    "from osh5io import read_h5\n",
    "from osh5utils import fft\n",
    "import glob\n",
    "from ipywidgets import interact_manual,fixed,Layout\n",
    "import ipywidgets as widgets\n",
    "interact_calc=interact_manual.options(manual_name=\"Make New Input and Run\")\n",
    "import os\n",
    "from osiris import tajima\n",
    "\n",
    "#Define some functions for later\n",
    "\n",
    "\n",
    "def plot_maxgamma_t(simdir):\n",
    "    \n",
    "    maxg, time = [], []\n",
    "    for f in sorted(glob.glob(simdir + '/MS/PHA/p1x1/electrons/*.h5')):\n",
    "        data = read_h5(f)\n",
    "        ind = np.nonzero(data)\n",
    "        if len(ind[0]==0):\n",
    "            maxg.append(np.sqrt(1+(data.axes[0][max(ind[0])])**2))\n",
    "            time.append(data.run_attrs['TIME'])\n",
    "    print('max gamma = ', max(maxg))\n",
    "    \n",
    "def newifile(iname='case0.txt', oname='case1.txt', uth=1e-6, \n",
    "             a0=1.0, omega0=2.0, t_flat=3.14, t_rise=0, t_fall=0,\n",
    "            nx_p=1024, xmax=102.4, ndump=1, ppc=10, tmax=200.0 ):\n",
    "\n",
    "    with open(iname) as osdata:\n",
    "        data = osdata.readlines()\n",
    "\n",
    "    for i in range(len(data)):\n",
    "        if 'uth(1:3)' in data[i]:\n",
    "            data[i] = 'uth(1:3) = '+str(uth)+' , '+str(uth)+' , '+str(uth)+',\\n'\n",
    "        if 'uth_bnd(1:3,1,1)' in data[i]:\n",
    "            data[i] = 'uth_bnd(1:3,1,1) = '+str(uth)+' , '+str(uth)+' , '+str(uth)+',\\n'\n",
    "        if 'uth_bnd(1:3,2,1)' in data[i]:\n",
    "            data[i] = 'uth_bnd(1:3,2,1) = '+str(uth)+' , '+str(uth)+' , '+str(uth)+',\\n'\n",
    "        if 'a0 =' in data[i] and 'omega0' not in data[i]:\n",
    "            data[i] = 'a0 = '+str(a0)+',\\n'\n",
    "        if 'omega0 =' in data[i]:\n",
    "            data[i] = 'omega0 = '+str(omega0)+',\\n'\n",
    "        if 't_flat =' in data[i]:\n",
    "            data[i] = 't_flat = '+str(t_flat)+',\\n'\n",
    "        if 't_rise =' in data[i]:\n",
    "            data[i] = 't_rise = '+str(t_rise)+',\\n'\n",
    "        if 't_fall =' in data[i]:\n",
    "            data[i] = 't_fall = '+str(t_fall)+',\\n'\n",
    "        if 'nx_p(1:1) =' in data[i]:\n",
    "            data[i] = 'nx_p(1:1) = '+str(nx_p)+',\\n'\n",
    "        if 'dt =' in data[i]:\n",
    "            dt = (0.98 * xmax / nx_p)\n",
    "            data[i] = 'dt = '+str(dt)+'e0'+',\\n'\n",
    "        if 'xmax(1:1) =' in data[i] and 'ps_xmax(1:1)' not in data[i]:\n",
    "            data[i] = 'xmax(1:1) = '+str(xmax)+'e0,\\n'\n",
    "        if 'ps_xmax(1:1) =' in data[i]:\n",
    "            data[i] = 'ps_xmax(1:1) = '+str(xmax)+',\\n'\n",
    "        if 'x(1:2,1) =' in data[i] and 'fx(1:2,1)' not in data[i]:\n",
    "            data[i] = 'x(1:2,1) = 0.0, '+str(xmax)+',\\n'\n",
    "        if 'ndump =' in data[i]:\n",
    "            data[i] = 'ndump = '+str(ndump)+',\\n'\n",
    "        if 'num_par_x(1:1) =' in data[i]:\n",
    "            data[i] = 'num_par_x(1:1) = '+str(ppc)+',\\n'\n",
    "        if 'lon_start =' in data[i]:\n",
    "            data[i] = 'lon_start = '+str(xmax-0.5)+'\\n'\n",
    "# This line is for moving window only\n",
    "        if ('x(1:4,1)' in data[i]) and not ('fx(1:4,1)' in data[i]):\n",
    "            data[i]= 'x(1:4,1) = 0.0, '+str(xmax)+' , '+str(xmax+0.001)+', 1500.0,'+'\\n'\n",
    "        if 'tmax =' in data[i]:\n",
    "            data[i] = 'tmax ='+str(tmax)+'\\n'\n",
    "\n",
    "    with open(oname,'w') as f:\n",
    "        for line in data:\n",
    "            f.write(line)\n",
    "    \n",
    "    print('New file '+oname+' is written.')\n",
    "    dirname = oname.strip('.txt')\n",
    "    print('Running OSIRIS in directory '+dirname+'...')\n",
    "    osiris.runosiris(rundir=dirname,inputfile=oname,print_out='yes')\n",
    "    plot_maxgamma_t(dirname)\n",
    "    print('Done')\n",
    " \n",
    "\n",
    "# similar to newfile, but nx_p is set automatically by omega0.\n",
    "#\n",
    "#\n",
    "def newifile2(iname='case0.txt', oname='case1.txt', uth=1e-6, \n",
    "             a0=1.0, omega0=2.0, t_flat=3.14, t_rise=0, t_fall=0,\n",
    "            xmax=102.4, ndump=1, ppc=10, tmax=200.0 ):\n",
    "\n",
    "    with open(iname) as osdata:\n",
    "        data = osdata.readlines()\n",
    "    delta_x = 0.15/omega0\n",
    "    nx_p = int(xmax/delta_x)\n",
    "    for i in range(len(data)):\n",
    "        if 'uth(1:3)' in data[i]:\n",
    "            data[i] = 'uth(1:3) = '+str(uth)+' , '+str(uth)+' , '+str(uth)+',\\n'\n",
    "        if 'uth_bnd(1:3,1,1)' in data[i]:\n",
    "            data[i] = 'uth_bnd(1:3,1,1) = '+str(uth)+' , '+str(uth)+' , '+str(uth)+',\\n'\n",
    "        if 'uth_bnd(1:3,2,1)' in data[i]:\n",
    "            data[i] = 'uth_bnd(1:3,2,1) = '+str(uth)+' , '+str(uth)+' , '+str(uth)+',\\n'\n",
    "        if 'a0 =' in data[i] and 'omega0' not in data[i]:\n",
    "            data[i] = 'a0 = '+str(a0)+',\\n'\n",
    "        if 'omega0 =' in data[i]:\n",
    "            data[i] = 'omega0 = '+str(omega0)+',\\n'\n",
    "        if 't_flat =' in data[i]:\n",
    "            data[i] = 't_flat = '+str(t_flat)+',\\n'\n",
    "        if 't_rise =' in data[i]:\n",
    "            data[i] = 't_rise = '+str(t_rise)+',\\n'\n",
    "        if 't_fall =' in data[i]:\n",
    "            data[i] = 't_fall = '+str(t_fall)+',\\n'\n",
    "        if 'nx_p(1:1) =' in data[i]:\n",
    "            data[i] = 'nx_p(1:1) = '+str(nx_p)+',\\n'\n",
    "        if 'dt =' in data[i]:\n",
    "            dt = (0.98 * xmax / nx_p)\n",
    "            data[i] = 'dt = '+str(dt)+'e0'+',\\n'\n",
    "        if 'xmax(1:1) =' in data[i] and 'ps_xmax(1:1)' not in data[i]:\n",
    "            data[i] = 'xmax(1:1) = '+str(xmax)+'e0,\\n'\n",
    "        if 'ps_xmax(1:1) =' in data[i]:\n",
    "            data[i] = 'ps_xmax(1:1) = '+str(xmax)+',\\n'\n",
    "        if 'x(1:2,1) =' in data[i] and 'fx(1:2,1)' not in data[i]:\n",
    "            data[i] = 'x(1:2,1) = 0.0, '+str(xmax)+',\\n'\n",
    "        if 'ndump =' in data[i]:\n",
    "            data[i] = 'ndump = '+str(ndump)+',\\n'\n",
    "        if 'num_par_x(1:1) =' in data[i]:\n",
    "            data[i] = 'num_par_x(1:1) = '+str(ppc)+',\\n'\n",
    "        if 'lon_start =' in data[i]:\n",
    "            data[i] = 'lon_start = '+str(xmax-0.5)+'\\n'\n",
    "# This line is for moving window only\n",
    "        if ('x(1:4,1)' in data[i]) and not ('fx(1:4,1)' in data[i]):\n",
    "            data[i]= 'x(1:4,1) = 0.0, '+str(xmax)+' , '+str(xmax+0.001)+', 1500.0,'+'\\n'\n",
    "        if 'tmax =' in data[i]:\n",
    "            data[i] = 'tmax ='+str(tmax)+'\\n'\n",
    "\n",
    "    with open(oname,'w') as f:\n",
    "        for line in data:\n",
    "            f.write(line)\n",
    "    \n",
    "    print('New file '+oname+' is written.')\n",
    "    dirname = oname.strip('.txt')\n",
    "    print('Running OSIRIS in directory '+dirname+'...')\n",
    "    osiris.runosiris(rundir=dirname,inputfile=oname,print_out='yes')\n",
    "    plot_maxgamma_t(dirname)\n",
    "    print('Done')"
   ]
  },
  {
   "cell_type": "markdown",
   "metadata": {},
   "source": [
    "## Here we illustrate and explore the OSIRIS pulse shape"
   ]
  },
  {
   "cell_type": "code",
   "execution_count": 2,
   "metadata": {},
   "outputs": [
    {
     "data": {
      "application/vnd.jupyter.widget-view+json": {
       "model_id": "5156dd9ca8c74448bfddb87a9a432340",
       "version_major": 2,
       "version_minor": 0
      },
      "text/plain": [
       "interactive(children=(FloatSlider(value=1.57, description='$t_{rise}$', max=5.0, step=0.05), FloatSlider(value…"
      ]
     },
     "metadata": {},
     "output_type": "display_data"
    },
    {
     "data": {
      "text/plain": [
       "<function __main__.laser_envelope(trise, tflat, tfall)>"
      ]
     },
     "execution_count": 2,
     "metadata": {},
     "output_type": "execute_result"
    }
   ],
   "source": [
    "# This cell shows the laser envelope shape for given t_rise, t_fall, and Lt.  \n",
    "#\n",
    "from ipywidgets import interact, fixed, FloatSlider\n",
    "%matplotlib inline\n",
    "def laser_envelope(trise,tflat,tfall):\n",
    "    def osiris_env(tau):\n",
    "        return(10*tau*tau*tau-15*tau*tau*tau*tau+6*tau*tau*tau*tau*tau)\n",
    "    npoints=201\n",
    "    total_range=(trise+tflat+tfall)\n",
    "    dt=total_range/(npoints)\n",
    "    xaxis=np.arange(0,total_range,dt)\n",
    "    yaxis=np.zeros(npoints)\n",
    "    yaxis_gaussian=np.zeros(npoints)\n",
    "    x_midpoint=total_range/2.0\n",
    "    \n",
    "    for i in range(0,npoints):\n",
    "        if (xaxis[i]<trise):\n",
    "            yaxis[i]=osiris_env(xaxis[i]/trise)\n",
    "        elif (xaxis[i]<(trise+tflat)):\n",
    "            yaxis[i]=1.0\n",
    "        else:\n",
    "            yaxis[i]=osiris_env(np.abs(total_range-xaxis[i])/tfall)\n",
    "        yaxis_gaussian[i]=np.exp(-(xaxis[i]-x_midpoint)**2/(trise/2*trise/2))\n",
    "    plt.figure()\n",
    "    if len(xaxis) == len(yaxis):\n",
    "        plt.plot(xaxis,yaxis,label='OSIRIS Shape') \n",
    "        plt.plot(xaxis,yaxis_gaussian,label='Gaussian, $\\sigma=t_{rise}/2$')\n",
    "    else:\n",
    "        plt.plot(xaxis,np.append(yaxis, 0),label='OSIRIS Shape') \n",
    "        plt.plot(xaxis,np.append(yaxis_gaussian, 0),label='Gaussian, $\\sigma=t_{rise}/2$')\n",
    "    plt.legend()\n",
    "    plt.show()\n",
    "\n",
    "interact(laser_envelope, trise=FloatSlider(min=0.00, max=5, step=.05, description='$t_{rise}$', value = 1.57),\n",
    "         tflat=FloatSlider(min=0.00, max=5, step=.05, description='$Lt$', value = 0),\n",
    "         tfall=FloatSlider(min=0.00, max=5, step=.05, description='$t_{fall}$', value = 1.57))\n"
   ]
  },
  {
   "cell_type": "markdown",
   "metadata": {},
   "source": [
    "### Below we use a fixed box to run the four simulations from the paper."
   ]
  },
  {
   "cell_type": "code",
   "execution_count": 3,
   "metadata": {
    "scrolled": false
   },
   "outputs": [
    {
     "name": "stdout",
     "output_type": "stream",
     "text": [
      "runosiris completed normally\n",
      "max gamma =  6.860528985366879\n"
     ]
    }
   ],
   "source": [
    "## Hit <shift>+<return> to run case A\n",
    "\n",
    "dirname = 'casea-fixed'\n",
    "osiris.runosiris(rundir=dirname,inputfile='casea-fixed.txt')\n",
    "plot_maxgamma_t(dirname)\n",
    "    "
   ]
  },
  {
   "cell_type": "markdown",
   "metadata": {},
   "source": [
    "Run the next cell to look at the results of the simulation. Click along the slider to see later timesteps. "
   ]
  },
  {
   "cell_type": "code",
   "execution_count": 4,
   "metadata": {},
   "outputs": [
    {
     "data": {
      "application/vnd.jupyter.widget-view+json": {
       "model_id": "d6e8143886894d27877011ed41d9f2e8",
       "version_major": 2,
       "version_minor": 0
      },
      "text/plain": [
       "interactive(children=(IntSlider(value=0, description='file_no', max=630, step=5), Output()), _dom_classes=('wi…"
      ]
     },
     "metadata": {},
     "output_type": "display_data"
    }
   ],
   "source": [
    "## Hit <shift>+<return> to visualize case A\n",
    "\n",
    "dirname = './casea-fixed'\n",
    "tajima(rundir=dirname)\n"
   ]
  },
  {
   "cell_type": "code",
   "execution_count": 6,
   "metadata": {
    "scrolled": false
   },
   "outputs": [
    {
     "name": "stdout",
     "output_type": "stream",
     "text": [
      "runosiris completed normally\n",
      "max gamma =  10.215079001341175\n"
     ]
    }
   ],
   "source": [
    "## Hit <shift>+<return> to run case B\n",
    "\n",
    "\n",
    "dirname = 'caseb-fixed'\n",
    "osiris.runosiris(rundir=dirname,inputfile='caseb-fixed.txt')\n",
    "plot_maxgamma_t(dirname)\n",
    "    "
   ]
  },
  {
   "cell_type": "code",
   "execution_count": 7,
   "metadata": {},
   "outputs": [
    {
     "data": {
      "application/vnd.jupyter.widget-view+json": {
       "model_id": "bf0c5c410302427b84ce7df5ebc8994c",
       "version_major": 2,
       "version_minor": 0
      },
      "text/plain": [
       "interactive(children=(IntSlider(value=0, description='file_no', max=885, step=5), Output()), _dom_classes=('wi…"
      ]
     },
     "metadata": {},
     "output_type": "display_data"
    }
   ],
   "source": [
    "## Hit <shift>+<return> to visualize case B\n",
    "\n",
    "\n",
    "dirname = './caseb-fixed'\n",
    "tajima(rundir=dirname)\n"
   ]
  },
  {
   "cell_type": "code",
   "execution_count": 5,
   "metadata": {
    "scrolled": false
   },
   "outputs": [
    {
     "name": "stdout",
     "output_type": "stream",
     "text": [
      "runosiris completed normally\n",
      "max gamma =  28.018271266210082\n"
     ]
    }
   ],
   "source": [
    "## Hit <shift>+<return> to run case C\n",
    "\n",
    "\n",
    "dirname = 'casec-fixed'\n",
    "osiris.runosiris(rundir=dirname,inputfile='casec-fixed.txt')\n",
    "plot_maxgamma_t(dirname)\n",
    "    "
   ]
  },
  {
   "cell_type": "code",
   "execution_count": 10,
   "metadata": {},
   "outputs": [
    {
     "data": {
      "application/vnd.jupyter.widget-view+json": {
       "model_id": "bd04e977daa54ac5aef10462dfce0198",
       "version_major": 2,
       "version_minor": 0
      },
      "text/plain": [
       "interactive(children=(IntSlider(value=0, description='file_no', max=1210, step=5), Output()), _dom_classes=('w…"
      ]
     },
     "metadata": {},
     "output_type": "display_data"
    }
   ],
   "source": [
    "## Hit <shift>+<return> to visualize case C\n",
    "\n",
    "\n",
    "dirname = './casec-fixed'\n",
    "tajima(rundir=dirname)\n"
   ]
  },
  {
   "cell_type": "code",
   "execution_count": 3,
   "metadata": {
    "scrolled": false
   },
   "outputs": [
    {
     "name": "stdout",
     "output_type": "stream",
     "text": [
      "runosiris completed normally\n",
      "max gamma =  48.73231764622875\n"
     ]
    }
   ],
   "source": [
    "## Hit <shift>+<return> to run case D\n",
    "\n",
    "\n",
    "dirname = 'cased-fixed'\n",
    "osiris.runosiris(rundir=dirname,inputfile='cased-fixed.txt')\n",
    "plot_maxgamma_t(dirname)\n",
    "    "
   ]
  },
  {
   "cell_type": "code",
   "execution_count": 4,
   "metadata": {},
   "outputs": [
    {
     "data": {
      "application/vnd.jupyter.widget-view+json": {
       "model_id": "1c57742ee9e942b7b32fe95b9d6fc49e",
       "version_major": 2,
       "version_minor": 0
      },
      "text/plain": [
       "interactive(children=(IntSlider(value=0, description='file_no', max=2235, step=5), Output()), _dom_classes=('w…"
      ]
     },
     "metadata": {},
     "output_type": "display_data"
    }
   ],
   "source": [
    "## Hit <shift>+<return> to visualize case D\n",
    "\n",
    "\n",
    "dirname = './cased-fixed'\n",
    "tajima(rundir=dirname)\n"
   ]
  },
  {
   "cell_type": "markdown",
   "metadata": {},
   "source": [
    "## In the next cell we try to replicate Figure 2a in the paper."
   ]
  },
  {
   "cell_type": "code",
   "execution_count": 6,
   "metadata": {},
   "outputs": [
    {
     "data": {
      "image/png": "[encoded data removed]",
      "text/plain": [
       "<Figure size 576x576 with 1 Axes>"
      ]
     },
     "metadata": {
      "needs_background": "light"
     },
     "output_type": "display_data"
    }
   ],
   "source": [
    "dirname = './casec-fixed'\n",
    "plt.figure(figsize=(8,8))\n",
    "osplot(np.abs(fft(read_h5(dirname+'/MS/FLD/e2/e2-000040.h5'))), xlim=[0, 8], ylim=[0, 100],linestyle='-')\n",
    "osplot(np.abs(fft(read_h5(dirname+'/MS/FLD/e2/e2-000490.h5'))), xlim=[0, 8], ylim=[0, 100],linestyle='-.')\n",
    "osplot(np.abs(fft(read_h5(dirname+'/MS/FLD/e2/e2-001050.h5'))), xlim=[0, 8], ylim=[0, 100],linewidth=3)\n",
    "plt.title('$E_2$ from Case C')\n",
    "plt.legend(['t=4.0', 't=45', 't=100'])\n",
    "plt.show()"
   ]
  },
  {
   "cell_type": "markdown",
   "metadata": {},
   "source": [
    "### Simulation Sandbox --- Make your own simulation\n",
    "\n",
    "In the widget below, enter these parameters and a name for the output. When the button is clicked, the function will run OSIRIS and print the maximum electron energy achieved. The output is saved in a directory with the same name as the output text file. \n",
    "\n",
    "There is the option below to make advanced changes to the input deck but the default values will match the simulations in the paper."
   ]
  },
  {
   "cell_type": "code",
   "execution_count": 2,
   "metadata": {},
   "outputs": [
    {
     "data": {
      "application/vnd.jupyter.widget-view+json": {
       "model_id": "77961284de384db78228d3100f055aa0",
       "version_major": 2,
       "version_minor": 0
      },
      "text/plain": [
       "interactive(children=(Text(value='casec-fixed.txt', description='Template Input File:', layout=Layout(width='5…"
      ]
     },
     "metadata": {},
     "output_type": "display_data"
    }
   ],
   "source": [
    "## Hit <shift>+<return> to start the widget, which contains a interface to change OSIRIS parameters\n",
    "\n",
    "\n",
    "style = {'description_width': '350px'}\n",
    "layout = Layout(width='55%')\n",
    "\n",
    "a = widgets.Text(value='casec-fixed.txt', description='Template Input File:',style=style,layout=layout)\n",
    "b = widgets.Text(value='case1.txt', description='New Output File:',style=style,layout=layout)\n",
    "c = widgets.BoundedFloatText(value=0.2, min=0.0, max=2.0, description='v_e/c:',style=style,layout=layout)\n",
    "d = widgets.FloatText(value=1.0,description='a0:',style=style,layout=layout)\n",
    "e = widgets.BoundedFloatText(value=2.3, min=0, max=9.5, description='omega0:',style=style,layout=layout)\n",
    "f = widgets.BoundedFloatText(value=3.14, min=0, max=100, description='Lt:',style=style,layout=layout)\n",
    "g = widgets.BoundedFloatText(value=0, min=0, max=100, description='t_rise:',style=style,layout=layout)\n",
    "h = widgets.BoundedFloatText(value=0, min=0, max=100, description='t_fall:',style=style,layout=layout)\n",
    "nx_pw = widgets.IntText(value=1024, description='nx_p:', style=style, layout=layout)\n",
    "xmaxw = widgets.FloatText(value=102.4, description='xmax:', style=style, layout=layout)\n",
    "ndumpw = widgets.IntText(value=1, description='ndump:', style=style, layout=layout)\n",
    "ppc = widgets.IntText(value=10, description='Particles per cell:', style=style, layout=layout)\n",
    "\n",
    "interact_calc(newifile, iname=a,oname=b,uth=c,a0=d,omega0=e,t_flat=f, \n",
    "              t_rise=g, t_fall=h, nx_p=nx_pw, xmax=xmaxw, ndump=ndumpw, ppc=ppc);\n"
   ]
  },
  {
   "cell_type": "code",
   "execution_count": 30,
   "metadata": {},
   "outputs": [
    {
     "data": {
      "application/vnd.jupyter.widget-view+json": {
       "model_id": "1fbf65a391184fe3a09b89f29f20a2f0",
       "version_major": 2,
       "version_minor": 0
      },
      "text/plain": [
       "interactive(children=(IntSlider(value=0, description='file_no', max=3050, step=25), Output()), _dom_classes=('…"
      ]
     },
     "metadata": {},
     "output_type": "display_data"
    }
   ],
   "source": [
    "# Here we can examine the simulation that we just made with the widget\n",
    "\n",
    "dirname = './case1'\n",
    "tajima(rundir=dirname)"
   ]
  },
  {
   "cell_type": "markdown",
   "metadata": {},
   "source": [
    "## Moving Window Cases"
   ]
  },
  {
   "cell_type": "code",
   "execution_count": 6,
   "metadata": {
    "scrolled": false
   },
   "outputs": [
    {
     "name": "stdout",
     "output_type": "stream",
     "text": [
      "runosiris completed normally\n",
      "max gamma =  9.188905581433152\n"
     ]
    }
   ],
   "source": [
    "## Hit <shift>+<return> to run\n",
    "\n",
    "\n",
    "dirname = 'casea-moving-24'\n",
    "osiris.runosiris(rundir=dirname,inputfile='casea-moving-24.txt')\n",
    "plot_maxgamma_t(dirname)\n",
    "    "
   ]
  },
  {
   "cell_type": "code",
   "execution_count": 7,
   "metadata": {},
   "outputs": [
    {
     "data": {
      "application/vnd.jupyter.widget-view+json": {
       "model_id": "f282b908c45944509ed81eea928cd6f4",
       "version_major": 2,
       "version_minor": 0
      },
      "text/plain": [
       "interactive(children=(IntSlider(value=0, description='file_no', max=21050, step=50), Output()), _dom_classes=(…"
      ]
     },
     "metadata": {},
     "output_type": "display_data"
    }
   ],
   "source": [
    "dirname = './casea-moving-24'\n",
    "tajima(rundir=dirname)"
   ]
  },
  {
   "cell_type": "code",
   "execution_count": 8,
   "metadata": {
    "scrolled": false
   },
   "outputs": [
    {
     "name": "stdout",
     "output_type": "stream",
     "text": [
      "runosiris completed normally\n",
      "max gamma =  18.720359541865655\n"
     ]
    }
   ],
   "source": [
    "## Hit <shift>+<return> to run\n",
    "\n",
    "\n",
    "dirname = 'caseb-moving-24'\n",
    "osiris.runosiris(rundir=dirname,inputfile='caseb-moving-24.txt')\n",
    "plot_maxgamma_t(dirname)\n",
    "    "
   ]
  },
  {
   "cell_type": "code",
   "execution_count": 10,
   "metadata": {},
   "outputs": [
    {
     "data": {
      "application/vnd.jupyter.widget-view+json": {
       "model_id": "31ab082a316a47788f24b0562c28fc9d",
       "version_major": 2,
       "version_minor": 0
      },
      "text/plain": [
       "interactive(children=(IntSlider(value=0, description='file_no', max=21050, step=50), Output()), _dom_classes=(…"
      ]
     },
     "metadata": {},
     "output_type": "display_data"
    }
   ],
   "source": [
    "## Hit <shift>+<return> to look at results\n",
    "\n",
    "\n",
    "dirname = './caseb-moving-24'\n",
    "tajima(rundir=dirname)"
   ]
  },
  {
   "cell_type": "code",
   "execution_count": 11,
   "metadata": {
    "scrolled": false
   },
   "outputs": [
    {
     "name": "stdout",
     "output_type": "stream",
     "text": [
      "runosiris completed normally\n",
      "max gamma =  23.198543346358885\n"
     ]
    }
   ],
   "source": [
    "## Hit <shift>+<return> to run\n",
    "\n",
    "\n",
    "dirname = 'casec-moving-24'\n",
    "osiris.runosiris(rundir=dirname,inputfile='casec-moving-24.txt')\n",
    "plot_maxgamma_t(dirname)\n",
    "    "
   ]
  },
  {
   "cell_type": "code",
   "execution_count": 8,
   "metadata": {},
   "outputs": [
    {
     "data": {
      "application/vnd.jupyter.widget-view+json": {
       "model_id": "ff2338ac519049b39b1ffdafff78a802",
       "version_major": 2,
       "version_minor": 0
      },
      "text/plain": [
       "interactive(children=(IntSlider(value=0, description='file_no', max=21050, step=50), Output()), _dom_classes=(…"
      ]
     },
     "metadata": {},
     "output_type": "display_data"
    }
   ],
   "source": [
    "## Hit <shift>+<return> to look at results\n",
    "\n",
    "\n",
    "dirname = './casec-moving-24'\n",
    "tajima(rundir=dirname)"
   ]
  },
  {
   "cell_type": "code",
   "execution_count": 2,
   "metadata": {
    "scrolled": false
   },
   "outputs": [
    {
     "name": "stdout",
     "output_type": "stream",
     "text": [
      "runosiris completed normally\n",
      "max gamma =  45.97649393210079\n"
     ]
    }
   ],
   "source": [
    "## Hit <shift>+<return> to run\n",
    "\n",
    "\n",
    "dirname = 'cased-moving-24'\n",
    "osiris.runosiris(rundir=dirname,inputfile='cased-moving-24.txt')\n",
    "plot_maxgamma_t(dirname)\n",
    "    "
   ]
  },
  {
   "cell_type": "code",
   "execution_count": 2,
   "metadata": {},
   "outputs": [
    {
     "data": {
      "application/vnd.jupyter.widget-view+json": {
       "model_id": "28b658b14b144a63ab8be57dcbe59a1f",
       "version_major": 2,
       "version_minor": 0
      },
      "text/plain": [
       "interactive(children=(IntSlider(value=0, description='file_no', max=20200, step=50), Output()), _dom_classes=(…"
      ]
     },
     "metadata": {},
     "output_type": "display_data"
    }
   ],
   "source": [
    "## Hit <shift>+<return> to look at results\n",
    "\n",
    "dirname = './cased-moving-24'\n",
    "tajima(rundir=dirname)"
   ]
  },
  {
   "cell_type": "markdown",
   "metadata": {},
   "source": [
    "## Simulation Sandbox, with moving window\n",
    "The cell below allows you to explore different parameters with a moving window."
   ]
  },
  {
   "cell_type": "code",
   "execution_count": 6,
   "metadata": {},
   "outputs": [
    {
     "data": {
      "application/vnd.jupyter.widget-view+json": {
       "model_id": "adcdc923d3ab4aec8d1e8ded0957db04",
       "version_major": 2,
       "version_minor": 0
      },
      "text/plain": [
       "interactive(children=(Text(value='casea-moving-24.txt', description='Template Input File:', layout=Layout(widt…"
      ]
     },
     "metadata": {},
     "output_type": "display_data"
    }
   ],
   "source": [
    "## Hit <shift>+<return> to start the widget, which contains a interface to change OSIRIS parameters\n",
    "\n",
    "\n",
    "style = {'description_width': '350px'}\n",
    "layout = Layout(width='55%')\n",
    "\n",
    "a = widgets.Text(value='casea-moving-24.txt', description='Template Input File:',style=style,layout=layout)\n",
    "b = widgets.Text(value='case1-moving.txt', description='New Output File:',style=style,layout=layout)\n",
    "c = widgets.BoundedFloatText(value=0.0001, min=0.0, max=2.0, description='v_e/c:',style=style,layout=layout)\n",
    "d = widgets.FloatText(value=1.0,description='a0:',style=style,layout=layout)\n",
    "e = widgets.BoundedFloatText(value=10.0, min=0, max=30, description='omega0:',style=style,layout=layout)\n",
    "f = widgets.BoundedFloatText(value=3.14, min=0, max=100, description='t_flat:',style=style,layout=layout)\n",
    "g = widgets.BoundedFloatText(value=0, min=0, max=100, description='t_rise:',style=style,layout=layout)\n",
    "h = widgets.BoundedFloatText(value=0, min=0, max=100, description='t_fall:',style=style,layout=layout)\n",
    "xmaxw = widgets.FloatText(value=24, description='xmax:', style=style, layout=layout)\n",
    "ndumpw = widgets.IntText(value=2, description='ndump:', style=style, layout=layout)\n",
    "ppc = widgets.IntText(value=10, description='Particles per cell:', style=style, layout=layout)\n",
    "tmaxw = widgets.FloatText(value=200, description='tmax:', style=style, layout=layout)\n",
    "\n",
    "interact_calc(newifile2, iname=a,oname=b,uth=c,a0=d,omega0=e,t_flat=f, \n",
    "              t_rise=g, t_fall=h, xmax=xmaxw, ndump=ndumpw, ppc=ppc, tmax=tmaxw);\n"
   ]
  },
  {
   "cell_type": "code",
   "execution_count": 7,
   "metadata": {},
   "outputs": [
    {
     "data": {
      "application/vnd.jupyter.widget-view+json": {
       "model_id": "5b92a5a763bf4c2b87423f2d1f065423",
       "version_major": 2,
       "version_minor": 0
      },
      "text/plain": [
       "interactive(children=(IntSlider(value=0, description='file_no', max=6800, step=50), Output()), _dom_classes=('…"
      ]
     },
     "metadata": {},
     "output_type": "display_data"
    }
   ],
   "source": [
    "## Hit <shift>+<return> to look at results\n",
    "\n",
    "\n",
    "dirname = './case1-moving'\n",
    "tajima(rundir=dirname)"
   ]
  },
  {
   "cell_type": "code",
   "execution_count": null,
   "metadata": {},
   "outputs": [],
   "source": []
  }
 ],
 "metadata": {
  "kernelspec": {
   "display_name": "Python 3",
   "language": "python",
   "name": "python3"
  },
  "language_info": {
   "codemirror_mode": {
    "name": "ipython",
    "version": 3
   },
   "file_extension": ".py",
   "mimetype": "text/x-python",
   "name": "python",
   "nbconvert_exporter": "python",
   "pygments_lexer": "ipython3",
   "version": "3.7.1"
  }
 },
 "nbformat": 4,
 "nbformat_minor": 2
}
