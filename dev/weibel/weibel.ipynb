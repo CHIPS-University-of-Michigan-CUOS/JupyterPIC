{
 "cells": [
  {
   "cell_type": "markdown",
   "metadata": {},
   "source": [
    "# Weibel instability"
   ]
  },
  {
   "cell_type": "markdown",
   "metadata": {},
   "source": [
    "In this project, we are going to look at the dispersion relation for the \"true\" Weibel instability, produced for an anisotropic temperature distribution in the electrons.\n",
    "\n",
    "In this project, you will study the accuracy of the analytical dispersion relation for electromagnetic waves in the Weibel instability.\n",
    "\n",
    "For both waves, $\\vec k \\parallel \\vec B_0$, $\\vec E_1 \\perp \\vec B_0$, and $\\vec k \\perp \\vec E_1$ (transverse waves).  \n",
    "\n",
    "From Morse and Nielson (1971), the dispersion relation is:\n",
    "\n",
    "$$ \\left(\\frac{k_2 c}{\\omega_p}\\right)^2 - \\left(\\frac{\\omega}{\\omega_p}\\right)^2 = A+(A+1)\\left(\\frac{\\omega}{k_2 u_2}\\right)Z\\left(\\frac{\\omega}{k_2 u_2}\\right) ,$$\n",
    "\n",
    "where $u_1$ and $u_1$ are thermal velocities in $x_1$ and $x_2$, respectively, $A=\\left(\\frac{u_1}{u_2}\\right)^2-1$, and $Z$ is the plasma dispersion function defined as\n",
    "\n",
    "$$ Z(x) = 2i e^{-x^2} \\int_{-\\infty}^{ix} e^{-t^2} dt .$$\n",
    "\n",
    "An equivalent version of the dispersion relation is\n",
    "\n",
    "$$ \\left(\\frac{\\omega}{\\omega_p}\\right)^2 - \\left(\\frac{k_2 c}{\\omega_p}\\right)^2 = 1+\\frac{1}{2}\\left(\\frac{u_1}{u_2}\\right)^2 Z'\\left(\\frac{\\omega}{k_2 u_2}\\right) .$$"
   ]
  },
  {
   "cell_type": "markdown",
   "metadata": {},
   "source": [
    "The unstable roots of $\\omega$ in this equation are pure imaginary. We can define the dimensionless quantities $k \\equiv \\frac{k_2 c}{\\omega_p}$, $w \\equiv \\frac{\\omega}{\\omega_p}$, and $\\tilde{u}_2 \\equiv \\frac{u_2}{c}$, along with assuming purely imaginary growing waves, i.e., $w=i\\gamma$, the dispersion relation reduces to\n",
    "\n",
    "$$ k^2+\\gamma^2=A+(A+1)\\left(\\frac{i\\gamma}{k \\tilde{u}_2}\\right)Z\\left(\\frac{i\\gamma}{k \\tilde{u}_2}\\right) .$$\n",
    "\n",
    "This is the dispersion relation we will be solving to obtain the unstable modes."
   ]
  },
  {
   "cell_type": "markdown",
   "metadata": {},
   "source": [
    "In this project you will study the unstable $B_3$ modes with an electron temperature anisotropy. You will simulate a plasma in which each plasma electron is initialized with positions (only in $x$ and $y$, or what we call $x_1$ and $x_2$). The ions are initialized at the same positions but they have an infinite mass.  Each electron is also initialized with velocities ($v_1$, $v_2$, $v_3$) or momenta ($mv_1$, $mv_2$, $mv_3$) from a Maxwellian in each direction. The temperature will be hotter in the $x_1$ direction, e.g., $\\vec u=(0.25c,0.05c,0.05c)$. The particles then begin to move in the self-consistent fields that their current and charge density produce.\n",
    "\n",
    "* The length of the plasmas is 15 $c/\\omega_p$ by 30 $c/\\omega_p$\n",
    "* The simulation will run for a time 50 $1/\\omega_p$.\n",
    "* The simulation uses 295,000 particles.\n",
    "\n",
    "You will be looking at plots of the magnetic field in the $x_1$ and $x_2$ directions ($B_3$), along with Fourier transforms of the same."
   ]
  },
  {
   "cell_type": "markdown",
   "metadata": {},
   "source": [
    "## Weibel dispersion relation\n",
    "\n",
    "Here you can look at the dispersion relation of the Weibel instability and the frequencies described above.  You can run the cell below and then change the value of $u_x$ and $u_y$:"
   ]
  },
  {
   "cell_type": "code",
   "execution_count": null,
   "metadata": {},
   "outputs": [],
   "source": [
    "from scipy.special import erfi\n",
    "import mpmath as mp\n",
    "import numpy as np\n",
    "import matplotlib.pyplot as plt\n",
    "from ipywidgets import interact, fixed\n",
    "%matplotlib inline\n",
    "\n",
    "def Z(x):\n",
    "    return -1*mp.exp(-mp.power(x,2))*mp.sqrt(mp.pi) * (-1j + mp.erfi(x))\n",
    "\n",
    "karray=np.linspace(.01,6,30)\n",
    "g=np.zeros_like(karray)\n",
    "\n",
    "def h(ux,uy,show):\n",
    "    A=np.square((ux/uy))-1\n",
    "    func = []\n",
    "    for i,k in enumerate(karray):\n",
    "        def f(g):\n",
    "            return mp.power(k,2)+mp.power(g,2)-A-(A+1)*(1j*g)/(k*uy)*Z((1j*g)/(k*uy))\n",
    "        func.append(f)\n",
    "\n",
    "    prev_root = 0.0001\n",
    "    for i,k in enumerate(karray):\n",
    "        g[i] = mp.findroot(func[i],prev_root,solver='newton').real\n",
    "        prev_root = g[i]\n",
    "\n",
    "\n",
    "    plt.figure()\n",
    "    plt.plot(karray,g)\n",
    "    plt.xlim([0,6])\n",
    "    plt.ylim([0,.035])\n",
    "    plt.xlabel(r'$k$')\n",
    "    plt.ylabel(r'$\\gamma$')\n",
    "    if show:\n",
    "        plt.show()\n",
    "\n",
    "interact(h,ux=(.04,.06,.01),uy=fixed(.01),show=fixed(True))"
   ]
  },
  {
   "cell_type": "markdown",
   "metadata": {},
   "source": [
    "# Simulations with a Particle-in-Cell Code"
   ]
  },
  {
   "cell_type": "markdown",
   "metadata": {},
   "source": [
    "### The following lines must always be executed before running anything else.\n",
    "\n",
    "Reminder: Hit Shift+Enter to run a cell, or select the cell and click on the \"Run\" button in the top menu bar"
   ]
  },
  {
   "cell_type": "code",
   "execution_count": null,
   "metadata": {},
   "outputs": [],
   "source": [
    "import osiris"
   ]
  },
  {
   "cell_type": "markdown",
   "metadata": {},
   "source": [
    "## Run simulation"
   ]
  },
  {
   "cell_type": "code",
   "execution_count": null,
   "metadata": {},
   "outputs": [],
   "source": [
    "dirname = 'test-05'\n",
    "osiris.runosiris_2d(rundir=dirname,inputfile='weibel.txt')"
   ]
  },
  {
   "cell_type": "markdown",
   "metadata": {},
   "source": [
    "## Analyze data"
   ]
  },
  {
   "cell_type": "code",
   "execution_count": null,
   "metadata": {},
   "outputs": [],
   "source": [
    "from h5_utilities import *\n",
    "\n",
    "hdf5_data = read_hdf(os.getcwd()+'/test-05/b3.h5')\n",
    "\n",
    "xlims = [hdf5_data.axes[0].axis_min,hdf5_data.axes[0].axis_max,\n",
    "         hdf5_data.axes[1].axis_min,hdf5_data.axes[1].axis_max]\n",
    "tlims = [hdf5_data.axes[2].axis_min,hdf5_data.axes[2].axis_max]\n",
    "nx = np.flip(hdf5_data.data.shape,axis=0)\n",
    "dx = [(hdf5_data.axes[0].axis_max-hdf5_data.axes[0].axis_min)/nx[0],\n",
    "      (hdf5_data.axes[1].axis_max-hdf5_data.axes[1].axis_min)/nx[1]]\n",
    "kx=2*np.pi*np.fft.fftshift(np.fft.fftfreq(nx[0],dx[0]))\n",
    "ky=2*np.pi*np.fft.fftshift(np.fft.fftfreq(nx[1],dx[1]))\n",
    "t=np.linspace(tlims[0],tlims[1],nx[-1])\n",
    "\n",
    "# plot modes at the latest time\n",
    "t_ind=-1\n",
    "plt.figure(figsize=(8,5))\n",
    "plt.imshow(np.abs(np.fft.fftshift(np.fft.fftn(hdf5_data.data[t_ind,:,:],norm='ortho'))),\n",
    "          origin='lower',extent=[np.min(kx),np.max(kx),np.min(ky),np.max(ky)],aspect='auto')\n",
    "plt.xlim((-5,5))\n",
    "plt.ylim((-5,5))\n",
    "c=plt.colorbar()\n",
    "c.set_label('$|B_3|$, $t='+'{:.1f}'.format(t[t_ind])+'$ $[\\omega_p^{-1}]$')\n",
    "plt.xlabel('$k_1$ $[\\omega_p/c]$')\n",
    "plt.ylabel('$k_2$ $[\\omega_p/c]$')\n",
    "plt.show()\n",
    "\n",
    "# perform fft and pick out kx = 0\n",
    "data=np.abs(np.fft.fftshift(np.fft.fftn(hdf5_data.data,axes=(1,2),norm='ortho')[:,:,0],\n",
    "                                             axes=1))\n",
    "\n",
    "# plot time history of kx=0 modes\n",
    "plt.figure(figsize=(8,5))\n",
    "plt.imshow(data,origin='lower',extent=[np.min(ky),np.max(ky),tlims[0],tlims[1]],aspect='auto')\n",
    "c=plt.colorbar()\n",
    "c.set_label('$|B_3|$, $k_1=0$')\n",
    "plt.xlabel('$k_2$ $[\\omega_p/c]$')\n",
    "plt.ylabel('$t$ $[\\omega_p^{-1}]$')\n",
    "plt.xlim((0,6))\n",
    "plt.show()"
   ]
  },
  {
   "cell_type": "code",
   "execution_count": null,
   "metadata": {},
   "outputs": [],
   "source": [
    "plt.figure()\n",
    "for i in range(8):\n",
    "    plt.semilogy(np.linspace(tlims[0],tlims[1],nx[-1]),data[:,int(data.shape[1]/2)+i+1],\n",
    "                 label='$k='+'{:.2f}'.format(ky[int(data.shape[1]/2)+i+1])+'$')\n",
    "plt.legend(loc='lower right')\n",
    "plt.xlabel('$t$ $[\\omega_p^{-1}]$')\n",
    "plt.ylabel('$|B_3|$')\n",
    "plt.show()"
   ]
  },
  {
   "cell_type": "code",
   "execution_count": null,
   "metadata": {
    "scrolled": false
   },
   "outputs": [],
   "source": [
    "modes=20\n",
    "lim=[30,150]\n",
    "g_exp = np.zeros(modes)\n",
    "k_exp = np.zeros(modes)\n",
    "show=False\n",
    "\n",
    "ux=.05;uy=.01\n",
    "for i in range(modes):\n",
    "    x=np.linspace(tlims[0],tlims[1],nx[-1])\n",
    "    y=data[:,int(data.shape[1]/2)+i+1]\n",
    "    f=np.argmax(x>lim[0])\n",
    "    l=np.argmin(x<lim[1])\n",
    "    m,b = np.polyfit(x[f:l], np.log(y[f:l]), 1, w=np.sqrt(y[f:l]))\n",
    "    if show:\n",
    "        print('m =',m,'  ky =',ky[int(data.shape[1]/2)+i+1])\n",
    "    \n",
    "    ktest=np.array([ky[int(data.shape[1]/2)+i+1]])\n",
    "    g_loc=np.zeros_like(ktest)\n",
    "    def g_plain(ux,uy):\n",
    "        A=np.square((ux/uy))-1\n",
    "        func = []\n",
    "        for i,k in enumerate(ktest):\n",
    "            def f(g):\n",
    "                return mp.power(k,2)+mp.power(g,2)-A-(A+1)*(1j*g)/(k*uy)*Z((1j*g)/(k*uy))\n",
    "            func.append(f)\n",
    "\n",
    "        prev_root = 0.0001\n",
    "        for i,k in enumerate(ktest):\n",
    "            g_loc[i] = mp.findroot(func[i],prev_root,solver='newton').real\n",
    "            prev_root = g_loc[i]\n",
    "\n",
    "        return g\n",
    "\n",
    "    m_calc = g_plain(ux,uy)[0]\n",
    "    if show:\n",
    "        print('m_calc =',m_calc)\n",
    "    \n",
    "    if show:\n",
    "        plt.figure()\n",
    "        plt.semilogy(x,y)\n",
    "        plt.semilogy(x[f:l],np.exp(b+m*x[f:l]))\n",
    "        plt.semilogy(x[f:l],np.exp(b+m_calc*x[f:l]))\n",
    "        plt.show()\n",
    "    \n",
    "    g_exp[i] = m\n",
    "    k_exp[i] = ky[int(data.shape[1]/2)+i+1]\n",
    "\n",
    "h(ux,uy,show=False)\n",
    "plt.plot(k_exp,g_exp)\n",
    "plt.legend(('Theory','Experiment'))\n",
    "plt.ylim((0,.035))\n",
    "plt.show()"
   ]
  },
  {
   "cell_type": "markdown",
   "metadata": {},
   "source": [
    "# Extra analysis routines"
   ]
  },
  {
   "cell_type": "code",
   "execution_count": null,
   "metadata": {},
   "outputs": [],
   "source": [
    "osiris.fieldinteract_2d(rundir=dirname,dataset='b3')"
   ]
  },
  {
   "cell_type": "code",
   "execution_count": null,
   "metadata": {},
   "outputs": [],
   "source": [
    "osiris.field_2d(rundir=dirname, dataset='e2', time=.5)"
   ]
  },
  {
   "cell_type": "code",
   "execution_count": null,
   "metadata": {},
   "outputs": [],
   "source": [
    "osiris.phasespace_2d(rundir=dirname, dataset='p1x1', time=.5)"
   ]
  }
 ],
 "metadata": {
  "anaconda-cloud": {},
  "kernelspec": {
   "display_name": "Python 3",
   "language": "python",
   "name": "python3"
  },
  "language_info": {
   "codemirror_mode": {
    "name": "ipython",
    "version": 3
   },
   "file_extension": ".py",
   "mimetype": "text/x-python",
   "name": "python",
   "nbconvert_exporter": "python",
   "pygments_lexer": "ipython3",
   "version": "3.6.3"
  }
 },
 "nbformat": 4,
 "nbformat_minor": 2
}
