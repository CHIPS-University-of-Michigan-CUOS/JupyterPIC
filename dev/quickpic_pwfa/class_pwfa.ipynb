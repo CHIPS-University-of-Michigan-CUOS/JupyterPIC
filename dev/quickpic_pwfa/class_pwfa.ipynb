{
 "cells": [
  {
   "cell_type": "markdown",
   "metadata": {},
   "source": [
    "# The Beam Driven Plasma Wake Field Acceleration"
   ]
  },
  {
   "cell_type": "markdown",
   "metadata": {},
   "source": [
    "In plasma-based acceleration, a plasma wave with a phase velocity close to $c$ is driven by an intense particle or laser beam.\n",
    "\n",
    "* If the driver is a laser beam: Laser WakeField Acceleration (LWFA)\n",
    "* If the driver is a particle beam: Plasma WakeField Acceleration (PWFA)\n",
    "\n",
    "The simplest model we use when describing laser/beam plasma interactions is: cold fluid model. It is valid as long as particle trajectoies don't cross, which only happens in linear or weakly nonlinear cases. So in general, the single cold fluid model breaks down. So instead of a fluid model, a particle picture must be used for a general treatment of the laser/beam plasma interaction\n",
    "\n",
    "However, in recent PWFA and LWFA experiments, the wakes are excited in \"blowout regime\", where the previous theories ( linear fluid theory, 1-D nonlinear fluid theory ) don't apply. That's why we need a theory to describe the nonlinear regime(blowout regime). \n",
    "\n",
    "Today we will only focus on PWFA. First of all, we will take a look at what the wakefield looks like in linear regime. Then we will look at the nonlinear regime. Roughly speaking, if the spot size of the beam is large and the beam density is low, it is linear regime. If the spot size of the beam is small and the beam density is high, it is nonlinear regime.\n",
    "\n",
    "Before we get started, I will introduce:\n",
    "\n",
    "* Normalized units\n",
    "* The approximations we make(especially the Quasi-Static Approximation(QSA))\n",
    "\n",
    "They will be very useful later.\n"
   ]
  },
  {
   "cell_type": "markdown",
   "metadata": {},
   "source": [
    "## Normalized unit\n",
    "\n",
    "Normalized unit is just a new unit system, like SI unit and Gaussian unit. It is widely used in computer simulation. Basically, every quantity is normalized to something to make it dimensionless. So everything in normalized unit is just a number. For example, we usually normalize a speed to $c$, the speed of light. So in normalized unit, the speed of light, $c$, is just one. Here is a table of normalization factors we use(xxx is normalized to xxx):\n",
    "\n",
    "* time: $1/\\omega_p$\n",
    "* length: $c/\\omega_p$\n",
    "* velocities: $c$\n",
    "* mass: $m$ ( $m$ is the electron mass)\n",
    "* charge: $e$\n",
    "* fields: $mc\\omega_p/e$\n",
    "* forces: $mc\\omega_p$\n",
    "* potentials: $mc^2/e$\n",
    "* charge density: $en_p$\n",
    "* current density: $en_pc$\n",
    "\n",
    "Sometimes when we convert an equation in SI unit into normalized unit, it is convenient to use the following results:\n",
    "(everything on left hand side is in Gaussian unit, everything on right hand side is in normalized unit)\n",
    "\n",
    "* $t=\\frac{1}{\\omega_p}t$ ,so $\\frac{\\partial}{\\partial t} = \\omega_p \\frac{\\partial}{\\partial t}$\n",
    "* $x=\\frac{c}{\\omega_p} x$ and same for $y$,$z$. So $\\nabla= \\frac{\\omega_p}{c}\\nabla $ \n",
    "* $\\phi = \\frac{mc^2}{e}\\phi$, and same for $\\textbf A$\n"
   ]
  },
  {
   "cell_type": "markdown",
   "metadata": {},
   "source": [
    "## The approxmations we make:\n",
    "\n",
    "* Upstream from the laser/beam driver, each fluid can be treated as at rest or cold (because all initial thermal velocitiesof the plasma particles $v_{th}$, is far less than the phase velocity of the wakefield: $c$, so they are essentially zero.)\n",
    "* Wavelike assumption: The fields in the wake depend on the variable $\\xi$ ($\\xi = ct-z$), where the phase velocity of the wave is essentially $c$\n",
    "* Quasi-static approximation(QSA): During the time it takes for a driver to pass by a plasma particle, the driver changes shape very little. (We can take the driver as non-evolving when calculating the plasma response.)\n",
    "\n",
    "The last one, QSA, is the most important one to understand. The description above is the physical understanding. Mathematically, it means that we can do a transformation of variables from $(x, y, z, t)$ to $(x, y, \\xi = ct-z, s=z)$. The QSA implies $\\partial_s << \\partial_{\\xi}$. So we can set all the $\\partial_s$ terms to 0. Concretely, we have:\n",
    "\n",
    "$\\frac{\\partial}{\\partial z} = \\frac{\\partial}{\\partial \\xi}\\frac{\\partial \\xi}{\\partial z} + \\frac{\\partial}{\\partial s}\\frac{\\partial s}{\\partial z} = \\frac{\\partial}{\\partial s} - \\frac{\\partial}{\\partial \\xi} = - \\frac{\\partial}{\\partial \\xi}$ .We used QSA in the last step.\n",
    "\n",
    "$\\frac{\\partial}{\\partial t} = \\frac{\\partial}{\\partial \\xi}\\frac{\\partial \\xi}{\\partial t} + \\frac{\\partial}{\\partial s}\\frac{\\partial s}{\\partial t} = c \\frac{\\partial}{\\partial \\xi}$ \n",
    "\n",
    "But these transformations are in Gaussian units. In normalized units, the transformations are:\n",
    "\n",
    "$\\frac{\\partial}{\\partial z} =  - \\frac{\\partial}{\\partial \\xi}$\n",
    "\n",
    "$\\frac{\\partial}{\\partial t} =  \\frac{\\partial}{\\partial \\xi}$ "
   ]
  },
  {
   "cell_type": "markdown",
   "metadata": {},
   "source": [
    "## Now let us build our theory from scratch. All we have now are Maxwell's equations in Lorentz gauge. What we need to do first is to rewrite these equations in normalized units, then do a transformation of variables, and apply QSA (set $\\partial_s = 0$)\n",
    "\n",
    "### We start from the most basic equations (in Gaussian units):\n",
    "* Maxwell equations in Lorentz gauge: $(\\frac{1}{c^2}\\frac{\\partial^2}{\\partial t^2}-{\\nabla}^2)\\textbf A = 4\\pi \\frac{\\textbf J}{c}$ , $(\\frac{1}{c^2}\\frac{\\partial^2}{\\partial t^2}-{\\nabla}^2)\\phi = 4\\pi \\frac{\\rho}{c}$\n",
    "* Lorentz gauge equation: $\\frac{1}{c}\\frac{\\partial \\phi}{\\partial t} + \\nabla \\cdot \\textbf A = 0$\n",
    "* Equation of motion for a particle: $(\\frac{\\partial}{\\partial t}+\\textbf V_i \\cdot \\nabla)\\textbf P_i = q_i(\\textbf E_i + \\frac{\\textbf V_i}{c}\\times \\textbf B)$\n",
    "* Continuity equation: $\\frac{\\partial \\rho}{\\partial t} + \\nabla \\cdot \\textbf J = 0$ \n",
    "* Calculating fields from the potentials: $\\textbf B = \\nabla  \\times \\textbf A$, $\\textbf E = -\\nabla \\phi - \\frac{1}{c}\\frac{\\partial \\textbf A}{\\partial t}$\n",
    "\n",
    "In $\\textbf{normalized}$ unit, these equations become:\n",
    "\n",
    "* Maxwell equations in Lorentz gauge: $(\\frac{\\partial^2}{\\partial t^2}-{\\nabla}^2)\\textbf A =  \\textbf J$ , $(\\frac{\\partial^2}{\\partial t^2}-{\\nabla}^2)\\phi = \\rho$\n",
    "\n",
    "* Lorentz gauge equation: $\\frac{\\partial \\phi}{\\partial t} + \\nabla \\cdot \\textbf A = 0$\n",
    "\n",
    "* Equation of motion for a particle: $(\\frac{\\partial}{\\partial t}+\\textbf V_i \\cdot \\nabla)\\textbf P_i = q_i(\\textbf E_i + \\textbf V_i\\times \\textbf B)$\n",
    "\n",
    "* Continuity equation: $\\frac{\\partial \\rho}{\\partial t} + \\nabla \\cdot \\textbf J = 0$ \n",
    "\n",
    "* Calculating fields from the potentials: $\\textbf B = \\nabla  \\times \\textbf A$, $\\textbf E = -\\nabla \\phi - \\frac{\\partial \\textbf A}{\\partial t}$ ( It is a coincidence that the expressions are the same as the ones in SI units )\n",
    "\n",
    "We perform a transformation of variables from $(x, y, z, t)$ to $(x, y, \\xi = ct-z, s=z)$ and apply QSA, then we get:\n",
    "* Maxwell equations in Lorentz gauge: $-{\\nabla_\\perp}^2\\textbf A =  \\textbf J$ , $-{\\nabla_\\perp}^2 \\phi = \\rho$. From these 2 equations we immediately get: $-{\\nabla_\\perp}^2 \\psi = {\\rho} - J_z$ ,where $\\psi = \\phi - A_z$ called pseudo potential.\n",
    "  \n",
    "* Lorentz gauge equation: ${\\nabla_\\perp}\\cdot \\textbf A_\\perp = -\\frac{\\partial}{\\partial \\xi}(\\phi - A_z) = -\\frac{\\partial}{\\partial \\xi}\\psi$ ,where $\\psi = \\phi - A_z$ called pseudo potential.\n",
    "* Continuity equation: $\\frac{\\partial}{\\partial \\xi}(\\rho - J_z) + {\\nabla_\\perp}\\cdot \\textbf J_\\perp = 0$\n",
    "\n",
    "### Now we have achieved our first goal: Rewrite all the equations in normalized units and apply QSA to some of the equations above. We can go a few steps further to calculate the fields from the potentials:\n",
    "\n",
    "And the components of the fields:\n",
    "* $E_z = -\\frac{\\partial \\phi}{\\partial z} - \\frac{\\partial A_z}{\\partial t} = \\frac{\\partial \\phi}{\\partial \\xi} - \\frac{\\partial A_z}{\\partial \\xi} = \\frac{\\partial \\psi}{\\partial \\xi}$ \n",
    "* $\\textbf E_\\perp = -\\nabla_\\perp \\phi - \\frac{\\partial \\textbf A_\\perp}{\\partial t} = -\\nabla_\\perp \\phi - \\frac{\\partial \\textbf A_\\perp}{\\partial \\xi}$\n",
    "\n",
    "For $\\textbf B$, we have:\n",
    "\n",
    "$\\textbf B = (\\nabla_\\perp + \\nabla_z) \\times (\\textbf A_\\perp + A_z \\hat{z}) = (\\nabla_\\perp \\times \\textbf A_\\perp) + (\\nabla_\\perp \\times A_z \\hat{z} + \\nabla_z \\times \\textbf A_\\perp)$, we can easily see that the first parentheses is the z component of $\\textbf B$, and the second parentheses is the perpendicular component of $\\textbf B$. So:\n",
    "\n",
    "* $B_z = (\\nabla_\\perp \\times \\textbf A_\\perp)\\cdot \\hat{z}$\n",
    "* $\\textbf B_\\perp = (\\nabla_\\perp \\times A_z \\hat{z} + \\nabla_z \\times \\textbf A_\\perp)$\n",
    "\n",
    "Also, $\\hat{z} \\times \\textbf B = \\hat{z} \\times (\\nabla \\times \\textbf A) = \\nabla \\textbf A \\cdot \\hat{z} - (\\hat{z} \\cdot \\nabla)\\textbf A = \\nabla A_z - \\frac{\\partial \\textbf A}{\\partial z} = (\\nabla_\\perp A_z + \\frac{\\partial A_z}{\\partial z}\\hat{z})-(\\frac{\\partial \\textbf A_\\perp}{\\partial z}+\\frac{\\partial A_z}{\\partial z}\\hat{z})= \\nabla_\\perp A_z - \\frac{\\partial \\textbf A_\\perp}{\\partial z} = \\nabla_\\perp A_z + \\frac{\\partial \\textbf A_\\perp}\n",
    "{\\partial \\xi}$\n",
    "\n",
    "So for an electron beam particle whose velocity is $c \\hat{z} $  ($\\hat{z}$ in normallized unit), The perpendicular focusing forec is: $\\textbf F_\\perp =-e( \\textbf E_\\perp + c\\hat{z} \\times \\textbf B)$.\n",
    "In normalized unit, we have: $\\textbf F_\\perp =-( \\textbf E_\\perp + \\hat{z} \\times \\textbf B) = -(-\\nabla_\\perp \\phi - \\frac{\\partial \\textbf A_\\perp}{\\partial \\xi} + \\nabla_\\perp A_z + \\frac{\\partial \\textbf A_\\perp}\n",
    "{\\partial \\xi}) = \\nabla_\\perp (\\phi - A_z) = \\nabla_\\perp \\psi$.\n",
    "\n",
    "So for an electron beam particle:\n",
    "* The accelerating force is : $F_z = -\\frac{\\partial \\psi}{\\partial \\xi}$ \n",
    "* The focusing force is : $\\textbf F_\\perp = \\nabla_\\perp \\psi$\n",
    "\n",
    "As we can see, $\\psi$ is such an important quantity that we really want to solve for. So let us solve it based on some assumptions. \n",
    "\n",
    "So far we have not assumed anything about the wakefield, so all the results above work for both linear regime and nonlinear regime. But now we need to calculate $\\psi$, and the models we use will be different for linear and nonlinear regime. So let us discuss them separately.\n"
   ]
  },
  {
   "cell_type": "markdown",
   "metadata": {},
   "source": [
    "## The linear theory of the plasma wake driven by a particle beam\n",
    "\n",
    "As we have seen, our goal is to calculate the accelerating force and the focusing force of an electron in the wakefield, which are the longitudinal and transverse gradient of $\\psi$. So our goad reduce to calculating $\\psi$.\n",
    "\n",
    "We will calculate $\\psi$ by solving the Poisson-like equation: $-{\\nabla_\\perp}^2 \\psi = {\\rho} - J_z$. We need to treat the right hand side of this equation carefully. We should keep in mind that:\n",
    "\n",
    "* Plasma electrons, plasma ions and beam electrons all have contributions to the rihgt hand side\n",
    "* Only plasma electrons have perturnbations because we think ions are immobile and beam electrons move at the speed of light $c$\n",
    "* The perturbations of plasma electrons are small, so we can use linear fluid model.\n",
    "\n",
    "The 0th order of ${\\rho} - J_z = {\\rho_{e0}} - J_{ze0} + {\\rho_{i0}} - J_{zi0} + {\\rho_{b0}} - J_{zb0}$ \n",
    "\n",
    "* $\\rho_{e0}$ and $\\rho_{i0}$ cancel out because $\\rho_{e0} = -1$, $\\rho_{i0} = 1$\n",
    "* $ J_{ze0} = J_{zi0} = 0$ because plasma has no drift.\n",
    "* $ \\rho_{b0} - J_{zb0} = 0$ because $J_{zb0} = \\rho_{b0}c$, but in normalized unit $c=1$\n",
    "\n",
    "So the 0th order of ${\\rho} - J_z $ is 0.\n",
    "\n",
    "Now let us move to the first order of ${\\rho} - J_z$. As what we have discussed, we only need to worry about the first order perturbation of plasma electrons. So ${\\rho} - J_z = {\\rho_{e1}} - J_{ze1}$. \n",
    "\n",
    "$J_{ze1} = \\rho_{e0}v_{ze1}+\\rho_{e1}v_{ze0} = \\rho_{e0}v_{ze1}$ ($v_{ze1} = 0$     because of no drift ) $= -e n_{p0}v_{ze1} = -v_{ze1}$($e=1, n_{p0}=1$ in normalized unit)\n",
    "\n",
    "So $-{\\nabla_\\perp}^2 \\psi = {\\rho} - J_z = \\rho_{e1} - J_{ze1} = \\rho_{e1} + v_{ze1}$\n",
    "\n",
    "Then we will use an important conservation law: $\\gamma - p_z = 1 + \\psi$ (See the appendix for the proof).\n",
    "\n",
    "For a plasma electron: $\\gamma = 1$ because it is non-relativistic. $p_z = mv_{ze} = v_{ze1}$ (The last step used m=1 in normalized unit, and $v_{ze0}=0$)\n",
    "\n",
    "So $1 - v_{ze1} = 1 + \\psi$. So $v_{ze1} =- \\psi$. The we plug this back in $-{\\nabla_\\perp}^2 \\psi = \\rho_{e1} + v_{ze1}$ and get: ${\\nabla_\\perp}^2 \\psi -\\psi=- \\rho_{e1}$.\n",
    "\n",
    "If we know $\\rho_{e1}$, we can solve for $\\psi$ immediately using the Green's function: $\\psi = \\frac{1}{2\\pi} \\int_{0}^{2\\pi} d\\theta' \\int_{0}^{\\infty} dr'r'\\rho_{e1}(\\textbf r')K_0(|\\textbf r - \\textbf r'|)$, where $K_0(|\\textbf r - \\textbf r'|)$ is the zeroth-order modified Bessel function of the second kind.\n",
    "\n",
    "So our goal reduce to solving for $\\rho_{e1}$.\n",
    "\n",
    "We start from the continuity equation: $\\frac{\\partial \\rho_e}{\\partial t} + \\nabla \\cdot \\textbf J_e = 0$. Linearize it, we have: $\\frac{\\partial \\rho_{e1}}{\\partial t} + \\nabla \\cdot \\textbf J_{e1} = 0$\n",
    "\n",
    "We have shown that $J_{ze1} = -v_{ze1}$. Similarly $\\textbf J_{e1} = -\\textbf v_{e1}$. So $\\frac{\\partial \\rho_{e1}}{\\partial t} - \\nabla \\cdot \\textbf v_{e1} = 0$\n",
    "\n",
    "Apply $\\frac{\\partial}{\\partial t}$ to the equation above, we have: $\\frac{\\partial^2 \\rho_{e1}}{\\partial t^2} - \\nabla \\cdot \\frac{\\partial \\textbf v_{e1}}{\\partial t} = 0$\n",
    "\n",
    "From linearized Euler equation: $\\frac{\\partial \\textbf v_{e1}}{\\partial t} = -\\textbf E_1$. Substitute this into the equation above, we have: $\\frac{\\partial^2 \\rho_{e1}}{\\partial t^2} + \\nabla \\cdot \\textbf E_1 = 0$\n",
    "\n",
    "We also have the Gauss's law: $\\nabla \\cdot \\textbf E = \\rho$, where $\\rho = \\rho_e + \\rho_i + \\rho_b$. Linearize it, we get: $\\nabla \\cdot \\textbf E_1 = \\rho_{e1} + \\rho_b$. Plug this into the equation above, we have: $\\frac{\\partial^2 \\rho_{e1}}{\\partial t^2} + \\rho_{e1} = -\\rho_b $. If we transform the variables and apply QSA, we have: $\\frac{\\partial^2 \\rho_{e1}}{\\partial \\xi^2} + \\rho_{e1} = -\\rho_b $,where $\\rho_b$ is given. This equation describes the plasma response to a charged particle beam. The solution to this equation is: $\\rho_{e1}(\\xi) = \\int_{\\xi}^{\\infty} d\\xi'\\rho_b(\\xi')sin(\\xi - \\xi')$\n",
    "\n",
    "So finally we achieve our goal. We can now substitute the solution of $\\rho_{e1}$ into the solution of $\\psi$ to get the final solution for $\\psi$:\n",
    "\n",
    "$ \\psi = \\frac{1}{2\\pi}\\int_{\\xi}^{\\infty}d\\xi' \\int_{0}^{2\\pi} d\\theta' \\int_{0}^{\\infty} dr'r'\\rho_b(\\textbf r',\\xi')sin(\\xi - \\xi')K_0(|\\textbf r - \\textbf r'|)$\n",
    "\n",
    "Once we have $\\psi$, we can take the longitudinal gradient and the transverse gradient to calculate the accelerating field and the focusing field respectively."
   ]
  },
  {
   "cell_type": "markdown",
   "metadata": {},
   "source": [
    "# Simulations with a QuickPIC Code\n",
    "\n",
    "\n",
    "* The length of the simulation box is 680$\\mu m$ $ \\times$ 680$\\mu m$ $\\times$ 545$\\mu m$ (in x,y,z directions respectively)\n",
    "\n",
    "* The simulation will run for a time 10.2 $1/\\omega_p$.\n",
    "\n",
    "* The simulation uses $2^{22}$ particles for the beam, uses $2^{18}$ particles for a 2D slice of plasma.\n",
    "\n",
    "## (In all the plots below, the driving beam is moving to the left)\n",
    "\n"
   ]
  },
  {
   "cell_type": "markdown",
   "metadata": {},
   "source": [
    "## 1. Linear regime (when the spot size of the beam is large, the beam density is low)\n",
    "\n",
    "* Total number of electrons in the beam: $2.5\\times 10^{8}$\n",
    "* Beam spot sizes: $\\sigma_x = 26.6\\mu m,\\sigma_y = 26.6\\mu m,\\sigma_z = 21.286\\mu m$"
   ]
  },
  {
   "cell_type": "code",
   "execution_count": 1,
   "metadata": {},
   "outputs": [
    {
     "name": "stdout",
     "output_type": "stream",
     "text": [
      "quickpic completed normally\n"
     ]
    }
   ],
   "source": [
    "import os\n",
    "import quickpic\n",
    "\n",
    "workdir = os.getcwd()\n",
    "quickpic.runqpic(rundir='',inputfile='qpinput.json')\n",
    "os.chdir(workdir)"
   ]
  },
  {
   "cell_type": "markdown",
   "metadata": {},
   "source": [
    "# Now let us take a look at the plasma electron density in the wakefield (If there is no perturbation at all, the value should be -1):"
   ]
  },
  {
   "cell_type": "code",
   "execution_count": 4,
   "metadata": {},
   "outputs": [
    {
     "data": {
      "image/png": "[encoded data removed]",
      "text/plain": [
       "<Figure size 432x288 with 2 Axes>"
      ]
     },
     "metadata": {
      "needs_background": "light"
     },
     "output_type": "display_data"
    }
   ],
   "source": [
    "import plot\n",
    "filename = './Species0001/Charge_slice_0001/charge_slice_xz_00000001.h5'\n",
    "figure_title = 'Plasma Electron Density'\n",
    "xlabel = r'$\\xi \\; (\\xi = ct-z)\\;[c/\\omega_p]$'  \n",
    "ylabel ='$x\\;[c/\\omega_p]$'\n",
    "datamin = -10\n",
    "datamax = 0.0\n",
    "plot.QEP_plot(filename,figure_title,xlabel,ylabel,datamin,datamax)\n",
    "# # Beam\n",
    "# filename = 'QEB-XZ_00000001.h5' \n",
    "# figure_title = 'Beam Density'\n",
    "# xlabel = r'$\\xi \\; (\\xi = ct-z)\\;[c/\\omega_p]$'  \n",
    "# ylabel ='$x\\;[c/\\omega_p]$'\n",
    "# datamin = -0.1\n",
    "# datamax = 0\n",
    "# zyjplot.QEP_plot(filename,figure_title,xlabel,ylabel,datamin,datamax)\n",
    "\n",
    "# os.chdir(workdir)"
   ]
  },
  {
   "cell_type": "markdown",
   "metadata": {},
   "source": [
    "# Then let us take a look at the accelerating field $ E_z$ in the wakefield:"
   ]
  },
  {
   "cell_type": "markdown",
   "metadata": {},
   "source": [
    "## $E_z$ and the longitudinal lineout:"
   ]
  },
  {
   "cell_type": "code",
   "execution_count": null,
   "metadata": {
    "scrolled": true
   },
   "outputs": [],
   "source": [
    "os.chdir(workdir + '/'+ dirname_linear)\n",
    "\n",
    "filename = 'FEZ-XZ_00000001.h5'\n",
    "figure_title = r'$E_z$'\n",
    "xlabel = r'$\\xi \\; (\\xi = ct-z)\\;[c/\\omega_p]$'  \n",
    "ylabel_left = '$x\\;[c/\\omega_p]$'\n",
    "ylabel_right = r'$E_z [{m_e}c\\omega_p/e]$'\n",
    "datamin = -0.01\n",
    "datamax = 0.01\n",
    "lineout_position = 2 \n",
    "zyjplot.Ez_longilineout_plot(filename,figure_title,xlabel,ylabel_left,ylabel_right,datamin,datamax,lineout_position)\n",
    "\n",
    "os.chdir(workdir)"
   ]
  },
  {
   "cell_type": "markdown",
   "metadata": {},
   "source": [
    "## $E_z$ and the transverse lineout:"
   ]
  },
  {
   "cell_type": "code",
   "execution_count": null,
   "metadata": {},
   "outputs": [],
   "source": [
    "os.chdir(workdir + '/'+ dirname_linear)\n",
    "\n",
    "filename = 'FEZ-XZ_00000001.h5'\n",
    "figure_title = r'$E_z$'\n",
    "xlabel_down = r'$\\xi \\; (\\xi = ct-z)\\;[c/\\omega_p]$'  \n",
    "xlabel_up = r'$E_z [{m_e}c\\omega_p/e]$'  \n",
    "ylabel = '$x\\;[c/\\omega_p]$'\n",
    "\n",
    "datamin = -0.02\n",
    "datamax = 0.02\n",
    "lineout_position = 2.5 \n",
    "zyjplot.Ez_translineout_plot(filename,figure_title,xlabel_down,xlabel_up,ylabel,datamin,datamax,lineout_position)\n",
    "\n",
    "os.chdir(workdir)"
   ]
  },
  {
   "cell_type": "markdown",
   "metadata": {},
   "source": [
    "# Then let us take a look at the focusing force $ F_\\perp$ in the wakefield:"
   ]
  },
  {
   "cell_type": "markdown",
   "metadata": {},
   "source": [
    "We know $\\textbf F = q(\\textbf E + \\textbf v\\times \\textbf B)$. For a beam electron, $\\textbf v = c\\hat z $, $q=-e$. So $\\textbf F = -e(\\textbf E + c\\hat z \\times \\textbf B)$. So $\\textbf F_\\perp = -e(\\textbf E_\\perp + c\\hat z \\times \\textbf B)$\n",
    "\n",
    "In normalized units, we have: $\\textbf F_\\perp = -(\\textbf E_\\perp + \\hat z \\times \\textbf B)$. So we have:\n",
    "\n",
    "$F_x = -(E_x - B_y)$, $F_y = -(E_y + B_x)$"
   ]
  },
  {
   "cell_type": "markdown",
   "metadata": {},
   "source": [
    "# Now let us take a look at the x component of the focusing force: $F_x$ in the wakefield(y component is the same due to azimuthal symmetry):"
   ]
  },
  {
   "cell_type": "markdown",
   "metadata": {},
   "source": [
    "## $F_x$ and the transverse lineout:"
   ]
  },
  {
   "cell_type": "code",
   "execution_count": null,
   "metadata": {
    "scrolled": true
   },
   "outputs": [],
   "source": [
    "os.chdir(workdir + '/'+ dirname_linear)\n",
    "\n",
    "filename_Ex_XZ = 'FEX-XZ_00000001.h5'\n",
    "filename_By_XZ = 'FBY-XZ_00000001.h5'\n",
    "figure_title = r'$F_x$'\n",
    "xlabel_down = r'$\\xi \\; (\\xi = ct-z)\\;[c/\\omega_p]$'  \n",
    "xlabel_up = r'$F_x\\;[mc\\omega_p]$'  \n",
    "ylabel = '$x\\;[c/\\omega_p]$'\n",
    "datamin = -0.01\n",
    "datamax = 0.01\n",
    "lineout_position = 4  \n",
    "# The distance to xi=0. Has to be in the range of [0,10.2]\n",
    "zyjplot.Fx_translineout_plot(filename_Ex_XZ,filename_By_XZ,figure_title,xlabel_down,xlabel_up,ylabel,datamin,datamax,lineout_position)\n",
    "\n",
    "os.chdir(workdir)"
   ]
  },
  {
   "cell_type": "markdown",
   "metadata": {},
   "source": [
    "## $F_x$ and the longitudinal lineout:"
   ]
  },
  {
   "cell_type": "code",
   "execution_count": null,
   "metadata": {},
   "outputs": [],
   "source": [
    "os.chdir(workdir + '/'+ dirname_linear)\n",
    "\n",
    "filename_Ex_XZ = 'FEX-XZ_00000001.h5'\n",
    "filename_By_XZ = 'FBY-XZ_00000001.h5'\n",
    "figure_title = r'$F_x$' \n",
    "xlabel = r'$\\xi \\; (\\xi = ct-z)\\;[c/\\omega_p]$'  \n",
    "ylabel_left = '$x\\;[c/\\omega_p]$'\n",
    "ylabel_right = r'$F_x [{m_e}c\\omega_p/e]$'\n",
    "datamin = -0.01\n",
    "datamax = 0.01\n",
    "lineout_position = 1 \n",
    "zyjplot.Fx_longilineout_plot(filename_Ex_XZ,filename_By_XZ,figure_title,xlabel,ylabel_left,ylabel_right,datamin,datamax,lineout_position)\n",
    "\n",
    "os.chdir(workdir)"
   ]
  },
  {
   "cell_type": "markdown",
   "metadata": {},
   "source": [
    "## As we can see from the simulation, in linear regime, the wakefield is sinusoidal."
   ]
  },
  {
   "cell_type": "markdown",
   "metadata": {},
   "source": [
    "## 2. Nonlinear regime (when the spot size of the beam is small, the beam density is high)\n",
    "\n",
    "* Total number of electrons in the beam: $2.5\\times 10^{9}$\n",
    "* Beam spot sizes: $\\sigma_x = 5\\mu m,\\sigma_y = 5\\mu m,\\sigma_z = 21.286\\mu m$"
   ]
  },
  {
   "cell_type": "markdown",
   "metadata": {},
   "source": [
    "## We start from basic equations (in Gaussian units):\n",
    "* Maxwell equations in Lorentz gauge: $(\\frac{1}{c^2}\\frac{\\partial^2}{\\partial t^2}-{\\nabla}^2)\\textbf A = 4\\pi \\frac{\\textbf J}{c}$ , $(\\frac{1}{c^2}\\frac{\\partial^2}{\\partial t^2}-{\\nabla}^2)\\phi = 4\\pi \\frac{\\rho}{c}$\n",
    "* Lorentz gauge equation: $\\frac{1}{c}\\frac{\\partial \\phi}{\\partial t} + \\nabla \\cdot \\textbf A = 0$\n",
    "* Equation of motion for a particle: $(\\frac{\\partial}{\\partial t}+\\textbf V_i \\cdot \\nabla)\\textbf P_i = q_i(\\textbf E_i + \\frac{\\textbf V_i}{c}\\times \\textbf B)$\n",
    "* Continuity equation: $\\frac{\\partial \\rho}{\\partial t} + \\nabla \\cdot \\textbf J = 0$ \n",
    "* Calculating fields from the potentials: $\\textbf B = \\nabla  \\times \\textbf A$, $\\textbf E = -\\nabla \\phi - \\frac{1}{c}\\frac{\\partial \\textbf A}{\\partial t}$\n",
    "\n",
    "In $\\textbf{normalized}$ unit, these equations become:\n",
    "\n",
    "* Maxwell equations in Lorentz gauge: $(\\frac{1}{c^2}\\frac{\\partial^2}{\\partial t^2}-{\\nabla}^2)\\textbf A =  \\textbf J$ , $(\\frac{1}{c^2}\\frac{\\partial^2}{\\partial t^2}-{\\nabla}^2)\\phi = \\rho$\n",
    "\n",
    "* Lorentz gauge equation: $\\frac{\\partial \\phi}{\\partial t} + \\nabla \\cdot \\textbf A = 0$\n",
    "\n",
    "* Equation of motion for a particle: $(\\frac{\\partial}{\\partial t}+\\textbf V_i \\cdot \\nabla)\\textbf P_i = q_i(\\textbf E_i + \\textbf V_i\\times \\textbf B)$\n",
    "\n",
    "* Continuity equation: $\\frac{\\partial \\rho}{\\partial t} + \\nabla \\cdot \\textbf J = 0$ \n",
    "\n",
    "* Calculating fields from the potentials: $\\textbf B = \\nabla  \\times \\textbf A$, $\\textbf E = -\\nabla \\phi - \\frac{\\partial \\textbf A}{\\partial t}$ ( It is a coincidence that the expressions are the same as the ones in SI units )\n",
    "\n",
    "We perform a transformation of variables from $(x, y, z, t)$ to $(x, y, \\xi = ct-z, s=z)$ and apply QSA, then we get:\n",
    "* Maxwell equations in Lorentz gauge: $-{\\nabla_\\perp}^2\\textbf A =  \\textbf J$ , $-{\\nabla_\\perp}^2 \\phi = \\rho$. From these 2 equations we immediately get: $-{\\nabla_\\perp}^2 \\psi = {\\rho} - J_z$ ,where $\\psi = \\phi - A_z$ called pseudo potential.\n",
    "  \n",
    "* Lorentz gauge equation: ${\\nabla_\\perp}\\cdot \\textbf A_\\perp = -\\frac{\\partial}{\\partial \\xi}(\\phi - A_z) = -\\frac{\\partial}{\\partial \\xi}\\psi$ ,where $\\psi = \\phi - A_z$ called pseudo potential.\n",
    "* Continuity equation: $\\frac{\\partial}{\\partial \\xi}(\\rho - J_z) + {\\nabla_\\perp}\\cdot \\textbf J_\\perp = 0$\n",
    "\n",
    "And the components of the fields:\n",
    "* $E_z = -\\frac{\\partial \\phi}{\\partial z} - \\frac{\\partial A_z}{\\partial t} = \\frac{\\partial \\phi}{\\partial \\xi} - \\frac{\\partial A_z}{\\partial \\xi} = \\frac{\\partial \\psi}{\\partial \\xi}$ \n",
    "* $\\textbf E_\\perp = -\\nabla_\\perp \\phi - \\frac{\\partial \\textbf A_\\perp}{\\partial t} = -\\nabla_\\perp \\phi - \\frac{\\partial \\textbf A_\\perp}{\\partial \\xi}$\n",
    "\n",
    "For $\\textbf B$, we have:\n",
    "\n",
    "$\\textbf B = (\\nabla_\\perp + \\nabla_z) \\times (\\textbf A_\\perp + A_z \\hat{z}) = (\\nabla_\\perp \\times \\textbf A_\\perp) + (\\nabla_\\perp \\times A_z \\hat{z} + \\nabla_z \\times \\textbf A_\\perp)$, we can easily see that the first parentheses is the z component of $\\textbf B$, and the second parentheses is the perpendicular component of $\\textbf B$. So:\n",
    "\n",
    "* $B_z = (\\nabla_\\perp \\times \\textbf A_\\perp)\\cdot {\\hat{z}}$\n",
    "* $\\textbf B_\\perp = (\\nabla_\\perp \\times A_z \\hat{z} + \\nabla_z \\times \\textbf A_\\perp)$\n",
    "\n",
    "Also, $\\hat{z} \\times \\textbf B = \\hat{z} \\times (\\nabla \\times \\textbf A) = \\nabla \\textbf A \\cdot \\hat{z} - (\\hat{z} \\cdot \\nabla)\\textbf A = \\nabla A_z - \\frac{\\partial \\textbf A}{\\partial z} = (\\nabla_\\perp A_z + \\frac{\\partial A_z}{\\partial z}\\hat{z})-(\\frac{\\partial \\textbf A_\\perp}{\\partial z}+\\frac{\\partial A_z}{\\partial z}\\hat{z})= \\nabla_\\perp A_z - \\frac{\\partial \\textbf A_\\perp}{\\partial z} = \\nabla_\\perp A_z + \\frac{\\partial \\textbf A_\\perp}\n",
    "{\\partial \\xi}$\n",
    "\n",
    "So for an electron beam particle whose velocity is $c \\hat{z} $  ($\\hat{z}$ in normallized unit), The perpendicular focusing forec is: $\\textbf F_\\perp =-e( \\textbf E_\\perp + c\\hat{z} \\times \\textbf B)$.\n",
    "In normalized unit, we have: $\\textbf F_\\perp =-( \\textbf E_\\perp + \\hat{z} \\times \\textbf B) = -(-\\nabla_\\perp \\phi - \\frac{\\partial \\textbf A_\\perp}{\\partial \\xi} + \\nabla_\\perp A_z + \\frac{\\partial \\textbf A_\\perp}\n",
    "{\\partial \\xi}) = \\nabla_\\perp (\\phi - A_z) = \\nabla_\\perp \\psi$.\n",
    "\n",
    "So for an electron beam particle:\n",
    "* The accelerating force is : $F_z = -\\frac{\\partial \\psi}{\\partial \\xi}$ \n",
    "* The focusing force is : $\\textbf F_\\perp = \\nabla_\\perp \\psi$\n",
    "\n",
    "As we can see, $\\psi$ is such an important quantity that we really want to solve for. So let us solve it based on some assumptions. \n",
    "\n"
   ]
  },
  {
   "cell_type": "markdown",
   "metadata": {},
   "source": [
    "### Solve for $\\psi$ in the region: $\\sigma_r << r < r_b$.\n",
    "\n",
    "The equation we will use is: $-{\\nabla_\\perp}^2 \\psi = {\\rho} - J_z$, and our assumption is that there are no electrons in this region.\n",
    "\n",
    "Let us look at the right hand side of this equation in detail.\n",
    "\n",
    "${\\rho} - J_z = ({\\rho_e} - J_{ze})+({\\rho_i} - J_{zi})+({\\rho_b} - J_{zb})$\n",
    "\n",
    "* We assume there are no electrons in this region. So ${\\rho_e} = J_{ze} = 0$\n",
    "* We assume ions are immobile. So ${\\rho_i} = 1, J_{zi} = 0$\n",
    "* We assume electron beam particles are moving at $c$. So ${\\rho_b} - J_{zb} = {\\rho_b} - {\\rho_b}\\frac {c}{c} = 0$ (In normalized unit, $c = 1$)\n",
    "\n",
    "The equation we will solve reduce to :$-{\\nabla_\\perp}^2 \\psi = 1$\n",
    "\n",
    "The solution of this equation is: $\\psi(\\xi) = \\psi_0(\\xi) - \\frac {r^2}{4}$. So:\n",
    "\n",
    "* The accelerating force: $F_z = -\\frac{\\partial \\psi}{\\partial \\xi} = -\\frac{\\partial \\psi_0}{\\partial \\xi}$, which is independent of $r$. \n",
    "* The focusing force: $\\textbf F_\\perp = \\nabla_\\perp \\psi = -\\frac {\\textbf r}{2}$, which is linear in $r$ and independent of $\\xi$\n"
   ]
  },
  {
   "cell_type": "code",
   "execution_count": null,
   "metadata": {},
   "outputs": [],
   "source": [
    "dirname_nonlinear = 'data_nonlinear'\n",
    "quickpic.runqpic(rundir=dirname_nonlinear,inputfile='rpinput_nonlinear')\n",
    "os.chdir(workdir)"
   ]
  },
  {
   "cell_type": "markdown",
   "metadata": {},
   "source": [
    "# Now let us take a look at the plasma electron density in the wakefield (If there is no perturbation at all, the value should be -1):"
   ]
  },
  {
   "cell_type": "code",
   "execution_count": null,
   "metadata": {},
   "outputs": [],
   "source": [
    "os.chdir(workdir + '/' + dirname_nonlinear)\n",
    "# Plamsa \n",
    "filename = 'QEP01-XZ_00000001.h5'\n",
    "figure_title = 'Plasma Electron Density'\n",
    "xlabel = r'$\\xi \\; (\\xi = ct-z)\\;[c/\\omega_p]$'  \n",
    "ylabel ='$x\\;[c/\\omega_p]$'\n",
    "datamin = -10\n",
    "datamax = 0\n",
    "zyjplot.QEP_plot(filename,figure_title,xlabel,ylabel,datamin,datamax)\n",
    "# Beam\n",
    "filename = 'QEB-XZ_00000001.h5'\n",
    "figure_title = 'Beam Density'\n",
    "xlabel = r'$\\xi \\; (\\xi = ct-z)\\;[c/\\omega_p]$'  \n",
    "ylabel ='$x\\;[c/\\omega_p]$'\n",
    "datamin = -1\n",
    "datamax = 0\n",
    "zyjplot.QEP_plot(filename,figure_title,xlabel,ylabel,datamin,datamax)\n",
    "\n",
    "os.chdir(workdir)"
   ]
  },
  {
   "cell_type": "markdown",
   "metadata": {},
   "source": [
    "# Then let us take a look at the accelerating field $ E_z$ in the wakefield:"
   ]
  },
  {
   "cell_type": "markdown",
   "metadata": {},
   "source": [
    "## $E_z$ and the longitudinal lineout:"
   ]
  },
  {
   "cell_type": "code",
   "execution_count": null,
   "metadata": {},
   "outputs": [],
   "source": [
    "os.chdir(workdir + '/' + dirname_nonlinear)\n",
    "\n",
    "filename = 'FEZ-XZ_00000001.h5'\n",
    "figure_title = r'$E_z$'\n",
    "xlabel = r'$\\xi \\; (\\xi = ct-z)\\;[c/\\omega_p]$'  \n",
    "ylabel_left = '$x\\;[c/\\omega_p]$'\n",
    "ylabel_right = r'$E_z [{m_e}c\\omega_p/e]$'\n",
    "\n",
    "datamin = -0.6\n",
    "datamax = 0.3\n",
    "lineout_position = 0 \n",
    "# The distance to x=0. Has to be a whole number times 0.25, in the range of [0,3]\n",
    "zyjplot.Ez_longilineout_plot(filename,figure_title,xlabel,ylabel_left,ylabel_right,datamin,datamax,lineout_position)\n",
    "\n",
    "os.chdir(workdir)"
   ]
  },
  {
   "cell_type": "markdown",
   "metadata": {},
   "source": [
    "## $E_z$ and the transverse lineout:"
   ]
  },
  {
   "cell_type": "code",
   "execution_count": null,
   "metadata": {},
   "outputs": [],
   "source": [
    "os.chdir(workdir + '/' + dirname_nonlinear)\n",
    "\n",
    "filename = 'FEZ-XZ_00000001.h5'\n",
    "figure_title = r'$E_z$'\n",
    "xlabel_down = r'$\\xi \\; (\\xi = ct-z)\\;[c/\\omega_p]$'  \n",
    "xlabel_up = r'$E_z [{m_e}c\\omega_p/e]$'  \n",
    "ylabel = '$x\\;[c/\\omega_p]$'\n",
    "\n",
    "datamin = -0.6\n",
    "datamax = 0.3\n",
    "lineout_position = 5\n",
    "zyjplot.Ez_translineout_plot(filename,figure_title,xlabel_down,xlabel_up,ylabel,datamin,datamax,lineout_position)\n",
    "\n",
    "os.chdir(workdir)"
   ]
  },
  {
   "cell_type": "markdown",
   "metadata": {},
   "source": [
    "## As we can see from the simulation, in nonlinear(blowout) regime, the accelerating field is independent of $r$ in the blowout bubble. This agrees with the theory:$E_z = \\frac{\\partial \\psi}{\\partial \\xi} = \\frac{\\partial}{\\partial \\xi} (\\psi_0(\\xi) - \\frac {r^2}{4}) = \\frac{\\partial}{\\partial \\xi} \\psi_0(\\xi)$ "
   ]
  },
  {
   "cell_type": "markdown",
   "metadata": {},
   "source": [
    "# Then let us take a look at the focusing force $ F_\\perp$ in the wakefield:"
   ]
  },
  {
   "cell_type": "markdown",
   "metadata": {},
   "source": [
    "We know $\\textbf F = q(\\textbf E + \\textbf v\\times \\textbf B)$. For a beam electron, $\\textbf v = c\\hat z $, $q=-e$. So $\\textbf F = -e(\\textbf E + c\\hat z \\times \\textbf B)$. So $\\textbf F_\\perp = -e(\\textbf E_\\perp + c\\hat z \\times \\textbf B)$\n",
    "\n",
    "In normalized units, we have: $\\textbf F_\\perp = -(\\textbf E_\\perp + \\hat z \\times \\textbf B)$. So we have:\n",
    "\n",
    "$F_x = -(E_x - B_y)$, $F_y = -(E_y + B_x)$"
   ]
  },
  {
   "cell_type": "markdown",
   "metadata": {},
   "source": [
    "# Now let us take a look at the x and y components of the focusing force: $F_x$, $F_y$ in the wakefield:"
   ]
  },
  {
   "cell_type": "markdown",
   "metadata": {},
   "source": [
    "## $F_x$ and the transverse lineout:"
   ]
  },
  {
   "cell_type": "code",
   "execution_count": null,
   "metadata": {},
   "outputs": [],
   "source": [
    "os.chdir(workdir + '/' + dirname_nonlinear)\n",
    "\n",
    "filename_Ex_XZ = 'FEX-XZ_00000001.h5'\n",
    "filename_By_XZ = 'FBY-XZ_00000001.h5'\n",
    "figure_title = r'$F_x$'\n",
    "xlabel_down = r'$\\xi \\; (\\xi = ct-z)\\;[c/\\omega_p]$'  \n",
    "xlabel_up = r'$F_x\\;[mc\\omega_p]$'  \n",
    "ylabel = '$x\\;[c/\\omega_p]$'\n",
    "datamin = -0.6\n",
    "datamax = 0.6\n",
    "lineout_position = 5 \n",
    "# The distance to xi=0. Has to be in the range of [0,10.2]\n",
    "zyjplot.Fx_translineout_plot(filename_Ex_XZ,filename_By_XZ,figure_title,xlabel_down,xlabel_up,ylabel,datamin,datamax,lineout_position)\n",
    "\n",
    "os.chdir(workdir)"
   ]
  },
  {
   "cell_type": "markdown",
   "metadata": {},
   "source": [
    "## As we can see from the simulation, in nonlinear(blowout) regime, the focusing force is linear in $r$ in the blowout bubble. This agrees with the theory: $\\textbf F_\\perp = \\nabla_\\perp \\psi(\\xi) = \\nabla_\\perp (\\psi_0(\\xi) - \\frac {r^2}{4}) = -\\frac {\\textbf r}{2}$, which is linear in $r$."
   ]
  },
  {
   "cell_type": "markdown",
   "metadata": {},
   "source": [
    "## $F_x$ and the longitudinal lineout:"
   ]
  },
  {
   "cell_type": "code",
   "execution_count": null,
   "metadata": {},
   "outputs": [],
   "source": [
    "os.chdir(workdir + '/' + dirname_nonlinear)\n",
    "\n",
    "filename_Ex_XZ = 'FEX-XZ_00000001.h5'\n",
    "filename_By_XZ = 'FBY-XZ_00000001.h5'\n",
    "figure_title = r'$F_x$'\n",
    "\n",
    "xlabel = r'$\\xi \\; (\\xi = ct-z)\\;[c/\\omega_p]$'  \n",
    "ylabel_left = '$x\\;[c/\\omega_p]$'\n",
    "ylabel_right = r'$F_x\\;[mc\\omega_p]$' \n",
    "\n",
    "datamin = -0.6\n",
    "datamax = 0.6\n",
    "lineout_position = 0.5 \n",
    "\n",
    "zyjplot.Fx_longilineout_plot(filename_Ex_XZ,filename_By_XZ,figure_title,xlabel,ylabel_left,ylabel_right,datamin,datamax,lineout_position)\n",
    "\n",
    "os.chdir(workdir)"
   ]
  },
  {
   "cell_type": "markdown",
   "metadata": {},
   "source": [
    "## As we can see from the simulation, in nonlinear(blowout) regime, the focusing force is independent of $\\xi$ in the blowout bubble. This agrees with the theory: $\\textbf F_\\perp = \\nabla_\\perp \\psi(\\xi) = \\nabla_\\perp (\\psi_0(\\xi) - \\frac {r^2}{4}) = -\\frac {\\textbf r}{2}$, which is independent of $\\xi$."
   ]
  },
  {
   "cell_type": "markdown",
   "metadata": {
    "collapsed": true
   },
   "source": [
    "##  Appendix: Proof of $\\gamma - \\frac{p_z}{mc} = 1 + \\frac{e\\psi}{mc^2}$ ( Or $\\gamma - p_z = 1 + \\psi$ in normalized unit) is a constant of motion. We will begin our work in Gaussian unit.\n",
    "\n",
    "From classical mechanics, we have: $ \\frac {dH}{dt}=\\frac {\\partial H}{dt} + [H,H] = \\frac {\\partial H}{dt}$\n",
    "\n",
    "Recall that when we make QSA, $\\frac{\\partial}{\\partial t} =  c \\frac{\\partial}{\\partial \\xi}$  $\\frac{\\partial}{\\partial z} = - \\frac{\\partial}{\\partial \\xi}$. So $\\frac{\\partial}{\\partial t} =  -c \\frac{\\partial}{\\partial z}$\n",
    "\n",
    "So $ \\frac {dH}{dt}=\\frac {\\partial H}{dt} = -c \\frac{\\partial H}{\\partial z}$\n",
    "\n",
    "From Hamilton's equations: $\\frac {dP_z}{dt}=-\\frac{\\partial H}{\\partial z}$. So $ \\frac {dH}{dt}=\\frac {\\partial H}{dt} = -c \\frac{\\partial H}{\\partial z} = c\\frac {dP_z}{dt}$\n",
    "\n",
    "So $\\frac {d(H-cP_z)}{dt} = 0$. So $H-cP_z$ is a constant.\n",
    "\n",
    "The Hamiltonian of a relativistic particle with charge $q$ and mass $m$ is: $H = \\gamma m c^2 + q\\phi$\n",
    "\n",
    "So $\\gamma m c^2 + q\\phi - cP_z$ is a constant.\n",
    "\n",
    "Upstream and very far away from the beam driver, the plasma is uniform and unperturbed. So $\\gamma = 1, \\phi = 0, P_z = 0$\n",
    "\n",
    "So $\\gamma m c^2 + q\\phi - cP_z = m c^2$. \n",
    "\n",
    "However, we need to be careful that the $P_z$ here is the canonical momentum, not the kinetic momentum. The relationship between the canonical momentum $P_z$ and the kinetic momentum $p_z$ is: $P_z = p_z + \\frac {q}{c} A_z$, where the kinetic momentum $p_z = \\gamma m v_z$. \n",
    "\n",
    "So plug this in the equation above, we have: $\\gamma m c^2 + q\\phi - c(p_z + \\frac {q}{c} A_z) = m c^2$\n",
    "\n",
    "Rewrite this equation in a nicer way: $\\gamma - \\frac{p_z}{mc} = 1 - \\frac{q\\psi}{mc^2}$. \n",
    "\n",
    "For an electron, $q=-e$. So we finally get: $\\gamma - \\frac{p_z}{mc} = 1 + \\frac{e\\psi}{mc^2}$\n",
    "\n",
    "In normalized unit, $e=m=c=1$. So this equation becomes: $\\gamma - p_z = 1 + \\psi$"
   ]
  },
  {
   "cell_type": "markdown",
   "metadata": {},
   "source": [
    "# Reference:\n",
    "\n",
    "[1] W. Lu, C. Huang, M.Zhou; Nonlinear Theory for Relativistic Plasma Wakefield in the Blowout Regime (2006)\n",
    "\n",
    "[2] Weiming An,Efficient Modeling of Plasma Wake Field Acceleration Experiments Using Particle-In-Cell Methods (2013),P137-P139\n",
    "\n",
    "[3] P. Mora and T.M. Antonsen, Jr., Phys. Plasmas 4,217 (1997)"
   ]
  }
 ],
 "metadata": {
  "kernelspec": {
   "display_name": "Python 3",
   "language": "python",
   "name": "python3"
  },
  "language_info": {
   "codemirror_mode": {
    "name": "ipython",
    "version": 3
   },
   "file_extension": ".py",
   "mimetype": "text/x-python",
   "name": "python",
   "nbconvert_exporter": "python",
   "pygments_lexer": "ipython3",
   "version": "3.7.1"
  }
 },
 "nbformat": 4,
 "nbformat_minor": 2
}
