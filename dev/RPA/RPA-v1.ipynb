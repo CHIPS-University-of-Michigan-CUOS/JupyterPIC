{
 "cells": [
  {
   "cell_type": "markdown",
   "metadata": {},
   "source": [
    "# RPA Demonstration\n",
    "## (Rev: 05/28/2019)\n",
    "\n",
    "RPA Demo\n",
    "\n",
    "This is a notebook designed to look at a paper that contained some 1D simulations.  The main reference of this work is the RPA paper by Yan et al, the full reference is:\n",
    "\n",
    "Yan et al, Phys. Rev. Lett., ${\\bf 100}$, 135003 (2008)."
   ]
  },
  {
   "cell_type": "markdown",
   "metadata": {},
   "source": []
  },
  {
   "cell_type": "markdown",
   "metadata": {},
   "source": [
    "The goal of this paper is to demonstrate high intensity laser interaction using simple 1D simulations.  One recent paper which contained 1D simulations is the work by Yan et al which demonstrates the possibility of generating ions with small energy spread using circularly polarized laser.\n",
    "\n",
    "In this case we will perform some 1D simulations using laser with normalized vector potential > 1 with different polarizations (both linear and circular) on a overdense plasma slab with very low thickness, and look at the evolution of the energetic ions under the influence of these lasers."
   ]
  },
  {
   "cell_type": "markdown",
   "metadata": {},
   "source": [
    "OSIRIS simulations are done in normalized units. \n",
    "\n",
    "* Time:  $t' = t \\omega_{p}$\n",
    "\n",
    "* Frequency: $\\omega' = \\frac{\\omega}{\\omega_{p}}$ \n",
    "\n",
    "* Position: $\\vec{x}' = \\frac{\\omega_{p}}{c} \\vec{x}$  \n",
    "\n",
    "* Momenta: $\\vec{u}' = \\frac{\\vec{p}}{m_{e} c} = \\frac{\\vec{\\gamma v}}{c} = \\frac{\\vec{u}} {c}$  \n",
    "\n",
    "* Electric field: $\\vec{E}' = e \\frac{c / \\omega_{p}}{m_{e} c^2} \\vec{E}$  \n",
    "\n",
    "* Magnetic field: $\\vec{B}' = e \\frac{c / \\omega_{p}}{m_{e} c^2} \\vec{B}$  \n"
   ]
  },
  {
   "cell_type": "code",
   "execution_count": 1,
   "metadata": {},
   "outputs": [],
   "source": [
    "# **********************************\n",
    "# First Run This Cell to \n",
    "# import the necessary libraries\n",
    "# **********************************\n",
    "#\n",
    "# Please run this cell before running anything, and run this cell again if you have restarted the \n",
    "# python kernel.\n",
    "#\n",
    "# This cell imports useful routines to diagnose the simulations here\n",
    "#\n",
    "\n",
    "%matplotlib inline\n",
    "import osiris\n",
    "from osiris import tajima\n",
    "from rpa_helper import *\n",
    "import numpy as np\n",
    "import matplotlib.pyplot as plt\n",
    "from osh5vis import osplot\n",
    "from osh5io import *\n",
    "from osh5utils import fft\n",
    "from ipywidgets import interact_manual,Layout,interact, FloatSlider\n",
    "import ipywidgets as widgets\n",
    "interact_calc=interact_manual.options(manual_name=\"Make New Input and Run\")"
   ]
  },
  {
   "cell_type": "markdown",
   "metadata": {},
   "source": [
    "## Here we illustrate and explore the OSIRIS pulse shape"
   ]
  },
  {
   "cell_type": "code",
   "execution_count": 12,
   "metadata": {},
   "outputs": [
    {
     "data": {
      "application/vnd.jupyter.widget-view+json": {
       "model_id": "e8ad50eda5ad4a889b8f1b3c22106300",
       "version_major": 2,
       "version_minor": 0
      },
      "text/plain": [
       "interactive(children=(FloatSlider(value=1.57, description='$t_{rise}$', max=5.0, step=0.05), FloatSlider(value…"
      ]
     },
     "metadata": {},
     "output_type": "display_data"
    }
   ],
   "source": [
    "# This cell shows the laser envelope shape for given t_rise, t_fall, and Lt.  \n",
    "#\n",
    "interact(laser_envelope, trise=FloatSlider(min=0.00, max=5, step=.05, description='$t_{rise}$', value = 1.57),\n",
    "         tflat=FloatSlider(min=0.00, max=5, step=.05, description='$Lt$', value = 0),\n",
    "         tfall=FloatSlider(min=0.00, max=5, step=.05, description='$t_{fall}$', value = 1.57));"
   ]
  },
  {
   "cell_type": "markdown",
   "metadata": {},
   "source": [
    "### Below is a simulation using a circularly polarized light, like those in the paper."
   ]
  },
  {
   "cell_type": "code",
   "execution_count": 18,
   "metadata": {
    "scrolled": false
   },
   "outputs": [
    {
     "name": "stdout",
     "output_type": "stream",
     "text": [
      "runosiris completed normally\n"
     ]
    }
   ],
   "source": [
    "## Hit <shift>+<return> to run case A\n",
    "\n",
    "dirname = 'yan-circ'\n",
    "osiris.runosiris(rundir=dirname,inputfile='yan-circ.txt')\n",
    "# plot_maxgamma_t(dirname)"
   ]
  },
  {
   "cell_type": "markdown",
   "metadata": {},
   "source": [
    "Run the next cell to look at the results of the simulation. Click along the slider to see later timesteps. "
   ]
  },
  {
   "cell_type": "code",
   "execution_count": 19,
   "metadata": {},
   "outputs": [
    {
     "data": {
      "application/vnd.jupyter.widget-view+json": {
       "model_id": "b42fc8d8046e4275a92a4c5f35e1c4df",
       "version_major": 2,
       "version_minor": 0
      },
      "text/plain": [
       "interactive(children=(IntSlider(value=0, description='file_no', max=945, step=5), Output()), _dom_classes=('wi…"
      ]
     },
     "metadata": {},
     "output_type": "display_data"
    }
   ],
   "source": [
    "## Hit <shift>+<return> to visualize case A\n",
    "\n",
    "dirname = './yan-circ'\n",
    "rpa_movie(rundir=dirname)"
   ]
  },
  {
   "cell_type": "markdown",
   "metadata": {},
   "source": [
    "### Below is a simulation using a linearly polarized light.  "
   ]
  },
  {
   "cell_type": "code",
   "execution_count": 14,
   "metadata": {
    "scrolled": false
   },
   "outputs": [
    {
     "name": "stdout",
     "output_type": "stream",
     "text": [
      "runosiris completed normally\n"
     ]
    }
   ],
   "source": [
    "## Hit <shift>+<return> to run case A\n",
    "\n",
    "dirname = 'yan-lin'\n",
    "osiris.runosiris(rundir=dirname,inputfile='yan-lin.txt')\n",
    "# plot_maxgamma_t(dirname)"
   ]
  },
  {
   "cell_type": "code",
   "execution_count": 3,
   "metadata": {},
   "outputs": [
    {
     "ename": "FileNotFoundError",
     "evalue": "[Errno 2] No such file or directory: '/home/jovyan/work/JupyterPIC/dev/RPA/./yan-lin/MS/PHA/p1x1/electrons/'",
     "output_type": "error",
     "traceback": [
      "\u001b[0;31m---------------------------------------------------------------------------\u001b[0m",
      "\u001b[0;31mFileNotFoundError\u001b[0m                         Traceback (most recent call last)",
      "\u001b[0;32m<ipython-input-3-f190efc5b79d>\u001b[0m in \u001b[0;36m<module>\u001b[0;34m\u001b[0m\n\u001b[1;32m      2\u001b[0m \u001b[0;34m\u001b[0m\u001b[0m\n\u001b[1;32m      3\u001b[0m \u001b[0mdirname\u001b[0m \u001b[0;34m=\u001b[0m \u001b[0;34m'./yan-lin'\u001b[0m\u001b[0;34m\u001b[0m\u001b[0;34m\u001b[0m\u001b[0m\n\u001b[0;32m----> 4\u001b[0;31m \u001b[0mrpa_movie\u001b[0m\u001b[0;34m(\u001b[0m\u001b[0mrundir\u001b[0m\u001b[0;34m=\u001b[0m\u001b[0mdirname\u001b[0m\u001b[0;34m)\u001b[0m\u001b[0;34m\u001b[0m\u001b[0;34m\u001b[0m\u001b[0m\n\u001b[0m",
      "\u001b[0;32m~/work/JupyterPIC/dev/RPA/rpa_helper.py\u001b[0m in \u001b[0;36mrpa_movie\u001b[0;34m(rundir)\u001b[0m\n\u001b[1;32m    475\u001b[0m     \u001b[0mworking_dir\u001b[0m\u001b[0;34m=\u001b[0m\u001b[0mmy_path\u001b[0m\u001b[0;34m+\u001b[0m\u001b[0;34m'/'\u001b[0m\u001b[0;34m+\u001b[0m\u001b[0mrundir\u001b[0m\u001b[0;34m\u001b[0m\u001b[0;34m\u001b[0m\u001b[0m\n\u001b[1;32m    476\u001b[0m     \u001b[0mphase_space_dir\u001b[0m\u001b[0;34m=\u001b[0m\u001b[0mworking_dir\u001b[0m\u001b[0;34m+\u001b[0m\u001b[0;34m'/MS/PHA/p1x1/electrons/'\u001b[0m\u001b[0;34m\u001b[0m\u001b[0;34m\u001b[0m\u001b[0m\n\u001b[0;32m--> 477\u001b[0;31m     \u001b[0mfiles\u001b[0m\u001b[0;34m=\u001b[0m\u001b[0msorted\u001b[0m\u001b[0;34m(\u001b[0m\u001b[0mos\u001b[0m\u001b[0;34m.\u001b[0m\u001b[0mlistdir\u001b[0m\u001b[0;34m(\u001b[0m\u001b[0mphase_space_dir\u001b[0m\u001b[0;34m)\u001b[0m\u001b[0;34m)\u001b[0m\u001b[0;34m\u001b[0m\u001b[0;34m\u001b[0m\u001b[0m\n\u001b[0m\u001b[1;32m    478\u001b[0m     \u001b[0;31m#print(files[1])\u001b[0m\u001b[0;34m\u001b[0m\u001b[0;34m\u001b[0m\u001b[0;34m\u001b[0m\u001b[0m\n\u001b[1;32m    479\u001b[0m     \u001b[0mstart\u001b[0m\u001b[0;34m=\u001b[0m\u001b[0mfiles\u001b[0m\u001b[0;34m[\u001b[0m\u001b[0;36m1\u001b[0m\u001b[0;34m]\u001b[0m\u001b[0;34m.\u001b[0m\u001b[0mfind\u001b[0m\u001b[0;34m(\u001b[0m\u001b[0;34m'p1x1-electrons'\u001b[0m\u001b[0;34m)\u001b[0m\u001b[0;34m+\u001b[0m\u001b[0;36m16\u001b[0m\u001b[0;34m\u001b[0m\u001b[0;34m\u001b[0m\u001b[0m\n",
      "\u001b[0;31mFileNotFoundError\u001b[0m: [Errno 2] No such file or directory: '/home/jovyan/work/JupyterPIC/dev/RPA/./yan-lin/MS/PHA/p1x1/electrons/'"
     ]
    }
   ],
   "source": [
    "## Hit <shift>+<return> to visualize case A\n",
    "\n",
    "dirname = './yan-lin'\n",
    "rpa_movie(rundir=dirname)"
   ]
  },
  {
   "cell_type": "markdown",
   "metadata": {},
   "source": [
    "## Simulation Sandbox\n",
    "\n",
    "The cell below allows the user to change the simulation parameters in a very limited and controlled setting to explore the RPA problem using OSIRIS.  Below I am showing a widget we developed for a different problem (LWFA, or Tajima/Dawson)."
   ]
  },
  {
   "cell_type": "code",
   "execution_count": 2,
   "metadata": {},
   "outputs": [
    {
     "data": {
      "application/vnd.jupyter.widget-view+json": {
       "model_id": "be012365e30d4770b8763dab9e204072",
       "version_major": 2,
       "version_minor": 0
      },
      "text/plain": [
       "interactive(children=(Text(value='yan-circ.txt', description='Template Input File:', layout=Layout(width='55%'…"
      ]
     },
     "metadata": {},
     "output_type": "display_data"
    }
   ],
   "source": [
    "## Hit <shift>+<return> to start the widget, which contains a interface to change OSIRIS parameters\n",
    "\n",
    "rpa_widget()"
   ]
  },
  {
   "cell_type": "code",
   "execution_count": 3,
   "metadata": {},
   "outputs": [
    {
     "data": {
      "application/vnd.jupyter.widget-view+json": {
       "model_id": "647b22c6aa9c4c93aed89857dd874d7d",
       "version_major": 2,
       "version_minor": 0
      },
      "text/plain": [
       "interactive(children=(IntSlider(value=0, description='file_no', max=945, step=5), Output()), _dom_classes=('wi…"
      ]
     },
     "metadata": {},
     "output_type": "display_data"
    }
   ],
   "source": [
    "dirname = './case1'\n",
    "rpa_movie(rundir=dirname)"
   ]
  },
  {
   "cell_type": "code",
   "execution_count": null,
   "metadata": {},
   "outputs": [],
   "source": []
  }
 ],
 "metadata": {
  "kernelspec": {
   "display_name": "Python 3",
   "language": "python",
   "name": "python3"
  },
  "language_info": {
   "codemirror_mode": {
    "name": "ipython",
    "version": 3
   },
   "file_extension": ".py",
   "mimetype": "text/x-python",
   "name": "python",
   "nbconvert_exporter": "python",
   "pygments_lexer": "ipython3",
   "version": "3.7.1"
  }
 },
 "nbformat": 4,
 "nbformat_minor": 2
}
