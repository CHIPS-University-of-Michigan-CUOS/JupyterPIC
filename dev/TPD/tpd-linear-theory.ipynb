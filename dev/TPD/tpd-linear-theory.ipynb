{
 "cells": [
  {
   "cell_type": "markdown",
   "metadata": {},
   "source": [
    "## Two Plasmon Decay (TPD) In a Density Gradient:\n",
    "    \n",
    "This notebook demonstrates the TPD Instability in a linear gradient.  \n",
    "    \n",
    "The two plasmon decay (or TPD) is a parametric instability where the incident laser decays into two counter-propagating plasma waves.  In a uniform plasma, the dispersion relation and the growth rate was derived by Kruer in his book on laser plasma instabilities.  The growth rate in a uniform plasma is maximum along the hyperbola:\n",
    "    \n",
    "In a linear density gradient* near the quarter critical surface, the instability is controlled by the density gradient.  In such cases, the instability can be stablized by the density gradient and also the temperature (the thermal velocity, which is determined by the temperature, measures the amount of dephasing in the density gradient), and the laser intensity is destablizing.  Base on these considerations, one can come up with the stability condition for TPD in a density gradient:\n",
    "    \n",
    "$ k L_D \\frac{v_{osc}^2}{v_{e}^2} > C$\n",
    "    \n",
    "where C is a constant given by the particular reference.  To put this in engineering terms, the threshold condition is given by:\n",
    "\n",
    "$\\frac{I_{14}L_{100}}{T_{keV}} > C'$\n",
    "    \n",
    "\n",
    "\n",
    "* The three major papers on this topic are as follows:\n",
    "\n",
    "Liu & Rosenbluth, *Phys. Rev. Lett.*, **19**, 967 (1976).\n",
    "\n",
    "Simon & Short, & Williams & Deandre, *Phys. Fluids*, **26**, 3107 (1983).\n",
    "\n",
    "Afeyan & Williams, *Phys. Plas.*, **4**, 3827 (1997).\n",
    "\n",
    "The goal of the notebook is to explore the instability by changing the temperature and the laser intensity.  (Note that you should not decrease the temperature too much without changing the resolution).\n"
   ]
  },
  {
   "cell_type": "markdown",
   "metadata": {},
   "source": [
    "### The simulation we will perform is taken from the paper by Langdon, Lasinski and Kruer.  The simulation parameters are:   \n",
    "\n",
    "$ T_e = 1keV $\n",
    "    \n",
    "$ v_{osc}/c = 0.1 $\n",
    "    \n",
    "$L_n = 50 \\pi $ from 0 to $n_c$\n",
    "\n",
    "In the paper the ions are mobile and the nonlinear saturation is determined by ion dynamics.  However, this notebook is interested in the linear stages of the instability and ions are held fixed."
   ]
  },
  {
   "cell_type": "code",
   "execution_count": 1,
   "metadata": {},
   "outputs": [],
   "source": [
    "# **********************************\n",
    "# First Run This Cell to \n",
    "# import the necessary libraries\n",
    "# **********************************\n",
    "#\n",
    "# Please run this cell before running anything, and run this cell again if you have restarted the \n",
    "# python kernel.\n",
    "#\n",
    "# This cell imports useful routines to diagnose the simulations here\n",
    "#\n",
    "\n",
    "%matplotlib inline\n",
    "import osiris\n",
    "from osiris import tajima\n",
    "import matplotlib.pyplot as plt\n",
    "from osh5vis import osplot\n",
    "from osh5io import *\n",
    "from tpd_helper import *\n",
    "from osh5utils import fft\n",
    "from ipywidgets import interact_manual,Layout,interact, FloatSlider\n",
    "import ipywidgets as widgets\n",
    "interact_calc=interact_manual.options(manual_name=\"Make New Input and Run\")"
   ]
  },
  {
   "cell_type": "code",
   "execution_count": 4,
   "metadata": {},
   "outputs": [
    {
     "name": "stdout",
     "output_type": "stream",
     "text": [
      "n =      14809, t = 740.450\n"
     ]
    },
    {
     "ename": "KeyboardInterrupt",
     "evalue": "",
     "output_type": "error",
     "traceback": [
      "\u001b[0;31m---------------------------------------------------------------------------\u001b[0m",
      "\u001b[0;31mKeyboardInterrupt\u001b[0m                         Traceback (most recent call last)",
      "\u001b[0;32m<ipython-input-4-620b3bbaf6a2>\u001b[0m in \u001b[0;36m<module>\u001b[0;34m\u001b[0m\n\u001b[1;32m      2\u001b[0m \u001b[0;34m\u001b[0m\u001b[0m\n\u001b[1;32m      3\u001b[0m \u001b[0;34m\u001b[0m\u001b[0m\n\u001b[0;32m----> 4\u001b[0;31m \u001b[0mosiris\u001b[0m\u001b[0;34m.\u001b[0m\u001b[0mrunosiris_2d\u001b[0m\u001b[0;34m(\u001b[0m\u001b[0mrundir\u001b[0m\u001b[0;34m=\u001b[0m\u001b[0;34m'langdon-fixed'\u001b[0m\u001b[0;34m,\u001b[0m\u001b[0minputfile\u001b[0m\u001b[0;34m=\u001b[0m\u001b[0;34m'langdon-fixed.txt'\u001b[0m\u001b[0;34m,\u001b[0m\u001b[0mprint_out\u001b[0m\u001b[0;34m=\u001b[0m\u001b[0;34m'yes'\u001b[0m\u001b[0;34m,\u001b[0m\u001b[0mcombine\u001b[0m\u001b[0;34m=\u001b[0m\u001b[0;34m'no'\u001b[0m\u001b[0;34m)\u001b[0m\u001b[0;34m\u001b[0m\u001b[0;34m\u001b[0m\u001b[0m\n\u001b[0m",
      "\u001b[0;32m/usr/local/osiris/osiris.py\u001b[0m in \u001b[0;36mrunosiris_2d\u001b[0;34m(rundir, inputfile, print_out, combine, np)\u001b[0m\n\u001b[1;32m    291\u001b[0m                         \u001b[0mprint\u001b[0m\u001b[0;34m(\u001b[0m\u001b[0mpath\u001b[0m\u001b[0;34m,\u001b[0m \u001b[0mend\u001b[0m\u001b[0;34m=\u001b[0m\u001b[0;34m''\u001b[0m\u001b[0;34m)\u001b[0m\u001b[0;34m\u001b[0m\u001b[0;34m\u001b[0m\u001b[0m\n\u001b[1;32m    292\u001b[0m         \u001b[0;32melse\u001b[0m\u001b[0;34m:\u001b[0m\u001b[0;34m\u001b[0m\u001b[0;34m\u001b[0m\u001b[0m\n\u001b[0;32m--> 293\u001b[0;31m             \u001b[0;32mfor\u001b[0m \u001b[0mpath\u001b[0m \u001b[0;32min\u001b[0m \u001b[0mexecute\u001b[0m\u001b[0;34m(\u001b[0m\u001b[0;34m[\u001b[0m\u001b[0msysexec\u001b[0m\u001b[0;34m,\u001b[0m\u001b[0;34m\"-w\"\u001b[0m\u001b[0;34m,\u001b[0m\u001b[0mrundir\u001b[0m\u001b[0;34m,\u001b[0m\u001b[0;34m\"osiris-input.txt\"\u001b[0m\u001b[0;34m]\u001b[0m\u001b[0;34m)\u001b[0m\u001b[0;34m:\u001b[0m\u001b[0;34m\u001b[0m\u001b[0;34m\u001b[0m\u001b[0m\n\u001b[0m\u001b[1;32m    294\u001b[0m                 \u001b[0;32mif\u001b[0m \u001b[0mprint_out\u001b[0m \u001b[0;34m==\u001b[0m \u001b[0;34m'yes'\u001b[0m\u001b[0;34m:\u001b[0m\u001b[0;34m\u001b[0m\u001b[0;34m\u001b[0m\u001b[0m\n\u001b[1;32m    295\u001b[0m                     \u001b[0mwaittick\u001b[0m \u001b[0;34m+=\u001b[0m \u001b[0;36m1\u001b[0m\u001b[0;34m\u001b[0m\u001b[0;34m\u001b[0m\u001b[0m\n",
      "\u001b[0;32m/usr/local/osiris/osiris.py\u001b[0m in \u001b[0;36mexecute\u001b[0;34m(cmd)\u001b[0m\n\u001b[1;32m     36\u001b[0m \u001b[0;34m\u001b[0m\u001b[0m\n\u001b[1;32m     37\u001b[0m     \u001b[0mpopen\u001b[0m \u001b[0;34m=\u001b[0m \u001b[0msubprocess\u001b[0m\u001b[0;34m.\u001b[0m\u001b[0mPopen\u001b[0m\u001b[0;34m(\u001b[0m\u001b[0mcmd\u001b[0m\u001b[0;34m,\u001b[0m \u001b[0mstdout\u001b[0m\u001b[0;34m=\u001b[0m\u001b[0msubprocess\u001b[0m\u001b[0;34m.\u001b[0m\u001b[0mPIPE\u001b[0m\u001b[0;34m,\u001b[0m \u001b[0muniversal_newlines\u001b[0m\u001b[0;34m=\u001b[0m\u001b[0;32mTrue\u001b[0m\u001b[0;34m)\u001b[0m\u001b[0;34m\u001b[0m\u001b[0;34m\u001b[0m\u001b[0m\n\u001b[0;32m---> 38\u001b[0;31m     \u001b[0;32mfor\u001b[0m \u001b[0mstdout_line\u001b[0m \u001b[0;32min\u001b[0m \u001b[0miter\u001b[0m\u001b[0;34m(\u001b[0m\u001b[0mpopen\u001b[0m\u001b[0;34m.\u001b[0m\u001b[0mstdout\u001b[0m\u001b[0;34m.\u001b[0m\u001b[0mreadline\u001b[0m\u001b[0;34m,\u001b[0m \u001b[0;34m\"\"\u001b[0m\u001b[0;34m)\u001b[0m\u001b[0;34m:\u001b[0m\u001b[0;34m\u001b[0m\u001b[0;34m\u001b[0m\u001b[0m\n\u001b[0m\u001b[1;32m     39\u001b[0m         \u001b[0;32myield\u001b[0m \u001b[0mstdout_line\u001b[0m\u001b[0;34m\u001b[0m\u001b[0;34m\u001b[0m\u001b[0m\n\u001b[1;32m     40\u001b[0m     \u001b[0mpopen\u001b[0m\u001b[0;34m.\u001b[0m\u001b[0mstdout\u001b[0m\u001b[0;34m.\u001b[0m\u001b[0mclose\u001b[0m\u001b[0;34m(\u001b[0m\u001b[0;34m)\u001b[0m\u001b[0;34m\u001b[0m\u001b[0;34m\u001b[0m\u001b[0m\n",
      "\u001b[0;31mKeyboardInterrupt\u001b[0m: "
     ]
    }
   ],
   "source": [
    "## Here we run the simulation.  The simulation is 2D and takes a long time to run (8 CPU hours)\n",
    "\n",
    "\n",
    "osiris.runosiris_2d(rundir='langdon-fixed',inputfile='langdon-fixed.txt',print_out='yes',combine='no')"
   ]
  },
  {
   "cell_type": "code",
   "execution_count": 2,
   "metadata": {},
   "outputs": [
    {
     "data": {
      "application/vnd.jupyter.widget-view+json": {
       "model_id": "75c25486f80d4a89919a7f92c53671ce",
       "version_major": 2,
       "version_minor": 0
      },
      "text/plain": [
       "interactive(children=(IntSlider(value=0, description='file_no', max=360, step=30), Output()), _dom_classes=('w…"
      ]
     },
     "metadata": {},
     "output_type": "display_data"
    }
   ],
   "source": [
    "dirname='langdon-fixed'\n",
    "\n",
    "tpd_movie(dirname)"
   ]
  },
  {
   "cell_type": "code",
   "execution_count": 3,
   "metadata": {},
   "outputs": [],
   "source": [
    "## Below is the widget where you can change the temperature or the laser wiggle velocity (V_osc) to look at the stability\n",
    "## condition and growth rate"
   ]
  },
  {
   "cell_type": "code",
   "execution_count": 2,
   "metadata": {},
   "outputs": [
    {
     "data": {
      "application/vnd.jupyter.widget-view+json": {
       "model_id": "b2766d007fe545f3b3b29b9777a2837f",
       "version_major": 2,
       "version_minor": 0
      },
      "text/plain": [
       "interactive(children=(Text(value='langdon-fixed.txt', description='Template Input File:', layout=Layout(width=…"
      ]
     },
     "metadata": {},
     "output_type": "display_data"
    }
   ],
   "source": [
    "tpd_widget()"
   ]
  },
  {
   "cell_type": "code",
   "execution_count": 3,
   "metadata": {},
   "outputs": [
    {
     "name": "stdout",
     "output_type": "stream",
     "text": [
      "/home/jovyan/work/JupyterPIC/dev/TPD\n"
     ]
    }
   ],
   "source": [
    "##\n",
    "## debugging cell, needed to get out of sticky situations.\n",
    "##\n",
    "\n",
    "\n",
    "import os\n",
    "cwd = os.getcwd()\n",
    "print(cwd)"
   ]
  }
 ],
 "metadata": {
  "kernelspec": {
   "display_name": "Python 3",
   "language": "python",
   "name": "python3"
  },
  "language_info": {
   "codemirror_mode": {
    "name": "ipython",
    "version": 3
   },
   "file_extension": ".py",
   "mimetype": "text/x-python",
   "name": "python",
   "nbconvert_exporter": "python",
   "pygments_lexer": "ipython3",
   "version": "3.7.1"
  }
 },
 "nbformat": 4,
 "nbformat_minor": 2
}
